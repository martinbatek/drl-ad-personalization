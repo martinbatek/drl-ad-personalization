{
 "cells": [
  {
   "cell_type": "markdown",
   "id": "6a4614c0-cb54-4702-a945-0d8335964372",
   "metadata": {},
   "source": [
    "# Exploratory Data Analysis"
   ]
  },
  {
   "cell_type": "markdown",
   "id": "75a97a8c-9ec2-458e-9bd1-ac19d98c37e6",
   "metadata": {},
   "source": [
    "## Numerical feature means and variances\n",
    "\n",
    "Below I leverage `PyAthena` to calculate the overall meanns and variances of each of the numerical features in each of the datasets. The results will then be used in the `Normalization` layers used in pre-processing."
   ]
  },
  {
   "cell_type": "code",
   "execution_count": 1,
   "id": "c6b8e980-33eb-4a1d-921e-dc42d5263c63",
   "metadata": {},
   "outputs": [],
   "source": [
    "# Imports and connection\n",
    "# Imports and connection\n",
    "from pyathena import connect\n",
    "import pandas as pd\n",
    "import numpy as np\n",
    "conn = connect(s3_staging_dir='s3://mlds-final-project-bucket/athena_output/',\n",
    "               region_name='eu-west-2')"
   ]
  },
  {
   "cell_type": "code",
   "execution_count": 2,
   "id": "67967376-182e-45a1-93aa-f168c58aee02",
   "metadata": {},
   "outputs": [],
   "source": [
    "# Define numerical feature columns\n",
    "kdd12_numerical_columns = [\n",
    "    'Depth',\n",
    "    'Position',\n",
    "    'Impression'\n",
    "]\n",
    "\n",
    "avazu_numerical_columns = [\n",
    "    'hour'\n",
    "]\n",
    "\n",
    "criteo_numerical_columns = [f'int_{i}' for i in np.arange(1,14)]"
   ]
  },
  {
   "cell_type": "code",
   "execution_count": 11,
   "id": "459ba05f-56dd-4ba0-afb3-59da4cf0fce3",
   "metadata": {},
   "outputs": [
    {
     "name": "stderr",
     "output_type": "stream",
     "text": [
      "/tmp/ipykernel_1012/458039431.py:6: UserWarning: pandas only supports SQLAlchemy connectable (engine/connection) or database string URI or sqlite3 DBAPI2 connection. Other DBAPI2 objects are not tested. Please consider using SQLAlchemy.\n",
      "  means = pd.read_sql(query,conn)\n",
      "/tmp/ipykernel_1012/458039431.py:14: UserWarning: pandas only supports SQLAlchemy connectable (engine/connection) or database string URI or sqlite3 DBAPI2 connection. Other DBAPI2 objects are not tested. Please consider using SQLAlchemy.\n",
      "  variances = pd.read_sql(query,conn)\n"
     ]
    }
   ],
   "source": [
    "# Retrieve the kdd12 numerical feature means\n",
    "query = \"select\"\n",
    "for field in kdd12_numerical_columns:\n",
    "    query += f\" avg({field}) as {field},\"\n",
    "query = query[:-1] + \" from kdd12.training\"\n",
    "means = pd.read_sql(query,conn)\n",
    "means = means.T.reset_index().rename(columns={0:'mean','index':'field'})\n",
    "\n",
    "# Retrieve the kdd12 numerical feature variances\n",
    "query = \"select\"\n",
    "for field in kdd12_numerical_columns:\n",
    "    query += f\" variance({field}) as {field},\"\n",
    "query = query[:-1] + \" from kdd12.training\"\n",
    "variances = pd.read_sql(query,conn)\n",
    "variances = variances.T.reset_index().rename(columns={0:'variance','index':'field'})\n",
    "\n",
    "# Join the two dfs by field\n",
    "dist_stats = pd.merge(means, variances, on = 'field')\n",
    "\n",
    "# Export as csv\n",
    "dist_stats.to_csv('../../data/kdd12/means_variances.csv',index=False)"
   ]
  },
  {
   "cell_type": "code",
   "execution_count": 12,
   "id": "335ea6d3-cf32-4d64-b8e9-21af760bc814",
   "metadata": {},
   "outputs": [
    {
     "name": "stderr",
     "output_type": "stream",
     "text": [
      "/tmp/ipykernel_1012/4287720422.py:6: UserWarning: pandas only supports SQLAlchemy connectable (engine/connection) or database string URI or sqlite3 DBAPI2 connection. Other DBAPI2 objects are not tested. Please consider using SQLAlchemy.\n",
      "  means = pd.read_sql(query,conn)\n",
      "/tmp/ipykernel_1012/4287720422.py:14: UserWarning: pandas only supports SQLAlchemy connectable (engine/connection) or database string URI or sqlite3 DBAPI2 connection. Other DBAPI2 objects are not tested. Please consider using SQLAlchemy.\n",
      "  variances = pd.read_sql(query,conn)\n"
     ]
    }
   ],
   "source": [
    "# Do the same for avazu\n",
    "query = \"select\"\n",
    "for field in avazu_numerical_columns:\n",
    "    query += f\" avg({field}) as {field},\"\n",
    "query = query[:-1] + \" from avazu.train\"\n",
    "means = pd.read_sql(query,conn)\n",
    "means = means.T.reset_index().rename(columns={0:'mean','index':'field'})\n",
    "\n",
    "# Retrieve the kdd12 numerical feature variances\n",
    "query = \"select\"\n",
    "for field in avazu_numerical_columns:\n",
    "    query += f\" variance({field}) as {field},\"\n",
    "query = query[:-1] + \" from avazu.train\"\n",
    "variances = pd.read_sql(query,conn)\n",
    "variances = variances.T.reset_index().rename(columns={0:'variance','index':'field'})\n",
    "\n",
    "# Join the two dfs by field\n",
    "dist_stats = pd.merge(means, variances, on = 'field')\n",
    "\n",
    "# Export as csv\n",
    "dist_stats.to_csv('../../data/avazu/means_variances.csv',index=False)"
   ]
  },
  {
   "cell_type": "code",
   "execution_count": 13,
   "id": "631c7106-33b8-4093-9e59-a7bd823b9c26",
   "metadata": {},
   "outputs": [
    {
     "name": "stderr",
     "output_type": "stream",
     "text": [
      "/tmp/ipykernel_1012/841961817.py:6: UserWarning: pandas only supports SQLAlchemy connectable (engine/connection) or database string URI or sqlite3 DBAPI2 connection. Other DBAPI2 objects are not tested. Please consider using SQLAlchemy.\n",
      "  means = pd.read_sql(query,conn)\n",
      "/tmp/ipykernel_1012/841961817.py:14: UserWarning: pandas only supports SQLAlchemy connectable (engine/connection) or database string URI or sqlite3 DBAPI2 connection. Other DBAPI2 objects are not tested. Please consider using SQLAlchemy.\n",
      "  variances = pd.read_sql(query,conn)\n"
     ]
    }
   ],
   "source": [
    "# Do the same for criteo\n",
    "query = \"select\"\n",
    "for field in criteo_numerical_columns:\n",
    "    query += f\" avg({field}) as {field},\"\n",
    "query = query[:-1] + \" from criteo.train\"\n",
    "means = pd.read_sql(query,conn)\n",
    "means = means.T.reset_index().rename(columns={0:'mean','index':'field'})\n",
    "\n",
    "# Retrieve the kdd12 numerical feature variances\n",
    "query = \"select\"\n",
    "for field in criteo_numerical_columns:\n",
    "    query += f\" variance({field}) as {field},\"\n",
    "query = query[:-1] + \" from criteo.train\"\n",
    "variances = pd.read_sql(query,conn)\n",
    "variances = variances.T.reset_index().rename(columns={0:'variance','index':'field'})\n",
    "\n",
    "# Join the two dfs by field\n",
    "dist_stats = pd.merge(means, variances, on = 'field')\n",
    "\n",
    "# Export as csv\n",
    "dist_stats.to_csv('../../data/criteo/means_variances.csv',index=False)"
   ]
  }
 ],
 "metadata": {
  "kernelspec": {
   "display_name": "Python (mlds)",
   "language": "python",
   "name": "mlds"
  },
  "language_info": {
   "codemirror_mode": {
    "name": "ipython",
    "version": 3
   },
   "file_extension": ".py",
   "mimetype": "text/x-python",
   "name": "python",
   "nbconvert_exporter": "python",
   "pygments_lexer": "ipython3",
   "version": "3.9.19"
  }
 },
 "nbformat": 4,
 "nbformat_minor": 5
}
