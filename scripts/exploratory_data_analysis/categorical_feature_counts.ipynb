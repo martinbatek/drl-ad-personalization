{
 "cells": [
  {
   "cell_type": "markdown",
   "id": "b3f82b25-5391-48d3-896d-1d1565e8abbc",
   "metadata": {},
   "source": [
    "# Exploratory data analysis"
   ]
  },
  {
   "cell_type": "markdown",
   "id": "30d0f67e-8daf-44c6-bb9c-88a230473bf9",
   "metadata": {},
   "source": [
    "## Sparse categorical feature counts\n",
    "\n",
    "The script below leverages the PyAthena Python API to query summaries of each of the training datasets, showing record counts for each unique categorical feature value. These will later be used to encode the sparse categorical features as integers. As recommended by [Song et. al.](), the encoding is binned so that each sparse feature value has at least $t$ occurances in the training set with:\n",
    "\n",
    "- $t=5$ for KDD12\n",
    "- $t=10$ for Avazu\n",
    "- $t=10$ for Criteo"
   ]
  },
  {
   "cell_type": "code",
   "execution_count": 1,
   "id": "b2e78cd4-5315-42d9-99b2-a13c7fa076f6",
   "metadata": {},
   "outputs": [],
   "source": [
    "# Imports and connection\n",
    "from pyathena import connect\n",
    "import pandas as pd\n",
    "import numpy as np\n",
    "conn = connect(s3_staging_dir='s3://mlds-final-project-bucket/athena_output/',\n",
    "               region_name='eu-west-2')"
   ]
  },
  {
   "cell_type": "code",
   "execution_count": 3,
   "id": "30702bed-07f7-4cdd-a7d8-b9afad450275",
   "metadata": {},
   "outputs": [],
   "source": [
    "# Create lists of categorical colums for each dataset\n",
    "kdd12_categorical_columns = [\n",
    "    'DisplayURL',\n",
    "    'AdID',\n",
    "    'AdvertiserID',\n",
    "    'QueryID',\n",
    "    'KeywordID',\n",
    "    'TitleID',\n",
    "    'DescriptionID',\n",
    "    'UserID'\n",
    "]\n",
    "\n",
    "avazu_categorical_columns = [\n",
    "    'C1',\n",
    "    'banner_pos',\n",
    "    'site_id',\n",
    "    'site_domain',\n",
    "    'site_category',\n",
    "    'app_id',\n",
    "    'app_domain',\n",
    "    'app_category',\n",
    "    'device_id',\n",
    "    'device_ip',\n",
    "    'device_model',\n",
    "    'device_type',\n",
    "    'device_conn_type',\n",
    "    'C14',\n",
    "    'C15',\n",
    "    'C16',\n",
    "    'C17',\n",
    "    'C18',\n",
    "    'C19',\n",
    "    'C20',\n",
    "    'C21'\n",
    "]\n",
    "\n",
    "\n",
    "criteo_categorical_columns = [f'cat_{i}' for i in np.arange(1,27)]"
   ]
  },
  {
   "cell_type": "code",
   "execution_count": 6,
   "id": "48ea4cd1-b69b-4e4a-bfe2-9fd1e0f2b0f2",
   "metadata": {},
   "outputs": [
    {
     "name": "stderr",
     "output_type": "stream",
     "text": [
      "/tmp/ipykernel_2370/868477887.py:4: UserWarning: pandas only supports SQLAlchemy connectable (engine/connection) or database string URI or sqlite3 DBAPI2 connection. Other DBAPI2 objects are not tested. Please consider using SQLAlchemy.\n",
      "  df = pd.read_sql(query,conn)\n",
      "/tmp/ipykernel_2370/868477887.py:4: UserWarning: pandas only supports SQLAlchemy connectable (engine/connection) or database string URI or sqlite3 DBAPI2 connection. Other DBAPI2 objects are not tested. Please consider using SQLAlchemy.\n",
      "  df = pd.read_sql(query,conn)\n",
      "/tmp/ipykernel_2370/868477887.py:4: UserWarning: pandas only supports SQLAlchemy connectable (engine/connection) or database string URI or sqlite3 DBAPI2 connection. Other DBAPI2 objects are not tested. Please consider using SQLAlchemy.\n",
      "  df = pd.read_sql(query,conn)\n",
      "/tmp/ipykernel_2370/868477887.py:4: UserWarning: pandas only supports SQLAlchemy connectable (engine/connection) or database string URI or sqlite3 DBAPI2 connection. Other DBAPI2 objects are not tested. Please consider using SQLAlchemy.\n",
      "  df = pd.read_sql(query,conn)\n",
      "/tmp/ipykernel_2370/868477887.py:4: UserWarning: pandas only supports SQLAlchemy connectable (engine/connection) or database string URI or sqlite3 DBAPI2 connection. Other DBAPI2 objects are not tested. Please consider using SQLAlchemy.\n",
      "  df = pd.read_sql(query,conn)\n",
      "/tmp/ipykernel_2370/868477887.py:4: UserWarning: pandas only supports SQLAlchemy connectable (engine/connection) or database string URI or sqlite3 DBAPI2 connection. Other DBAPI2 objects are not tested. Please consider using SQLAlchemy.\n",
      "  df = pd.read_sql(query,conn)\n",
      "/tmp/ipykernel_2370/868477887.py:4: UserWarning: pandas only supports SQLAlchemy connectable (engine/connection) or database string URI or sqlite3 DBAPI2 connection. Other DBAPI2 objects are not tested. Please consider using SQLAlchemy.\n",
      "  df = pd.read_sql(query,conn)\n",
      "/tmp/ipykernel_2370/868477887.py:4: UserWarning: pandas only supports SQLAlchemy connectable (engine/connection) or database string URI or sqlite3 DBAPI2 connection. Other DBAPI2 objects are not tested. Please consider using SQLAlchemy.\n",
      "  df = pd.read_sql(query,conn)\n"
     ]
    }
   ],
   "source": [
    "# Export the categorical value counts as csv files\n",
    "for field in kdd12_categorical_columns:\n",
    "    query = \"select {field} as field, count(*) as record_count from kdd12.training group by {field} order by record_count desc\".format(field=field)\n",
    "    df = pd.read_sql(query,conn)\n",
    "    # Remove entries where the record count is less than the threshold\n",
    "    df = df[df.record_count>5].reset_index(drop=True)\n",
    "    # Reset the index again to get the encoding\n",
    "    df = df.reset_index(drop=False)\n",
    "    # Write the file to the dedicated folder\n",
    "    df.to_csv(f'../../data/kdd12/categorical_value_counts/{field}.csv',index=False)"
   ]
  },
  {
   "cell_type": "code",
   "execution_count": 7,
   "id": "d5ca2c67-bfce-46f5-b49f-4e2d29641bf9",
   "metadata": {},
   "outputs": [
    {
     "name": "stderr",
     "output_type": "stream",
     "text": [
      "/tmp/ipykernel_2370/2431056531.py:3: UserWarning: pandas only supports SQLAlchemy connectable (engine/connection) or database string URI or sqlite3 DBAPI2 connection. Other DBAPI2 objects are not tested. Please consider using SQLAlchemy.\n",
      "  df = pd.read_sql(query,conn)\n",
      "/tmp/ipykernel_2370/2431056531.py:3: UserWarning: pandas only supports SQLAlchemy connectable (engine/connection) or database string URI or sqlite3 DBAPI2 connection. Other DBAPI2 objects are not tested. Please consider using SQLAlchemy.\n",
      "  df = pd.read_sql(query,conn)\n",
      "/tmp/ipykernel_2370/2431056531.py:3: UserWarning: pandas only supports SQLAlchemy connectable (engine/connection) or database string URI or sqlite3 DBAPI2 connection. Other DBAPI2 objects are not tested. Please consider using SQLAlchemy.\n",
      "  df = pd.read_sql(query,conn)\n",
      "/tmp/ipykernel_2370/2431056531.py:3: UserWarning: pandas only supports SQLAlchemy connectable (engine/connection) or database string URI or sqlite3 DBAPI2 connection. Other DBAPI2 objects are not tested. Please consider using SQLAlchemy.\n",
      "  df = pd.read_sql(query,conn)\n",
      "/tmp/ipykernel_2370/2431056531.py:3: UserWarning: pandas only supports SQLAlchemy connectable (engine/connection) or database string URI or sqlite3 DBAPI2 connection. Other DBAPI2 objects are not tested. Please consider using SQLAlchemy.\n",
      "  df = pd.read_sql(query,conn)\n",
      "/tmp/ipykernel_2370/2431056531.py:3: UserWarning: pandas only supports SQLAlchemy connectable (engine/connection) or database string URI or sqlite3 DBAPI2 connection. Other DBAPI2 objects are not tested. Please consider using SQLAlchemy.\n",
      "  df = pd.read_sql(query,conn)\n",
      "/tmp/ipykernel_2370/2431056531.py:3: UserWarning: pandas only supports SQLAlchemy connectable (engine/connection) or database string URI or sqlite3 DBAPI2 connection. Other DBAPI2 objects are not tested. Please consider using SQLAlchemy.\n",
      "  df = pd.read_sql(query,conn)\n",
      "/tmp/ipykernel_2370/2431056531.py:3: UserWarning: pandas only supports SQLAlchemy connectable (engine/connection) or database string URI or sqlite3 DBAPI2 connection. Other DBAPI2 objects are not tested. Please consider using SQLAlchemy.\n",
      "  df = pd.read_sql(query,conn)\n",
      "/tmp/ipykernel_2370/2431056531.py:3: UserWarning: pandas only supports SQLAlchemy connectable (engine/connection) or database string URI or sqlite3 DBAPI2 connection. Other DBAPI2 objects are not tested. Please consider using SQLAlchemy.\n",
      "  df = pd.read_sql(query,conn)\n",
      "/tmp/ipykernel_2370/2431056531.py:3: UserWarning: pandas only supports SQLAlchemy connectable (engine/connection) or database string URI or sqlite3 DBAPI2 connection. Other DBAPI2 objects are not tested. Please consider using SQLAlchemy.\n",
      "  df = pd.read_sql(query,conn)\n",
      "/tmp/ipykernel_2370/2431056531.py:3: UserWarning: pandas only supports SQLAlchemy connectable (engine/connection) or database string URI or sqlite3 DBAPI2 connection. Other DBAPI2 objects are not tested. Please consider using SQLAlchemy.\n",
      "  df = pd.read_sql(query,conn)\n",
      "/tmp/ipykernel_2370/2431056531.py:3: UserWarning: pandas only supports SQLAlchemy connectable (engine/connection) or database string URI or sqlite3 DBAPI2 connection. Other DBAPI2 objects are not tested. Please consider using SQLAlchemy.\n",
      "  df = pd.read_sql(query,conn)\n",
      "/tmp/ipykernel_2370/2431056531.py:3: UserWarning: pandas only supports SQLAlchemy connectable (engine/connection) or database string URI or sqlite3 DBAPI2 connection. Other DBAPI2 objects are not tested. Please consider using SQLAlchemy.\n",
      "  df = pd.read_sql(query,conn)\n",
      "/tmp/ipykernel_2370/2431056531.py:3: UserWarning: pandas only supports SQLAlchemy connectable (engine/connection) or database string URI or sqlite3 DBAPI2 connection. Other DBAPI2 objects are not tested. Please consider using SQLAlchemy.\n",
      "  df = pd.read_sql(query,conn)\n",
      "/tmp/ipykernel_2370/2431056531.py:3: UserWarning: pandas only supports SQLAlchemy connectable (engine/connection) or database string URI or sqlite3 DBAPI2 connection. Other DBAPI2 objects are not tested. Please consider using SQLAlchemy.\n",
      "  df = pd.read_sql(query,conn)\n",
      "/tmp/ipykernel_2370/2431056531.py:3: UserWarning: pandas only supports SQLAlchemy connectable (engine/connection) or database string URI or sqlite3 DBAPI2 connection. Other DBAPI2 objects are not tested. Please consider using SQLAlchemy.\n",
      "  df = pd.read_sql(query,conn)\n",
      "/tmp/ipykernel_2370/2431056531.py:3: UserWarning: pandas only supports SQLAlchemy connectable (engine/connection) or database string URI or sqlite3 DBAPI2 connection. Other DBAPI2 objects are not tested. Please consider using SQLAlchemy.\n",
      "  df = pd.read_sql(query,conn)\n",
      "/tmp/ipykernel_2370/2431056531.py:3: UserWarning: pandas only supports SQLAlchemy connectable (engine/connection) or database string URI or sqlite3 DBAPI2 connection. Other DBAPI2 objects are not tested. Please consider using SQLAlchemy.\n",
      "  df = pd.read_sql(query,conn)\n",
      "/tmp/ipykernel_2370/2431056531.py:3: UserWarning: pandas only supports SQLAlchemy connectable (engine/connection) or database string URI or sqlite3 DBAPI2 connection. Other DBAPI2 objects are not tested. Please consider using SQLAlchemy.\n",
      "  df = pd.read_sql(query,conn)\n",
      "/tmp/ipykernel_2370/2431056531.py:3: UserWarning: pandas only supports SQLAlchemy connectable (engine/connection) or database string URI or sqlite3 DBAPI2 connection. Other DBAPI2 objects are not tested. Please consider using SQLAlchemy.\n",
      "  df = pd.read_sql(query,conn)\n",
      "/tmp/ipykernel_2370/2431056531.py:3: UserWarning: pandas only supports SQLAlchemy connectable (engine/connection) or database string URI or sqlite3 DBAPI2 connection. Other DBAPI2 objects are not tested. Please consider using SQLAlchemy.\n",
      "  df = pd.read_sql(query,conn)\n"
     ]
    }
   ],
   "source": [
    "for field in avazu_categorical_columns:\n",
    "    query = \"select {field} as field, count(*) as record_count from avazu.train group by {field} order by record_count desc\".format(field=field)\n",
    "    df = pd.read_sql(query,conn)\n",
    "    # Remove entries where the record count is less than the threshold\n",
    "    df = df[df.record_count>10].reset_index(drop=True)\n",
    "    # Reset the index again to get the encoding\n",
    "    df = df.reset_index(drop=False)\n",
    "    # Write the file to the dedicated folder\n",
    "    df.to_csv(f'../../data/avazu/categorical_value_counts/{field}.csv',index=False)"
   ]
  },
  {
   "cell_type": "code",
   "execution_count": 8,
   "id": "357b95a0-b187-4182-8d94-6e8073dc3929",
   "metadata": {},
   "outputs": [
    {
     "name": "stderr",
     "output_type": "stream",
     "text": [
      "/tmp/ipykernel_2370/1257895307.py:3: UserWarning: pandas only supports SQLAlchemy connectable (engine/connection) or database string URI or sqlite3 DBAPI2 connection. Other DBAPI2 objects are not tested. Please consider using SQLAlchemy.\n",
      "  df = pd.read_sql(query,conn)\n",
      "/tmp/ipykernel_2370/1257895307.py:3: UserWarning: pandas only supports SQLAlchemy connectable (engine/connection) or database string URI or sqlite3 DBAPI2 connection. Other DBAPI2 objects are not tested. Please consider using SQLAlchemy.\n",
      "  df = pd.read_sql(query,conn)\n",
      "/tmp/ipykernel_2370/1257895307.py:3: UserWarning: pandas only supports SQLAlchemy connectable (engine/connection) or database string URI or sqlite3 DBAPI2 connection. Other DBAPI2 objects are not tested. Please consider using SQLAlchemy.\n",
      "  df = pd.read_sql(query,conn)\n",
      "/tmp/ipykernel_2370/1257895307.py:3: UserWarning: pandas only supports SQLAlchemy connectable (engine/connection) or database string URI or sqlite3 DBAPI2 connection. Other DBAPI2 objects are not tested. Please consider using SQLAlchemy.\n",
      "  df = pd.read_sql(query,conn)\n",
      "/tmp/ipykernel_2370/1257895307.py:3: UserWarning: pandas only supports SQLAlchemy connectable (engine/connection) or database string URI or sqlite3 DBAPI2 connection. Other DBAPI2 objects are not tested. Please consider using SQLAlchemy.\n",
      "  df = pd.read_sql(query,conn)\n",
      "/tmp/ipykernel_2370/1257895307.py:3: UserWarning: pandas only supports SQLAlchemy connectable (engine/connection) or database string URI or sqlite3 DBAPI2 connection. Other DBAPI2 objects are not tested. Please consider using SQLAlchemy.\n",
      "  df = pd.read_sql(query,conn)\n",
      "/tmp/ipykernel_2370/1257895307.py:3: UserWarning: pandas only supports SQLAlchemy connectable (engine/connection) or database string URI or sqlite3 DBAPI2 connection. Other DBAPI2 objects are not tested. Please consider using SQLAlchemy.\n",
      "  df = pd.read_sql(query,conn)\n",
      "/tmp/ipykernel_2370/1257895307.py:3: UserWarning: pandas only supports SQLAlchemy connectable (engine/connection) or database string URI or sqlite3 DBAPI2 connection. Other DBAPI2 objects are not tested. Please consider using SQLAlchemy.\n",
      "  df = pd.read_sql(query,conn)\n",
      "/tmp/ipykernel_2370/1257895307.py:3: UserWarning: pandas only supports SQLAlchemy connectable (engine/connection) or database string URI or sqlite3 DBAPI2 connection. Other DBAPI2 objects are not tested. Please consider using SQLAlchemy.\n",
      "  df = pd.read_sql(query,conn)\n",
      "/tmp/ipykernel_2370/1257895307.py:3: UserWarning: pandas only supports SQLAlchemy connectable (engine/connection) or database string URI or sqlite3 DBAPI2 connection. Other DBAPI2 objects are not tested. Please consider using SQLAlchemy.\n",
      "  df = pd.read_sql(query,conn)\n",
      "/tmp/ipykernel_2370/1257895307.py:3: UserWarning: pandas only supports SQLAlchemy connectable (engine/connection) or database string URI or sqlite3 DBAPI2 connection. Other DBAPI2 objects are not tested. Please consider using SQLAlchemy.\n",
      "  df = pd.read_sql(query,conn)\n",
      "/tmp/ipykernel_2370/1257895307.py:3: UserWarning: pandas only supports SQLAlchemy connectable (engine/connection) or database string URI or sqlite3 DBAPI2 connection. Other DBAPI2 objects are not tested. Please consider using SQLAlchemy.\n",
      "  df = pd.read_sql(query,conn)\n",
      "/tmp/ipykernel_2370/1257895307.py:3: UserWarning: pandas only supports SQLAlchemy connectable (engine/connection) or database string URI or sqlite3 DBAPI2 connection. Other DBAPI2 objects are not tested. Please consider using SQLAlchemy.\n",
      "  df = pd.read_sql(query,conn)\n",
      "/tmp/ipykernel_2370/1257895307.py:3: UserWarning: pandas only supports SQLAlchemy connectable (engine/connection) or database string URI or sqlite3 DBAPI2 connection. Other DBAPI2 objects are not tested. Please consider using SQLAlchemy.\n",
      "  df = pd.read_sql(query,conn)\n",
      "/tmp/ipykernel_2370/1257895307.py:3: UserWarning: pandas only supports SQLAlchemy connectable (engine/connection) or database string URI or sqlite3 DBAPI2 connection. Other DBAPI2 objects are not tested. Please consider using SQLAlchemy.\n",
      "  df = pd.read_sql(query,conn)\n",
      "/tmp/ipykernel_2370/1257895307.py:3: UserWarning: pandas only supports SQLAlchemy connectable (engine/connection) or database string URI or sqlite3 DBAPI2 connection. Other DBAPI2 objects are not tested. Please consider using SQLAlchemy.\n",
      "  df = pd.read_sql(query,conn)\n",
      "/tmp/ipykernel_2370/1257895307.py:3: UserWarning: pandas only supports SQLAlchemy connectable (engine/connection) or database string URI or sqlite3 DBAPI2 connection. Other DBAPI2 objects are not tested. Please consider using SQLAlchemy.\n",
      "  df = pd.read_sql(query,conn)\n",
      "/tmp/ipykernel_2370/1257895307.py:3: UserWarning: pandas only supports SQLAlchemy connectable (engine/connection) or database string URI or sqlite3 DBAPI2 connection. Other DBAPI2 objects are not tested. Please consider using SQLAlchemy.\n",
      "  df = pd.read_sql(query,conn)\n",
      "/tmp/ipykernel_2370/1257895307.py:3: UserWarning: pandas only supports SQLAlchemy connectable (engine/connection) or database string URI or sqlite3 DBAPI2 connection. Other DBAPI2 objects are not tested. Please consider using SQLAlchemy.\n",
      "  df = pd.read_sql(query,conn)\n",
      "/tmp/ipykernel_2370/1257895307.py:3: UserWarning: pandas only supports SQLAlchemy connectable (engine/connection) or database string URI or sqlite3 DBAPI2 connection. Other DBAPI2 objects are not tested. Please consider using SQLAlchemy.\n",
      "  df = pd.read_sql(query,conn)\n",
      "/tmp/ipykernel_2370/1257895307.py:3: UserWarning: pandas only supports SQLAlchemy connectable (engine/connection) or database string URI or sqlite3 DBAPI2 connection. Other DBAPI2 objects are not tested. Please consider using SQLAlchemy.\n",
      "  df = pd.read_sql(query,conn)\n",
      "/tmp/ipykernel_2370/1257895307.py:3: UserWarning: pandas only supports SQLAlchemy connectable (engine/connection) or database string URI or sqlite3 DBAPI2 connection. Other DBAPI2 objects are not tested. Please consider using SQLAlchemy.\n",
      "  df = pd.read_sql(query,conn)\n",
      "/tmp/ipykernel_2370/1257895307.py:3: UserWarning: pandas only supports SQLAlchemy connectable (engine/connection) or database string URI or sqlite3 DBAPI2 connection. Other DBAPI2 objects are not tested. Please consider using SQLAlchemy.\n",
      "  df = pd.read_sql(query,conn)\n",
      "/tmp/ipykernel_2370/1257895307.py:3: UserWarning: pandas only supports SQLAlchemy connectable (engine/connection) or database string URI or sqlite3 DBAPI2 connection. Other DBAPI2 objects are not tested. Please consider using SQLAlchemy.\n",
      "  df = pd.read_sql(query,conn)\n",
      "/tmp/ipykernel_2370/1257895307.py:3: UserWarning: pandas only supports SQLAlchemy connectable (engine/connection) or database string URI or sqlite3 DBAPI2 connection. Other DBAPI2 objects are not tested. Please consider using SQLAlchemy.\n",
      "  df = pd.read_sql(query,conn)\n",
      "/tmp/ipykernel_2370/1257895307.py:3: UserWarning: pandas only supports SQLAlchemy connectable (engine/connection) or database string URI or sqlite3 DBAPI2 connection. Other DBAPI2 objects are not tested. Please consider using SQLAlchemy.\n",
      "  df = pd.read_sql(query,conn)\n"
     ]
    }
   ],
   "source": [
    "for field in criteo_categorical_columns:\n",
    "    query = \"select {field} as field, count(*) as record_count from criteo.train group by {field} order by record_count desc\".format(field=field)\n",
    "    df = pd.read_sql(query,conn)\n",
    "    # Remove entries where the record count is less than the threshold\n",
    "    df = df[df.record_count>10].reset_index(drop=True)\n",
    "    # Reset the index again to get the encoding\n",
    "    df = df.reset_index(drop=False)\n",
    "    # Write the file to the dedicated folder\n",
    "    df.to_csv(f'../../data/criteo/categorical_value_counts/{field}.csv',index=False)"
   ]
  }
 ],
 "metadata": {
  "kernelspec": {
   "display_name": "Python (mlds)",
   "language": "python",
   "name": "mlds"
  },
  "language_info": {
   "codemirror_mode": {
    "name": "ipython",
    "version": 3
   },
   "file_extension": ".py",
   "mimetype": "text/x-python",
   "name": "python",
   "nbconvert_exporter": "python",
   "pygments_lexer": "ipython3",
   "version": "3.9.19"
  }
 },
 "nbformat": 4,
 "nbformat_minor": 5
}
