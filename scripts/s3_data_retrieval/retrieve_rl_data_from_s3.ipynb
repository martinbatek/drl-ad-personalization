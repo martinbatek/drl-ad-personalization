{
 "cells": [
  {
   "cell_type": "code",
   "execution_count": 1,
   "id": "bb5f91fd-5a8b-4e6f-b9cc-7c181fbe42a8",
   "metadata": {},
   "outputs": [
    {
     "name": "stderr",
     "output_type": "stream",
     "text": [
      "2024-08-09 10:18:37.877879: E tensorflow/compiler/xla/stream_executor/cuda/cuda_dnn.cc:9342] Unable to register cuDNN factory: Attempting to register factory for plugin cuDNN when one has already been registered\n",
      "2024-08-09 10:18:37.877942: E tensorflow/compiler/xla/stream_executor/cuda/cuda_fft.cc:609] Unable to register cuFFT factory: Attempting to register factory for plugin cuFFT when one has already been registered\n",
      "2024-08-09 10:18:37.877958: E tensorflow/compiler/xla/stream_executor/cuda/cuda_blas.cc:1518] Unable to register cuBLAS factory: Attempting to register factory for plugin cuBLAS when one has already been registered\n",
      "2024-08-09 10:18:37.885807: I tensorflow/core/platform/cpu_feature_guard.cc:182] This TensorFlow binary is optimized to use available CPU instructions in performance-critical operations.\n",
      "To enable the following instructions: SSE4.1 SSE4.2 AVX AVX2 FMA, in other operations, rebuild TensorFlow with the appropriate compiler flags.\n"
     ]
    }
   ],
   "source": [
    "# Import necessary libraries\n",
    "from tensorflow.keras.utils import get_file\n",
    "import boto3\n",
    "import os"
   ]
  },
  {
   "cell_type": "code",
   "execution_count": 2,
   "id": "c38d693c-41e6-43d8-ac09-e67bb69c418e",
   "metadata": {},
   "outputs": [],
   "source": [
    "def list_files_in_folder(bucket_name, folder_name):\n",
    "    out = []\n",
    "    # Create a Boto3 client for S3\n",
    "    s3_client = boto3.client('s3')\n",
    " \n",
    "    response = s3_client.list_objects_v2(Bucket=bucket_name, Prefix=folder_name)\n",
    " \n",
    " \n",
    "    if 'Contents' in response:\n",
    "    \n",
    "        for obj in response['Contents']:\n",
    "            out.append(obj['Key'])\n",
    "        out = out[1:]\n",
    "        return out\n",
    "    else:\n",
    "        print(\"Folder is empty.\")"
   ]
  },
  {
   "cell_type": "code",
   "execution_count": 4,
   "id": "4dd6a258-bde9-474c-b2de-31a3ac2c4639",
   "metadata": {},
   "outputs": [
    {
     "name": "stdout",
     "output_type": "stream",
     "text": [
      "Downloading data from https://mlds-final-project-bucket.s3.eu-west-2.amazonaws.com/kdd12/train/rl_data/pretrain/train/output_1723142339/part-00001-c41d6609-2d05-4f73-a0d2-04d00fe97aa6-c000.csv.gz\n",
      "81860045/81860045 [==============================] - 1s 0us/step\n",
      "Downloading data from https://mlds-final-project-bucket.s3.eu-west-2.amazonaws.com/kdd12/train/rl_data/pretrain/train/output_1723142339/part-00002-c41d6609-2d05-4f73-a0d2-04d00fe97aa6-c000.csv.gz\n",
      "80927535/80927535 [==============================] - 1s 0us/step\n",
      "Downloading data from https://mlds-final-project-bucket.s3.eu-west-2.amazonaws.com/kdd12/train/rl_data/pretrain/train/output_1723142339/part-00003-c41d6609-2d05-4f73-a0d2-04d00fe97aa6-c000.csv.gz\n",
      "80829776/80829776 [==============================] - 1s 0us/step\n",
      "Downloading data from https://mlds-final-project-bucket.s3.eu-west-2.amazonaws.com/kdd12/train/rl_data/pretrain/train/output_1723142339/part-00004-c41d6609-2d05-4f73-a0d2-04d00fe97aa6-c000.csv.gz\n",
      "80485751/80485751 [==============================] - 1s 0us/step\n",
      "Downloading data from https://mlds-final-project-bucket.s3.eu-west-2.amazonaws.com/kdd12/train/rl_data/pretrain/train/output_1723142339/part-00005-c41d6609-2d05-4f73-a0d2-04d00fe97aa6-c000.csv.gz\n",
      "79774357/79774357 [==============================] - 1s 0us/step\n",
      "Downloading data from https://mlds-final-project-bucket.s3.eu-west-2.amazonaws.com/kdd12/train/rl_data/pretrain/train/output_1723142339/part-00006-c41d6609-2d05-4f73-a0d2-04d00fe97aa6-c000.csv.gz\n",
      "79071468/79071468 [==============================] - 1s 0us/step\n",
      "Downloading data from https://mlds-final-project-bucket.s3.eu-west-2.amazonaws.com/kdd12/train/rl_data/pretrain/train/output_1723142339/part-00007-c41d6609-2d05-4f73-a0d2-04d00fe97aa6-c000.csv.gz\n",
      "78772315/78772315 [==============================] - 1s 0us/step\n",
      "Downloading data from https://mlds-final-project-bucket.s3.eu-west-2.amazonaws.com/kdd12/train/rl_data/pretrain/train/output_1723142339/part-00008-c41d6609-2d05-4f73-a0d2-04d00fe97aa6-c000.csv.gz\n",
      "79109716/79109716 [==============================] - 1s 0us/step\n",
      "Downloading data from https://mlds-final-project-bucket.s3.eu-west-2.amazonaws.com/kdd12/train/rl_data/pretrain/train/output_1723142339/part-00009-c41d6609-2d05-4f73-a0d2-04d00fe97aa6-c000.csv.gz\n",
      "78971857/78971857 [==============================] - 1s 0us/step\n",
      "Downloading data from https://mlds-final-project-bucket.s3.eu-west-2.amazonaws.com/kdd12/train/rl_data/pretrain/train/output_1723142339/part-00010-c41d6609-2d05-4f73-a0d2-04d00fe97aa6-c000.csv.gz\n",
      "79004970/79004970 [==============================] - 1s 0us/step\n",
      "Downloading data from https://mlds-final-project-bucket.s3.eu-west-2.amazonaws.com/kdd12/train/rl_data/pretrain/train/output_1723142339/part-00011-c41d6609-2d05-4f73-a0d2-04d00fe97aa6-c000.csv.gz\n",
      "78755454/78755454 [==============================] - 1s 0us/step\n",
      "Downloading data from https://mlds-final-project-bucket.s3.eu-west-2.amazonaws.com/kdd12/train/rl_data/pretrain/train/output_1723142339/part-00012-c41d6609-2d05-4f73-a0d2-04d00fe97aa6-c000.csv.gz\n",
      "78387337/78387337 [==============================] - 1s 0us/step\n",
      "Downloading data from https://mlds-final-project-bucket.s3.eu-west-2.amazonaws.com/kdd12/train/rl_data/pretrain/train/output_1723142339/part-00013-c41d6609-2d05-4f73-a0d2-04d00fe97aa6-c000.csv.gz\n",
      "76893148/76893148 [==============================] - 1s 0us/step\n",
      "Downloading data from https://mlds-final-project-bucket.s3.eu-west-2.amazonaws.com/kdd12/train/rl_data/pretrain/train/output_1723142339/part-00014-c41d6609-2d05-4f73-a0d2-04d00fe97aa6-c000.csv.gz\n",
      "49830108/49830108 [==============================] - 0s 0us/step\n"
     ]
    }
   ],
   "source": [
    "# Pretraining train split\n",
    "bucket_name = 'mlds-final-project-bucket'\n",
    "folder_name = 'kdd12/train/rl_data/pretrain/train/'\n",
    "keys = list_files_in_folder(bucket_name, folder_name)\n",
    "filenames = [f\"https://{bucket_name}.s3.eu-west-2.amazonaws.com/{key}\" for key in keys]\n",
    "for filename in filenames:\n",
    "    get_file(\n",
    "        fname=filename.split(\"/\")[-1], \n",
    "        origin=filename,\n",
    "        cache_dir=\"../../data\",\n",
    "        cache_subdir=\"kdd12/rl_data/pretraining/train\"\n",
    "    )"
   ]
  },
  {
   "cell_type": "code",
   "execution_count": 5,
   "id": "8ef538bf-b5a5-4f0b-bf9e-4e0e2050128d",
   "metadata": {},
   "outputs": [
    {
     "name": "stdout",
     "output_type": "stream",
     "text": [
      "Downloading data from https://mlds-final-project-bucket.s3.eu-west-2.amazonaws.com/kdd12/train/rl_data/pretrain/test/output_1723142513/part-00001-69bb7b3b-b72e-4c73-95f7-a08eac891d82-c000.csv.gz\n",
      "23129837/23129837 [==============================] - 0s 0us/step\n",
      "Downloading data from https://mlds-final-project-bucket.s3.eu-west-2.amazonaws.com/kdd12/train/rl_data/pretrain/test/output_1723142513/part-00002-69bb7b3b-b72e-4c73-95f7-a08eac891d82-c000.csv.gz\n",
      "23008180/23008180 [==============================] - 0s 0us/step\n",
      "Downloading data from https://mlds-final-project-bucket.s3.eu-west-2.amazonaws.com/kdd12/train/rl_data/pretrain/test/output_1723142513/part-00003-69bb7b3b-b72e-4c73-95f7-a08eac891d82-c000.csv.gz\n",
      "22883053/22883053 [==============================] - 0s 0us/step\n",
      "Downloading data from https://mlds-final-project-bucket.s3.eu-west-2.amazonaws.com/kdd12/train/rl_data/pretrain/test/output_1723142513/part-00004-69bb7b3b-b72e-4c73-95f7-a08eac891d82-c000.csv.gz\n",
      "22930404/22930404 [==============================] - 0s 0us/step\n",
      "Downloading data from https://mlds-final-project-bucket.s3.eu-west-2.amazonaws.com/kdd12/train/rl_data/pretrain/test/output_1723142513/part-00005-69bb7b3b-b72e-4c73-95f7-a08eac891d82-c000.csv.gz\n",
      "22682006/22682006 [==============================] - 0s 0us/step\n",
      "Downloading data from https://mlds-final-project-bucket.s3.eu-west-2.amazonaws.com/kdd12/train/rl_data/pretrain/test/output_1723142513/part-00006-69bb7b3b-b72e-4c73-95f7-a08eac891d82-c000.csv.gz\n",
      "22777948/22777948 [==============================] - 0s 0us/step\n",
      "Downloading data from https://mlds-final-project-bucket.s3.eu-west-2.amazonaws.com/kdd12/train/rl_data/pretrain/test/output_1723142513/part-00007-69bb7b3b-b72e-4c73-95f7-a08eac891d82-c000.csv.gz\n",
      "22587530/22587530 [==============================] - 0s 0us/step\n",
      "Downloading data from https://mlds-final-project-bucket.s3.eu-west-2.amazonaws.com/kdd12/train/rl_data/pretrain/test/output_1723142513/part-00008-69bb7b3b-b72e-4c73-95f7-a08eac891d82-c000.csv.gz\n",
      "22593066/22593066 [==============================] - 0s 0us/step\n",
      "Downloading data from https://mlds-final-project-bucket.s3.eu-west-2.amazonaws.com/kdd12/train/rl_data/pretrain/test/output_1723142513/part-00009-69bb7b3b-b72e-4c73-95f7-a08eac891d82-c000.csv.gz\n",
      "22624499/22624499 [==============================] - 0s 0us/step\n",
      "Downloading data from https://mlds-final-project-bucket.s3.eu-west-2.amazonaws.com/kdd12/train/rl_data/pretrain/test/output_1723142513/part-00010-69bb7b3b-b72e-4c73-95f7-a08eac891d82-c000.csv.gz\n",
      "22496436/22496436 [==============================] - 0s 0us/step\n",
      "Downloading data from https://mlds-final-project-bucket.s3.eu-west-2.amazonaws.com/kdd12/train/rl_data/pretrain/test/output_1723142513/part-00011-69bb7b3b-b72e-4c73-95f7-a08eac891d82-c000.csv.gz\n",
      "22527851/22527851 [==============================] - 0s 0us/step\n",
      "Downloading data from https://mlds-final-project-bucket.s3.eu-west-2.amazonaws.com/kdd12/train/rl_data/pretrain/test/output_1723142513/part-00012-69bb7b3b-b72e-4c73-95f7-a08eac891d82-c000.csv.gz\n",
      "22620992/22620992 [==============================] - 0s 0us/step\n",
      "Downloading data from https://mlds-final-project-bucket.s3.eu-west-2.amazonaws.com/kdd12/train/rl_data/pretrain/test/output_1723142513/part-00013-69bb7b3b-b72e-4c73-95f7-a08eac891d82-c000.csv.gz\n",
      "22383660/22383660 [==============================] - 0s 0us/step\n",
      "Downloading data from https://mlds-final-project-bucket.s3.eu-west-2.amazonaws.com/kdd12/train/rl_data/pretrain/test/output_1723142513/part-00014-69bb7b3b-b72e-4c73-95f7-a08eac891d82-c000.csv.gz\n",
      "14595821/14595821 [==============================] - 0s 0us/step\n"
     ]
    }
   ],
   "source": [
    "# Pretraining tesut split\n",
    "bucket_name = 'mlds-final-project-bucket'\n",
    "folder_name = 'kdd12/train/rl_data/pretrain/test/'\n",
    "keys = list_files_in_folder(bucket_name, folder_name)\n",
    "filenames = [f\"https://{bucket_name}.s3.eu-west-2.amazonaws.com/{key}\" for key in keys]\n",
    "for filename in filenames:\n",
    "    get_file(\n",
    "        fname=filename.split(\"/\")[-1], \n",
    "        origin=filename,\n",
    "        cache_dir=\"../../data\",\n",
    "        cache_subdir=\"kdd12/rl_data/pretraining/test\"\n",
    "    )"
   ]
  },
  {
   "cell_type": "code",
   "execution_count": 3,
   "id": "7bd4f999-cef8-4dfc-81ac-62d280051f29",
   "metadata": {},
   "outputs": [
    {
     "name": "stdout",
     "output_type": "stream",
     "text": [
      "Downloading data from https://mlds-final-project-bucket.s3.eu-west-2.amazonaws.com/kdd12/train/rl_data/offline_rl_queries/20240809_095701_00038_ukwva_44fd9d40-8546-4e6a-aaa0-0da24c4a5f71.gz\n",
      "437368/437368 [==============================] - 0s 0us/step\n",
      "Downloading data from https://mlds-final-project-bucket.s3.eu-west-2.amazonaws.com/kdd12/train/rl_data/offline_rl_queries/20240809_095701_00038_ukwva_9968b881-9424-422a-af3d-fa809dc33ab9.gz\n",
      "436818/436818 [==============================] - 0s 0us/step\n",
      "Downloading data from https://mlds-final-project-bucket.s3.eu-west-2.amazonaws.com/kdd12/train/rl_data/offline_rl_queries/20240809_095701_00038_ukwva_9f4f8119-c2df-45cc-b313-f56b859df0a1.gz\n",
      "436457/436457 [==============================] - 0s 0us/step\n",
      "Downloading data from https://mlds-final-project-bucket.s3.eu-west-2.amazonaws.com/kdd12/train/rl_data/offline_rl_queries/20240809_095701_00038_ukwva_a3e04a57-9d45-4e84-81b2-bfb6881deb79.gz\n",
      "437906/437906 [==============================] - 0s 0us/step\n"
     ]
    }
   ],
   "source": [
    "# RL user query combinations\n",
    "bucket_name = 'mlds-final-project-bucket'\n",
    "folder_name = 'kdd12/train/rl_data/offline_rl_queries/'\n",
    "keys = list_files_in_folder(bucket_name, folder_name)\n",
    "filenames = [f\"https://{bucket_name}.s3.eu-west-2.amazonaws.com/{key}\" for key in keys]\n",
    "for filename in filenames:\n",
    "    get_file(\n",
    "        fname=filename.split(\"/\")[-1], \n",
    "        origin=filename,\n",
    "        cache_dir=\"../../data\",\n",
    "        cache_subdir=\"kdd12/rl_data/rl_queries\"\n",
    "    )"
   ]
  }
 ],
 "metadata": {
  "kernelspec": {
   "display_name": "Python (mlds_gpu)",
   "language": "python",
   "name": "mlds_gpu"
  },
  "language_info": {
   "codemirror_mode": {
    "name": "ipython",
    "version": 3
   },
   "file_extension": ".py",
   "mimetype": "text/x-python",
   "name": "python",
   "nbconvert_exporter": "python",
   "pygments_lexer": "ipython3",
   "version": "3.10.14"
  }
 },
 "nbformat": 4,
 "nbformat_minor": 5
}
