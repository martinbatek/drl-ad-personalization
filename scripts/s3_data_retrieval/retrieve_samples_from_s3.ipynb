{
 "cells": [
  {
   "cell_type": "code",
   "execution_count": 4,
   "metadata": {},
   "outputs": [],
   "source": [
    "# Import necessary libraries\n",
    "import pandas as pd\n",
    "import boto3\n",
    "from botocore import UNSIGNED\n",
    "from botocore.client import Config\n",
    "\n",
    "# Set sample size\n",
    "n = 100000"
   ]
  },
  {
   "cell_type": "code",
   "execution_count": 5,
   "metadata": {},
   "outputs": [
    {
     "ename": "ClientError",
     "evalue": "An error occurred (AccessDenied) when calling the ListObjectsV2 operation: Access Denied",
     "output_type": "error",
     "traceback": [
      "\u001b[0;31m---------------------------------------------------------------------------\u001b[0m",
      "\u001b[0;31mClientError\u001b[0m                               Traceback (most recent call last)",
      "Cell \u001b[0;32mIn[5], line 9\u001b[0m\n\u001b[1;32m      6\u001b[0m s3_client \u001b[38;5;241m=\u001b[39m boto3\u001b[38;5;241m.\u001b[39mclient(\u001b[38;5;124m'\u001b[39m\u001b[38;5;124ms3\u001b[39m\u001b[38;5;124m'\u001b[39m, region_name\u001b[38;5;241m=\u001b[39m\u001b[38;5;124m'\u001b[39m\u001b[38;5;124meu-west-2\u001b[39m\u001b[38;5;124m'\u001b[39m, config\u001b[38;5;241m=\u001b[39mConfig(signature_version\u001b[38;5;241m=\u001b[39mUNSIGNED))\n\u001b[1;32m      8\u001b[0m \u001b[38;5;66;03m## List objects within a S3 bucket prefix and read to pandas for the first n rows\u001b[39;00m\n\u001b[0;32m----> 9\u001b[0m response \u001b[38;5;241m=\u001b[39m \u001b[43ms3_client\u001b[49m\u001b[38;5;241;43m.\u001b[39;49m\u001b[43mlist_objects_v2\u001b[49m\u001b[43m(\u001b[49m\u001b[43mBucket\u001b[49m\u001b[38;5;241;43m=\u001b[39;49m\u001b[43mbucket\u001b[49m\u001b[43m,\u001b[49m\u001b[43m \u001b[49m\u001b[43mPrefix\u001b[49m\u001b[38;5;241;43m=\u001b[39;49m\u001b[43mprefix\u001b[49m\u001b[43m)\u001b[49m\n\u001b[1;32m     10\u001b[0m kdd12_data \u001b[38;5;241m=\u001b[39m pd\u001b[38;5;241m.\u001b[39mDataFrame()\n\u001b[1;32m     11\u001b[0m rows \u001b[38;5;241m=\u001b[39m n\n",
      "File \u001b[0;32m~/anaconda3/envs/mlds/lib/python3.9/site-packages/botocore/client.py:565\u001b[0m, in \u001b[0;36mClientCreator._create_api_method.<locals>._api_call\u001b[0;34m(self, *args, **kwargs)\u001b[0m\n\u001b[1;32m    561\u001b[0m     \u001b[38;5;28;01mraise\u001b[39;00m \u001b[38;5;167;01mTypeError\u001b[39;00m(\n\u001b[1;32m    562\u001b[0m         \u001b[38;5;124mf\u001b[39m\u001b[38;5;124m\"\u001b[39m\u001b[38;5;132;01m{\u001b[39;00mpy_operation_name\u001b[38;5;132;01m}\u001b[39;00m\u001b[38;5;124m() only accepts keyword arguments.\u001b[39m\u001b[38;5;124m\"\u001b[39m\n\u001b[1;32m    563\u001b[0m     )\n\u001b[1;32m    564\u001b[0m \u001b[38;5;66;03m# The \"self\" in this scope is referring to the BaseClient.\u001b[39;00m\n\u001b[0;32m--> 565\u001b[0m \u001b[38;5;28;01mreturn\u001b[39;00m \u001b[38;5;28;43mself\u001b[39;49m\u001b[38;5;241;43m.\u001b[39;49m\u001b[43m_make_api_call\u001b[49m\u001b[43m(\u001b[49m\u001b[43moperation_name\u001b[49m\u001b[43m,\u001b[49m\u001b[43m \u001b[49m\u001b[43mkwargs\u001b[49m\u001b[43m)\u001b[49m\n",
      "File \u001b[0;32m~/anaconda3/envs/mlds/lib/python3.9/site-packages/botocore/client.py:1021\u001b[0m, in \u001b[0;36mBaseClient._make_api_call\u001b[0;34m(self, operation_name, api_params)\u001b[0m\n\u001b[1;32m   1017\u001b[0m     error_code \u001b[38;5;241m=\u001b[39m error_info\u001b[38;5;241m.\u001b[39mget(\u001b[38;5;124m\"\u001b[39m\u001b[38;5;124mQueryErrorCode\u001b[39m\u001b[38;5;124m\"\u001b[39m) \u001b[38;5;129;01mor\u001b[39;00m error_info\u001b[38;5;241m.\u001b[39mget(\n\u001b[1;32m   1018\u001b[0m         \u001b[38;5;124m\"\u001b[39m\u001b[38;5;124mCode\u001b[39m\u001b[38;5;124m\"\u001b[39m\n\u001b[1;32m   1019\u001b[0m     )\n\u001b[1;32m   1020\u001b[0m     error_class \u001b[38;5;241m=\u001b[39m \u001b[38;5;28mself\u001b[39m\u001b[38;5;241m.\u001b[39mexceptions\u001b[38;5;241m.\u001b[39mfrom_code(error_code)\n\u001b[0;32m-> 1021\u001b[0m     \u001b[38;5;28;01mraise\u001b[39;00m error_class(parsed_response, operation_name)\n\u001b[1;32m   1022\u001b[0m \u001b[38;5;28;01melse\u001b[39;00m:\n\u001b[1;32m   1023\u001b[0m     \u001b[38;5;28;01mreturn\u001b[39;00m parsed_response\n",
      "\u001b[0;31mClientError\u001b[0m: An error occurred (AccessDenied) when calling the ListObjectsV2 operation: Access Denied"
     ]
    }
   ],
   "source": [
    "# Read in kdd training data from S3\n",
    "bucket = 'mlds-final-project-bucket'\n",
    "prefix = 'kdd12/train/training_shuffled/'\n",
    "\n",
    "## Create an S3 client\n",
    "s3_client = boto3.client('s3', region_name='eu-west-2', config=Config(signature_version=UNSIGNED))\n",
    "\n",
    "## List objects within a S3 bucket prefix and read to pandas for the first n rows\n",
    "response = s3_client.list_objects_v2(Bucket=bucket, Prefix=prefix)\n",
    "kdd12_data = pd.DataFrame()\n",
    "rows = n\n",
    "if 'Contents' in response:\n",
    "    keys = [obj['Key'] for obj in response['Contents']][1:]\n",
    "    for key in keys:\n",
    "        if rows == 0:\n",
    "            break\n",
    "        obj = s3_client.get_object(Bucket=bucket, Key=key)\n",
    "        df = pd.read_csv(\n",
    "            obj['Body'],\n",
    "            nrows = rows,\n",
    "            header=0,\n",
    "            names=['Click','Impression','DisplayURL','AdID','AdvertiserID','Depth','Position','QueryID','KeywordID','TitleID','DescriptionID','UserID']\n",
    "            )\n",
    "        kdd12_data = pd.concat([kdd12_data, df])\n",
    "        rows -= df.shape[0]\n",
    "else:\n",
    "    print(\"Folder is empty.\")\n",
    "\n",
    "## Save the data to a csv file\n",
    "kdd12_data.to_csv('../../data/kdd12/kdd12_training.csv', index=False)"
   ]
  },
  {
   "cell_type": "code",
   "execution_count": null,
   "metadata": {},
   "outputs": [],
   "source": [
    "https://mlds-final-project-bucket.s3.eu-west-2.amazonaws.com/kdd12/train/training_shuffled/"
   ]
  },
  {
   "cell_type": "code",
   "execution_count": 6,
   "metadata": {},
   "outputs": [],
   "source": [
    "import requests"
   ]
  },
  {
   "cell_type": "code",
   "execution_count": 12,
   "metadata": {},
   "outputs": [],
   "source": [
    "page = requests.get(\"https://mlds-final-project-bucket.s3.eu-west-2.amazonaws.com/kdd12/train/training_shuffled\")  "
   ]
  },
  {
   "cell_type": "code",
   "execution_count": 13,
   "metadata": {},
   "outputs": [
    {
     "data": {
      "text/plain": [
       "b'<?xml version=\"1.0\" encoding=\"UTF-8\"?>\\n<Error><Code>AccessDenied</Code><Message>Access Denied</Message><RequestId>P7AMDH9CGAH54H3T</RequestId><HostId>AbtSiozWygYWNEvQLteNlOoyJOOxClewcan4sYGvxspAAw3mfcvSzTyDI/DmqyHZQat/ALHssAE=</HostId></Error>'"
      ]
     },
     "execution_count": 13,
     "metadata": {},
     "output_type": "execute_result"
    }
   ],
   "source": [
    "page.content"
   ]
  },
  {
   "cell_type": "code",
   "execution_count": 10,
   "metadata": {},
   "outputs": [],
   "source": [
    "kdd12_subset = pd.read_csv('https://mlds-final-project-bucket.s3.eu-west-2.amazonaws.com/kdd12/train/training_shuffled/run-1718449016919-part-r-00000')"
   ]
  },
  {
   "cell_type": "code",
   "execution_count": 11,
   "metadata": {},
   "outputs": [
    {
     "data": {
      "text/html": [
       "<div>\n",
       "<style scoped>\n",
       "    .dataframe tbody tr th:only-of-type {\n",
       "        vertical-align: middle;\n",
       "    }\n",
       "\n",
       "    .dataframe tbody tr th {\n",
       "        vertical-align: top;\n",
       "    }\n",
       "\n",
       "    .dataframe thead th {\n",
       "        text-align: right;\n",
       "    }\n",
       "</style>\n",
       "<table border=\"1\" class=\"dataframe\">\n",
       "  <thead>\n",
       "    <tr style=\"text-align: right;\">\n",
       "      <th></th>\n",
       "      <th>click</th>\n",
       "      <th>impression</th>\n",
       "      <th>display_url</th>\n",
       "      <th>ad_id</th>\n",
       "      <th>advertiser_id</th>\n",
       "      <th>depth</th>\n",
       "      <th>position</th>\n",
       "      <th>keyword_id</th>\n",
       "      <th>title_id</th>\n",
       "      <th>description_id</th>\n",
       "      <th>query_id</th>\n",
       "      <th>user_id</th>\n",
       "    </tr>\n",
       "  </thead>\n",
       "  <tbody>\n",
       "    <tr>\n",
       "      <th>0</th>\n",
       "      <td>0</td>\n",
       "      <td>1</td>\n",
       "      <td>12057878999086460853</td>\n",
       "      <td>20157098</td>\n",
       "      <td>27961</td>\n",
       "      <td>1</td>\n",
       "      <td>1</td>\n",
       "      <td>75606</td>\n",
       "      <td>15055</td>\n",
       "      <td>12391</td>\n",
       "      <td>13532</td>\n",
       "      <td>1350148</td>\n",
       "    </tr>\n",
       "    <tr>\n",
       "      <th>1</th>\n",
       "      <td>0</td>\n",
       "      <td>1</td>\n",
       "      <td>12057878999086460853</td>\n",
       "      <td>20221208</td>\n",
       "      <td>27961</td>\n",
       "      <td>2</td>\n",
       "      <td>1</td>\n",
       "      <td>2977</td>\n",
       "      <td>1278</td>\n",
       "      <td>3054</td>\n",
       "      <td>4561</td>\n",
       "      <td>1350148</td>\n",
       "    </tr>\n",
       "    <tr>\n",
       "      <th>2</th>\n",
       "      <td>0</td>\n",
       "      <td>1</td>\n",
       "      <td>12057878999086460853</td>\n",
       "      <td>20183701</td>\n",
       "      <td>27961</td>\n",
       "      <td>1</td>\n",
       "      <td>1</td>\n",
       "      <td>18594855</td>\n",
       "      <td>227</td>\n",
       "      <td>543</td>\n",
       "      <td>642</td>\n",
       "      <td>1350148</td>\n",
       "    </tr>\n",
       "    <tr>\n",
       "      <th>3</th>\n",
       "      <td>0</td>\n",
       "      <td>1</td>\n",
       "      <td>12057878999086460853</td>\n",
       "      <td>20183690</td>\n",
       "      <td>27961</td>\n",
       "      <td>1</td>\n",
       "      <td>1</td>\n",
       "      <td>4260473</td>\n",
       "      <td>34048</td>\n",
       "      <td>175983</td>\n",
       "      <td>155050</td>\n",
       "      <td>1350148</td>\n",
       "    </tr>\n",
       "    <tr>\n",
       "      <th>4</th>\n",
       "      <td>0</td>\n",
       "      <td>1</td>\n",
       "      <td>3029113635936639912</td>\n",
       "      <td>10397010</td>\n",
       "      <td>24973</td>\n",
       "      <td>2</td>\n",
       "      <td>2</td>\n",
       "      <td>2977</td>\n",
       "      <td>1274</td>\n",
       "      <td>2570</td>\n",
       "      <td>26091</td>\n",
       "      <td>1350148</td>\n",
       "    </tr>\n",
       "  </tbody>\n",
       "</table>\n",
       "</div>"
      ],
      "text/plain": [
       "   click  impression           display_url     ad_id  advertiser_id  depth  \\\n",
       "0      0           1  12057878999086460853  20157098          27961      1   \n",
       "1      0           1  12057878999086460853  20221208          27961      2   \n",
       "2      0           1  12057878999086460853  20183701          27961      1   \n",
       "3      0           1  12057878999086460853  20183690          27961      1   \n",
       "4      0           1   3029113635936639912  10397010          24973      2   \n",
       "\n",
       "   position  keyword_id  title_id  description_id  query_id  user_id  \n",
       "0         1       75606     15055           12391     13532  1350148  \n",
       "1         1        2977      1278            3054      4561  1350148  \n",
       "2         1    18594855       227             543       642  1350148  \n",
       "3         1     4260473     34048          175983    155050  1350148  \n",
       "4         2        2977      1274            2570     26091  1350148  "
      ]
     },
     "execution_count": 11,
     "metadata": {},
     "output_type": "execute_result"
    }
   ],
   "source": [
    "kdd12_subset.head()"
   ]
  },
  {
   "cell_type": "code",
   "execution_count": 8,
   "metadata": {},
   "outputs": [],
   "source": [
    "# Read in avazu training data from S3\n",
    "bucket = 'mlds-final-project-bucket'\n",
    "prefix = 'avazu/train_shuffled/'\n",
    "\n",
    "## Create an S3 client\n",
    "s3_client = boto3.client('s3')\n",
    "\n",
    "## List objects within a S3 bucket prefix and read to pandas for the first n rows\n",
    "response = s3_client.list_objects_v2(Bucket=bucket, Prefix=prefix)\n",
    "avazu_training_data = pd.DataFrame()\n",
    "rows = n\n",
    "if 'Contents' in response:\n",
    "    keys = [obj['Key'] for obj in response['Contents']][1:]\n",
    "    for key in keys:\n",
    "        if rows == 0:\n",
    "            break\n",
    "        obj = s3_client.get_object(Bucket=bucket, Key=key)\n",
    "        df = pd.read_csv(\n",
    "            obj['Body'],\n",
    "            nrows = rows\n",
    "            )\n",
    "        avazu_training_data = pd.concat([avazu_training_data, df])\n",
    "        rows -= df.shape[0]\n",
    "else:\n",
    "    print(\"Folder is empty.\")\n",
    "\n",
    "## Save the data to a csv file\n",
    "avazu_training_data.to_csv('../../data/avazu/avazu_train.csv', index=False)"
   ]
  },
  {
   "cell_type": "code",
   "execution_count": 10,
   "metadata": {},
   "outputs": [],
   "source": [
    "# Read in criteo training data from S3\n",
    "bucket = 'mlds-final-project-bucket'\n",
    "prefix = 'dac/train_shuffled/'\n",
    "\n",
    "## Create column name list as per the README file\n",
    "criteo_names = ['click']\n",
    "for i in range(1, 14):\n",
    "    criteo_names.append('int_{0}'.format(i))\n",
    "\n",
    "for i in range(1, 27):\n",
    "    criteo_names.append('cat_{0}'.format(i))\n",
    "\n",
    "## Create an S3 client\n",
    "s3_client = boto3.client('s3')\n",
    "\n",
    "## List objects within a S3 bucket prefix and read to pandas for the first n rows\n",
    "response = s3_client.list_objects_v2(Bucket=bucket, Prefix=prefix)\n",
    "criteo_training_data = pd.DataFrame()\n",
    "rows = n\n",
    "if 'Contents' in response:\n",
    "    keys = [obj['Key'] for obj in response['Contents']][1:]\n",
    "    for key in keys:\n",
    "        if rows == 0:\n",
    "            break\n",
    "        obj = s3_client.get_object(Bucket=bucket, Key=key)\n",
    "        df = pd.read_csv(\n",
    "            obj['Body'],\n",
    "            nrows = rows,\n",
    "            header=0,\n",
    "            names=criteo_names\n",
    "            )\n",
    "        criteo_training_data = pd.concat([criteo_training_data, df])\n",
    "        rows -= df.shape[0]\n",
    "else:\n",
    "    print(\"Folder is empty.\")\n",
    "\n",
    "## Save the data to a csv file\n",
    "criteo_training_data.to_csv('../../data/criteo/criteo_train.csv', index=False)"
   ]
  }
 ],
 "metadata": {
  "kernelspec": {
   "display_name": "base",
   "language": "python",
   "name": "python3"
  },
  "language_info": {
   "codemirror_mode": {
    "name": "ipython",
    "version": 3
   },
   "file_extension": ".py",
   "mimetype": "text/x-python",
   "name": "python",
   "nbconvert_exporter": "python",
   "pygments_lexer": "ipython3",
   "version": "3.9.19"
  }
 },
 "nbformat": 4,
 "nbformat_minor": 2
}
