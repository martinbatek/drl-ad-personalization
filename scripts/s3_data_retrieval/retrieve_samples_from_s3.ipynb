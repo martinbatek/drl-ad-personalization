{
 "cells": [
  {
   "cell_type": "code",
   "execution_count": 21,
   "metadata": {},
   "outputs": [],
   "source": [
    "# Import necessary libraries\n",
    "from tensorflow.keras.utils import get_file"
   ]
  },
  {
   "cell_type": "code",
   "execution_count": 22,
   "metadata": {},
   "outputs": [
    {
     "name": "stdout",
     "output_type": "stream",
     "text": [
      "Downloading data from https://mlds-final-project-bucket.s3.eu-west-2.amazonaws.com/kdd12/train/training/training.txt\n",
      "10598457344/10598454239 [==============================] - 106s 0us/step\n"
     ]
    }
   ],
   "source": [
    "# Retrieve the kdd12 file\n",
    "kdd12_train_path = get_file(\n",
    "    fname=\"kdd12_training.csv\", \n",
    "    origin=\"https://mlds-final-project-bucket.s3.eu-west-2.amazonaws.com/kdd12/train/training/training.txt\",\n",
    "    cache_dir=\"../../data\",\n",
    "    cache_subdir=\"kdd12\"\n",
    ")"
   ]
  }
 ],
 "metadata": {
  "kernelspec": {
   "display_name": "Python (mlds)",
   "language": "python",
   "name": "mlds"
  },
  "language_info": {
   "codemirror_mode": {
    "name": "ipython",
    "version": 3
   },
   "file_extension": ".py",
   "mimetype": "text/x-python",
   "name": "python",
   "nbconvert_exporter": "python",
   "pygments_lexer": "ipython3",
   "version": "3.9.19"
  }
 },
 "nbformat": 4,
 "nbformat_minor": 4
}
