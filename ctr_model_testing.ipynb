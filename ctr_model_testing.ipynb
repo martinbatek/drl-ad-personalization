{
 "cells": [
  {
   "cell_type": "markdown",
   "metadata": {},
   "source": [
    "# Preamble"
   ]
  },
  {
   "cell_type": "code",
   "execution_count": 1,
   "metadata": {},
   "outputs": [
    {
     "name": "stderr",
     "output_type": "stream",
     "text": [
      "2024-08-28 05:32:37.903787: I tensorflow/core/util/port.cc:111] oneDNN custom operations are on. You may see slightly different numerical results due to floating-point round-off errors from different computation orders. To turn them off, set the environment variable `TF_ENABLE_ONEDNN_OPTS=0`.\n",
      "2024-08-28 05:32:38.258091: E tensorflow/compiler/xla/stream_executor/cuda/cuda_dnn.cc:9342] Unable to register cuDNN factory: Attempting to register factory for plugin cuDNN when one has already been registered\n",
      "2024-08-28 05:32:38.258121: E tensorflow/compiler/xla/stream_executor/cuda/cuda_fft.cc:609] Unable to register cuFFT factory: Attempting to register factory for plugin cuFFT when one has already been registered\n",
      "2024-08-28 05:32:38.258131: E tensorflow/compiler/xla/stream_executor/cuda/cuda_blas.cc:1518] Unable to register cuBLAS factory: Attempting to register factory for plugin cuBLAS when one has already been registered\n",
      "2024-08-28 05:32:38.441604: I tensorflow/core/platform/cpu_feature_guard.cc:182] This TensorFlow binary is optimized to use available CPU instructions in performance-critical operations.\n",
      "To enable the following instructions: SSE4.1 SSE4.2 AVX AVX2 AVX512F AVX512_VNNI FMA, in other operations, rebuild TensorFlow with the appropriate compiler flags.\n"
     ]
    }
   ],
   "source": [
    "# Imports\n",
    "## General\n",
    "import numpy as np\n",
    "import pickle as pkl\n",
    "import json\n",
    "import warnings\n",
    "warnings.filterwarnings('ignore')\n",
    "import gc\n",
    "import os\n",
    "import time\n",
    "import datetime\n",
    "import sys\n",
    "\n",
    "## In order to run calculations on AWS GPU, need to explicitly specify CUDA lib directory in the environment variables\n",
    "os.environ[\"XLA_FLAGS\"]=\"--xla_gpu_cuda_data_dir=/home/sagemaker-user/.conda/envs/mlds_gpu\"\n",
    "\n",
    "## Data manipulation and preprocessing\n",
    "import pandas as pd\n",
    "import boto3\n",
    "from sklearn.preprocessing import StandardScaler, FunctionTransformer,LabelEncoder, MinMaxScaler,OrdinalEncoder\n",
    "#import missingno as msno\n",
    "from sklearn.experimental import enable_iterative_imputer\n",
    "from sklearn.impute import IterativeImputer, KNNImputer, MissingIndicator\n",
    "from sklearn.ensemble import HistGradientBoostingRegressor\n",
    "from scipy import sparse\n",
    "from tensorflow.keras.layers import StringLookup, Normalization\n",
    "\n",
    "## Visualization\n",
    "import matplotlib.pyplot as plt\n",
    "import seaborn as sns\n",
    "from IPython.display import display, Image\n",
    "\n",
    "## Modelling\n",
    "from tensorflow.keras.layers import Dense, BatchNormalization, Dropout, Input, Concatenate, Activation\n",
    "from tensorflow.keras.models import Sequential\n",
    "from tensorflow.keras.callbacks import CSVLogger, ModelCheckpoint, EarlyStopping\n",
    "import tensorflow as tf\n",
    "\n",
    "## Import DeepCTR code\n",
    "## This is done by cloning the github repository instead of installing with pip. This is because of an incompatibility issue\n",
    "## with TF 2.14 that I had to manually fix in the DeepCTR code\n",
    "deepctr_path = '/home/sagemaker-user/drl-ad-personalization/DeepCTR'\n",
    "if deepctr_path not in sys.path:\n",
    "    sys.path.append(deepctr_path)\n",
    "\n",
    "from deepctr.models.fnn import FNN\n",
    "from deepctr.feature_column import SparseFeat, DenseFeat, get_feature_names\n",
    "from deepctr.models.pnn import PNN\n",
    "from deepctr.models.wdl import WDL\n",
    "from deepctr.models.deepfm import DeepFM\n",
    "from deepctr.models.autoint import AutoInt\n",
    "from deepctr.models.fgcnn import FGCNN\n",
    "from deepctr.models.nfm import NFM\n",
    "from deepctr.models.dcn import DCN\n",
    "from deepctr.models.ccpm import CCPM"
   ]
  },
  {
   "cell_type": "code",
   "execution_count": 2,
   "metadata": {},
   "outputs": [
    {
     "name": "stderr",
     "output_type": "stream",
     "text": [
      "2024-08-28 05:32:45.741284: I tensorflow/compiler/xla/stream_executor/cuda/cuda_gpu_executor.cc:894] successful NUMA node read from SysFS had negative value (-1), but there must be at least one NUMA node, so returning NUMA node zero. See more at https://github.com/torvalds/linux/blob/v6.0/Documentation/ABI/testing/sysfs-bus-pci#L344-L355\n",
      "2024-08-28 05:32:46.061776: I tensorflow/compiler/xla/stream_executor/cuda/cuda_gpu_executor.cc:894] successful NUMA node read from SysFS had negative value (-1), but there must be at least one NUMA node, so returning NUMA node zero. See more at https://github.com/torvalds/linux/blob/v6.0/Documentation/ABI/testing/sysfs-bus-pci#L344-L355\n",
      "2024-08-28 05:32:46.063569: I tensorflow/compiler/xla/stream_executor/cuda/cuda_gpu_executor.cc:894] successful NUMA node read from SysFS had negative value (-1), but there must be at least one NUMA node, so returning NUMA node zero. See more at https://github.com/torvalds/linux/blob/v6.0/Documentation/ABI/testing/sysfs-bus-pci#L344-L355\n"
     ]
    },
    {
     "data": {
      "text/plain": [
       "[PhysicalDevice(name='/physical_device:GPU:0', device_type='GPU')]"
      ]
     },
     "execution_count": 2,
     "metadata": {},
     "output_type": "execute_result"
    }
   ],
   "source": [
    "gpu_devices = tf.config.list_physical_devices('GPU')\n",
    "gpu_devices"
   ]
  },
  {
   "cell_type": "markdown",
   "metadata": {},
   "source": [
    "# Introduction"
   ]
  },
  {
   "cell_type": "markdown",
   "metadata": {},
   "source": [
    "\n",
    "The global digital advertising market is worth approximately \\\\$602 billion today. Due to the increasing rate of of online participation since the \n",
    "COVID-19 pandemic, this number has been rapidly increasing and is expected to reach \\\\$871 billion by the end of 2027 \\citep{RefWorks:emarketer2023digital}.\n",
    "Many of the of the major Ad platforms such as Google, Facebook and Amazon operate on a cost-per-user-engagement pricing model, which usually means that \n",
    "advertisers get charged for every time a user clicks on an advertisment. This means that these platforms are incentivized to make sure that the content \n",
    "shown to each user is as relevent as possible in order to maximize the number of clicks in the long term. Attaining accurate Click-Through Rate (CTR) \n",
    "prediction is a necessary first step for Ad persionalization, which is why study of CTR prediction methods have been an extremely active part of \n",
    "Machine Learning research over the past through years.\n",
    "\n",
    "Initially, shallow prediction methods such as Logistic Regression, Factorization Machines (Rendel, 2020) and Field-Aware Factorization \n",
    "Machines \\citep{RefWorks:juan2016field-aware} have been used for CTR prediction. However, these methods have often been shown to be unable to capture the \n",
    "higher order feature interactions in the sparse multi-value categorical Ad Marketplace datasets \\citep{RefWorks:zhang2021deep}. Since then, Deep Learning methods have been \n",
    "shown to show superior predictive ability on these datasets. The focus of my reasearch project is therefore to explore the merits of different Deep \n",
    "Learning architechtures for click-through rate prediction.\n",
    "\n",
    "A number of Deep Learning models have been proposed for CTR prediction, some of which will be explored in this report. Each of these models\n",
    "outperform their shallow counterparts in terms of predictive ability. In a static environment, these models are able to serve the CTR prediction\n",
    "function of Ad personalization, but in a dynamic environment, the model must be able to adapt to the changing user preferences. This is where\n",
    "Reinforcement Learning comes in. Reinforcement Learning is a type of Machine Learning that is used to make a sequence of decisions in an environment\n",
    "in order to maximize some notion of cumulative reward. In the context of Ad personalization, the environment is composed of the user, the Ad platform\n",
    "and the advertisments, whereas the reward is the users' engagement with the advertisments and with the Ad platform.\n",
    "\n",
    "\n",
    "As outlined in the Feasibility secition of my Milestone 3 submission, I have segmented the work over the next few weeks according to the following timeline\n",
    "\n",
    "![](figures/timeline.png)\n",
    "\n",
    "Below I proceed by structuring my response according to the following sections\n",
    "- General Background to Deep CTR and Deep Renforcement Learning\n",
    "- Data exploration, preprocessing and environment setup\n",
    "- Model Introduction, Replication and Experimentation\n",
    "\n",
    "Please note that this notebook illustrates my current work in progress, and certain sections are far from finished. I have also concurrently begun sections of my final write up using the LaTeX template provided. This is available along with the rest of my code in the following Github repository: https://github.com/martinbatek/drl-ad-personalization"
   ]
  },
  {
   "cell_type": "markdown",
   "metadata": {},
   "source": [
    "# Background"
   ]
  },
  {
   "cell_type": "markdown",
   "metadata": {},
   "source": [
    "## Deep CTR Prediction\n",
    "\n",
    "In their respective surveys on the use of Deep Learning methods for CTR prediction, (Gu, 2021) and (Zhang et al., 2021) outline the \n",
    "problem of CTR prediction as one that essentially boils down to a binary (click/no-click) classification problem utilizing user/ad-view event level \n",
    "online session records. The goal of CTR prediction is to predict the probability of a user clicking on an advertisment given the information available\n",
    "about the user, advertisment and the context in which the advertisement is shown. Suppose that $\\mathbf{x} \\in \\mathbb{R}^n$\n",
    "is a vector of features that describes the user, ad and platform for a given instance, and\n",
    "$y \\in \\{0, 1\\}$ is the binary label indicating whether the user clicked on the ad or not. The goal of CTR prediction is to learn a function\n",
    "$f: \\mathbb{R}^n \\rightarrow (0,1)$ such that:\n",
    "\n",
    "$$\n",
    "f(\\mathbf{x}) = \\mathbb{P}(y = 1 | \\mathbf{x}) = \\mathbb{P}(\\text{click}| \\mathbf{x})\n",
    "$$\n",
    "\n",
    "In other words, for a given set of features $\\mathbf{x}$, the model should output the probability that the user will click on the ad.\n",
    "A defining characteristic for this type of data is that many of the features are multi-value categories with a high degree of of cardinality \\citep{RefWorks:he2017neural}. \n",
    "This in turn means that the ad marketplace datasets used for CTR predictions can be extremely sparse, which increases the difficulty of the classification problem at \n",
    "hand \\citep{RefWorks:gu2021ad}.\n",
    "\n",
    "A key requirement for CTR modelling is therefore working out which of the many sparse features and feature \n",
    "interactions (combinations of two or more features) are significant for determining the correct prediction \n",
    "(Gu, 2021). Factorization Machines (Rendle, 2010) and Field-aware Factorization Machines (Juan et al., 2016) \n",
    "were popularized shallow modelling methods that explicitly account for first order interactions between features. \n",
    "However, these techniques do not capture higher order interactions (combinations of three or more features) and \n",
    "have thus been known to perform poorly in scenarios with highly sparse data (Zhang et al., 2021). Since 2015 the \n",
    "research cummunity has been increasingly turning to Deep Learning techniques to enhance prior CTR prediction \n",
    "techniques (such as in the case of DeepFM (Guo et al., 2017)), as well as to develop novel approaches. Neural based \n",
    "network models excel at simulataneoulsy extracting high-order and low-order feature interations virtue to the use \n",
    "of pooling layers, multiple hidden layers and activation units (Gu, 2021). Due the aforementioned importance of \n",
    "feature interation modelling, a number of Feature Interaction Operator layers have been developed to explicitly \n",
    "capture the key combinations of features. These layers are then typically incorporated with a supplimentary Deep \n",
    "Neural Network in a single or dual tower architecture, as shown in the Figure below:\n",
    "\n",
    "![DNN_Architecture](figures/single_dual_dnn.png)\n"
   ]
  },
  {
   "cell_type": "markdown",
   "metadata": {},
   "source": [
    "Feature Interaction Operators can be categorized as either Product Operators, Convolutional Operators or Attention Operators. Product Operators such as the Product-based Neural Network (PNN) (Qu et al., 2016), Neural Factorization Machines (NFM) (He & Chua, 2017), Deep and Cross Network (Wang et al., 2017) and Gated Deep Cross Network (GDCN) (Wang, F. et al., 2023) introduce a product layer between the categorical feature embedding layer and the rest of the neural network in order to explicitly model the important feature interactions. Convolutional Operators such as the Convolutional Click Prediction Model (CCPM) (Liu et al., 2015) utilized convolution, pooling and non-linear activation in order to calculate arbitrary-order interactions. Finally, Attention Operators such as Attentional Factorization Machines (AFM) (Xiao et al., 2017), AutoInt (Song et al., 2019) and Interpretable CTR prediction model with Hierarchical Attention (InterHAt) (Li et al., 2020) utilize the attention mechanism to enable different feature interactions to contribute differently to the prediction."
   ]
  },
  {
   "cell_type": "markdown",
   "metadata": {},
   "source": [
    "## Deep Reinforcement Learning"
   ]
  },
  {
   "cell_type": "markdown",
   "metadata": {},
   "source": [
    "In their survey, (Wang, X. et al., 2024) describe how deep reinforcement learning combines the aforementioned feature extraction capabilities of DNN’s with the decision-making capability of reinforcement learning, which aims to learn an optimal state-action policy which maximizes the expected reward gained in a given environment. In the context of recommendation systems, a significant amount of research has been dedicated to formulating the recommendation problem as a Contextual Multi-Armed Bandit (MAB) problem setting, where the context consists of user, site and item features (Bouneffouf, Bouzeghoub & Gancarski, 2012; Li, L. et al., 2010; Zeng et al., 2016). However, a shortcoming for the MAB approach is that it does not explicitly model the future expected reward for the policy, which may be detrimental in the longer term (Zheng et al., 2018). Markov Decision Process (MDP) models solve for this issue by modelling the state-action progression as a Markov Process, allowing for the stochastic valuation of the future potential rewards for a given recommendation policy (Lu & Yang, 2016; Mahmood & Ricci, 2007). DRN (Zheng et al., 2018) is a MDP framework that leverages a Deep Neural Network to approximate the expected total user response for each recommendation at each state. The two major advantages of DRN are firstly that it is composed on the basis of a continuous state and action representation, meaning that it can be scaled to large and sparse datasets, and secondly that the proposed reward function consists of both the immediate reward (user click) as well as the future expected reward (long term user engagement), thereby allowing for better recommendations over a user’s lifetime."
   ]
  },
  {
   "cell_type": "markdown",
   "metadata": {},
   "source": [
    "# Data Exploration, Caching, Preprocessing pipeline"
   ]
  },
  {
   "cell_type": "markdown",
   "metadata": {},
   "source": [
    "## Data Exploration"
   ]
  },
  {
   "cell_type": "markdown",
   "metadata": {},
   "source": [
    "TBD - Include data Exploration sections from Milestone 2"
   ]
  },
  {
   "cell_type": "markdown",
   "metadata": {},
   "source": [
    "## Load benchmark datasets as tf.datasets"
   ]
  },
  {
   "cell_type": "markdown",
   "metadata": {},
   "source": [
    "### KDD12"
   ]
  },
  {
   "cell_type": "code",
   "execution_count": 3,
   "metadata": {},
   "outputs": [
    {
     "name": "stderr",
     "output_type": "stream",
     "text": [
      "2024-08-28 05:32:46.096555: I tensorflow/compiler/xla/stream_executor/cuda/cuda_gpu_executor.cc:894] successful NUMA node read from SysFS had negative value (-1), but there must be at least one NUMA node, so returning NUMA node zero. See more at https://github.com/torvalds/linux/blob/v6.0/Documentation/ABI/testing/sysfs-bus-pci#L344-L355\n",
      "2024-08-28 05:32:46.098245: I tensorflow/compiler/xla/stream_executor/cuda/cuda_gpu_executor.cc:894] successful NUMA node read from SysFS had negative value (-1), but there must be at least one NUMA node, so returning NUMA node zero. See more at https://github.com/torvalds/linux/blob/v6.0/Documentation/ABI/testing/sysfs-bus-pci#L344-L355\n",
      "2024-08-28 05:32:46.099879: I tensorflow/compiler/xla/stream_executor/cuda/cuda_gpu_executor.cc:894] successful NUMA node read from SysFS had negative value (-1), but there must be at least one NUMA node, so returning NUMA node zero. See more at https://github.com/torvalds/linux/blob/v6.0/Documentation/ABI/testing/sysfs-bus-pci#L344-L355\n",
      "2024-08-28 05:32:46.563884: I tensorflow/compiler/xla/stream_executor/cuda/cuda_gpu_executor.cc:894] successful NUMA node read from SysFS had negative value (-1), but there must be at least one NUMA node, so returning NUMA node zero. See more at https://github.com/torvalds/linux/blob/v6.0/Documentation/ABI/testing/sysfs-bus-pci#L344-L355\n",
      "2024-08-28 05:32:46.566945: I tensorflow/compiler/xla/stream_executor/cuda/cuda_gpu_executor.cc:894] successful NUMA node read from SysFS had negative value (-1), but there must be at least one NUMA node, so returning NUMA node zero. See more at https://github.com/torvalds/linux/blob/v6.0/Documentation/ABI/testing/sysfs-bus-pci#L344-L355\n",
      "2024-08-28 05:32:46.568593: I tensorflow/compiler/xla/stream_executor/cuda/cuda_gpu_executor.cc:894] successful NUMA node read from SysFS had negative value (-1), but there must be at least one NUMA node, so returning NUMA node zero. See more at https://github.com/torvalds/linux/blob/v6.0/Documentation/ABI/testing/sysfs-bus-pci#L344-L355\n",
      "2024-08-28 05:32:46.570132: I tensorflow/core/common_runtime/gpu/gpu_device.cc:1886] Created device /job:localhost/replica:0/task:0/device:GPU:0 with 13775 MB memory:  -> device: 0, name: Tesla T4, pci bus id: 0000:00:1e.0, compute capability: 7.5\n"
     ]
    }
   ],
   "source": [
    "# Load the kdd12_train dataset\n",
    "kdd12_train = tf.data.experimental.make_csv_dataset(\n",
    "    \"data/kdd12/train_split/*\",\n",
    "    batch_size=1,\n",
    "    field_delim=',',\n",
    "    header=True,\n",
    "    column_defaults=['int32','int32','string','string','string','int32','int32','string','string','string','string','string'],\n",
    "    #label_name='click',\n",
    "    num_epochs=1,\n",
    "    shuffle=False,\n",
    "    #shuffle_buffer_size=100,\n",
    "    #shuffle_seed=42,\n",
    "    #ignore_errors=True\n",
    ")"
   ]
  },
  {
   "cell_type": "code",
   "execution_count": 4,
   "metadata": {},
   "outputs": [],
   "source": [
    "# Load the kdd12_train dataset\n",
    "kdd12_val = tf.data.experimental.make_csv_dataset(\n",
    "    \"data/kdd12/test_split/*\",\n",
    "    batch_size=1,\n",
    "    field_delim=',',\n",
    "    header=True,\n",
    "    column_defaults=['int32','int32','string','string','string','int32','int32','string','string','string','string','string'],\n",
    "    #label_name='click',\n",
    "    num_epochs=1,\n",
    "    shuffle=False,\n",
    "    #shuffle_buffer_size=100,\n",
    "    #shuffle_seed=42,\n",
    "    #ignore_errors=True\n",
    ")"
   ]
  },
  {
   "cell_type": "code",
   "execution_count": 5,
   "metadata": {},
   "outputs": [],
   "source": [
    "# Define function to derive ctr and split this as the target\n",
    "@tf.function\n",
    "def kdd12_target(element,t=0.5):\n",
    "    features = element.copy()\n",
    "    click = features.pop(key='click')\n",
    "    impression = features.pop(key=\"impression\")\n",
    "    ctr_label = tf.where(tf.math.greater_equal(tf.math.divide(click,impression),t),1,0)\n",
    "    return features, ctr_label"
   ]
  },
  {
   "cell_type": "code",
   "execution_count": 6,
   "metadata": {},
   "outputs": [],
   "source": [
    "# Apply to datasets\n",
    "kdd12_train = kdd12_train.map(kdd12_target)\n",
    "kdd12_val = kdd12_val.map(kdd12_target)"
   ]
  },
  {
   "cell_type": "code",
   "execution_count": 7,
   "metadata": {},
   "outputs": [
    {
     "data": {
      "text/plain": [
       "(OrderedDict([('displayurl',\n",
       "               TensorSpec(shape=(None,), dtype=tf.string, name=None)),\n",
       "              ('adid', TensorSpec(shape=(None,), dtype=tf.string, name=None)),\n",
       "              ('advertiserid',\n",
       "               TensorSpec(shape=(None,), dtype=tf.string, name=None)),\n",
       "              ('depth', TensorSpec(shape=(None,), dtype=tf.int32, name=None)),\n",
       "              ('position',\n",
       "               TensorSpec(shape=(None,), dtype=tf.int32, name=None)),\n",
       "              ('keywordid',\n",
       "               TensorSpec(shape=(None,), dtype=tf.string, name=None)),\n",
       "              ('titleid',\n",
       "               TensorSpec(shape=(None,), dtype=tf.string, name=None)),\n",
       "              ('descriptionid',\n",
       "               TensorSpec(shape=(None,), dtype=tf.string, name=None)),\n",
       "              ('queryid',\n",
       "               TensorSpec(shape=(None,), dtype=tf.string, name=None)),\n",
       "              ('userid',\n",
       "               TensorSpec(shape=(None,), dtype=tf.string, name=None))]),\n",
       " TensorSpec(shape=(None,), dtype=tf.int32, name=None))"
      ]
     },
     "execution_count": 7,
     "metadata": {},
     "output_type": "execute_result"
    }
   ],
   "source": [
    "kdd12_train.element_spec"
   ]
  },
  {
   "cell_type": "code",
   "execution_count": 8,
   "metadata": {},
   "outputs": [
    {
     "name": "stdout",
     "output_type": "stream",
     "text": [
      "Time taken 256 records train: 0:00:00.248948\n",
      "Time taken 256 records val: 0:00:00.150076\n"
     ]
    }
   ],
   "source": [
    "# Print time taken to iterate through 256 records \n",
    "start_time = datetime.datetime.now()\n",
    "i = 0\n",
    "for element in kdd12_train.take(256):\n",
    "    i +=1\n",
    "end_time = datetime.datetime.now()\n",
    "print(f\"Time taken {i} records train:\",end_time-start_time)\n",
    "\n",
    "start_time = datetime.datetime.now()\n",
    "i = 0\n",
    "for element in kdd12_val.take(256):\n",
    "    i +=1\n",
    "end_time = datetime.datetime.now()\n",
    "print(f\"Time taken {i} records val:\",end_time-start_time)"
   ]
  },
  {
   "cell_type": "markdown",
   "metadata": {},
   "source": [
    "### Avazu"
   ]
  },
  {
   "cell_type": "code",
   "execution_count": 9,
   "metadata": {},
   "outputs": [],
   "source": [
    "column_defaults=[\n",
    "    'string',\n",
    "    'int32',\n",
    "    'int32',\n",
    "    'string',\n",
    "    'string',\n",
    "    'string',\n",
    "    'string',\n",
    "    'string',\n",
    "    'string',\n",
    "    'string',\n",
    "    'string',\n",
    "    'string',\n",
    "    'string',\n",
    "    'string',\n",
    "    'string',\n",
    "    'string',\n",
    "    'string',\n",
    "    'string',\n",
    "    'string',\n",
    "    'string',\n",
    "    'string',\n",
    "    'string',\n",
    "    'string',\n",
    "    'string'\n",
    "]\n",
    "avazu_train = tf.data.experimental.make_csv_dataset(\n",
    "    \"data/avazu/train_split/*\",\n",
    "    batch_size=1,\n",
    "    field_delim=',',\n",
    "    header=True,\n",
    "    column_defaults=column_defaults,\n",
    "    label_name='click',\n",
    "    num_epochs=1,\n",
    "    shuffle=False,\n",
    "    #shuffle_buffer_size=100,\n",
    "    #shuffle_seed=42,\n",
    "    #ignore_errors=True\n",
    ")"
   ]
  },
  {
   "cell_type": "code",
   "execution_count": 10,
   "metadata": {},
   "outputs": [],
   "source": [
    "column_defaults=[\n",
    "    'string',\n",
    "    'int32',\n",
    "    'int32',\n",
    "    'string',\n",
    "    'string',\n",
    "    'string',\n",
    "    'string',\n",
    "    'string',\n",
    "    'string',\n",
    "    'string',\n",
    "    'string',\n",
    "    'string',\n",
    "    'string',\n",
    "    'string',\n",
    "    'string',\n",
    "    'string',\n",
    "    'string',\n",
    "    'string',\n",
    "    'string',\n",
    "    'string',\n",
    "    'string',\n",
    "    'string',\n",
    "    'string',\n",
    "    'string'\n",
    "]\n",
    "\n",
    "# Load the Avazu train dataset\n",
    "avazu_val = tf.data.experimental.make_csv_dataset(\n",
    "    \"data/avazu/test_split/*\",\n",
    "    batch_size=1,\n",
    "    field_delim=',',\n",
    "    header=True,\n",
    "    column_defaults=column_defaults,\n",
    "    label_name='click',\n",
    "    num_epochs=1,\n",
    "    shuffle=False,\n",
    "    #shuffle_buffer_size=100,\n",
    "    #shuffle_seed=42,\n",
    "    #ignore_errors=True\n",
    ")"
   ]
  },
  {
   "cell_type": "code",
   "execution_count": 11,
   "metadata": {},
   "outputs": [],
   "source": [
    "# Drop ID variable\n",
    "def drop_id(features, label):\n",
    "    out_features = features.copy()\n",
    "    del out_features['id']\n",
    "    return out_features, label"
   ]
  },
  {
   "cell_type": "code",
   "execution_count": 12,
   "metadata": {},
   "outputs": [],
   "source": [
    "avazu_train = avazu_train.map(drop_id)\n",
    "avazu_val = avazu_val.map(drop_id)"
   ]
  },
  {
   "cell_type": "code",
   "execution_count": 13,
   "metadata": {},
   "outputs": [
    {
     "name": "stdout",
     "output_type": "stream",
     "text": [
      "Time taken 256 records train: 0:00:00.202952\n",
      "Time taken 256 records val: 0:00:00.194780\n"
     ]
    }
   ],
   "source": [
    "# Print time taken to iterate through 256 records \n",
    "start_time = datetime.datetime.now()\n",
    "i = 0\n",
    "for element in avazu_train.take(256):\n",
    "    i +=1\n",
    "end_time = datetime.datetime.now()\n",
    "print(f\"Time taken {i} records train:\",end_time-start_time)\n",
    "\n",
    "start_time = datetime.datetime.now()\n",
    "i = 0\n",
    "for element in avazu_val.take(256):\n",
    "    i +=1\n",
    "end_time = datetime.datetime.now()\n",
    "print(f\"Time taken {i} records val:\",end_time-start_time)"
   ]
  },
  {
   "cell_type": "markdown",
   "metadata": {},
   "source": [
    "### Criteo"
   ]
  },
  {
   "cell_type": "code",
   "execution_count": 14,
   "metadata": {},
   "outputs": [
    {
     "name": "stdout",
     "output_type": "stream",
     "text": [
      "WARNING:tensorflow:From /home/sagemaker-user/.conda/envs/mlds_gpu/lib/python3.10/site-packages/tensorflow/python/data/experimental/ops/readers.py:573: ignore_errors (from tensorflow.python.data.experimental.ops.error_ops) is deprecated and will be removed in a future version.\n",
      "Instructions for updating:\n",
      "Use `tf.data.Dataset.ignore_errors` instead.\n"
     ]
    }
   ],
   "source": [
    "# Load the Criteo train dataset\n",
    "\n",
    "column_defaults = ['int32'] + 13*['int32'] + 26*['string']\n",
    "\n",
    "criteo_train = tf.data.experimental.make_csv_dataset(\n",
    "    \"data/criteo/train_split/*\",\n",
    "    batch_size=1,\n",
    "    field_delim=',',\n",
    "    header=True,\n",
    "    label_name='click',\n",
    "    column_defaults=column_defaults,\n",
    "    num_epochs=1,\n",
    "    shuffle=False,\n",
    "    ignore_errors=True\n",
    ")"
   ]
  },
  {
   "cell_type": "code",
   "execution_count": 15,
   "metadata": {},
   "outputs": [],
   "source": [
    "# Load the Criteo train dataset\n",
    "\n",
    "column_defaults = ['int32'] + 13*['int32'] + 26*['string']\n",
    "\n",
    "criteo_val = tf.data.experimental.make_csv_dataset(\n",
    "    \"data/criteo/test_split/*\",\n",
    "    batch_size=1,\n",
    "    field_delim=',',\n",
    "    header=True,\n",
    "    label_name='click',\n",
    "    column_defaults=column_defaults,\n",
    "    num_epochs=1,\n",
    "    shuffle=False,\n",
    "    ignore_errors=True\n",
    ")"
   ]
  },
  {
   "cell_type": "code",
   "execution_count": 16,
   "metadata": {},
   "outputs": [
    {
     "name": "stdout",
     "output_type": "stream",
     "text": [
      "Time taken 256 records train: 0:00:00.310553\n",
      "Time taken 256 records val: 0:00:00.553735\n"
     ]
    }
   ],
   "source": [
    "# Print time taken to iterate through 256 records \n",
    "start_time = datetime.datetime.now()\n",
    "i = 0\n",
    "for element in criteo_train.take(256):\n",
    "    i +=1\n",
    "end_time = datetime.datetime.now()\n",
    "print(f\"Time taken {i} records train:\",end_time-start_time)\n",
    "\n",
    "start_time = datetime.datetime.now()\n",
    "i = 0\n",
    "for element in criteo_val.take(256):\n",
    "    i +=1\n",
    "end_time = datetime.datetime.now()\n",
    "print(f\"Time taken {i} records val:\",end_time-start_time)"
   ]
  },
  {
   "cell_type": "markdown",
   "metadata": {},
   "source": [
    "## Preprocessing"
   ]
  },
  {
   "cell_type": "markdown",
   "metadata": {},
   "source": [
    "Below I construct the preprocessing pipeline for the tensorflow datasets on the basis of the exploration functions above. I proceed by:\n",
    "\n",
    "- Enconding the sparse catecorically features using the Ordinal Encoders specified above.\n",
    "- Standardizing the numerical features unsing the Scalers and Transformer specified above.\n",
    "- Generating the feature columns, as specified in the [DeepCTR Quickstart Guide](https://deepctr-doc.readthedocs.io/en/latest/Quick-Start.html#step-3-generate-feature-columns)"
   ]
  },
  {
   "cell_type": "code",
   "execution_count": 17,
   "metadata": {},
   "outputs": [],
   "source": [
    "## Create lists of categorical colums for each dataset\n",
    "kdd12_categorical_columns = [\n",
    "    'DisplayURL',\n",
    "    'AdID',\n",
    "    'AdvertiserID',\n",
    "    'QueryID',\n",
    "    'KeywordID',\n",
    "    'TitleID',\n",
    "    'DescriptionID',\n",
    "    'UserID'\n",
    "]\n",
    "\n",
    "avazu_categorical_columns = [\n",
    "    'C1',\n",
    "    'banner_pos',\n",
    "    'site_id',\n",
    "    'site_domain',\n",
    "    'site_category',\n",
    "    'app_id',\n",
    "    'app_domain',\n",
    "    'app_category',\n",
    "    'device_id',\n",
    "    'device_ip',\n",
    "    'device_model',\n",
    "    'device_type',\n",
    "    'device_conn_type',\n",
    "    'C14',\n",
    "    'C15',\n",
    "    'C16',\n",
    "    'C17',\n",
    "    'C18',\n",
    "    'C19',\n",
    "    'C20',\n",
    "    'C21'\n",
    "]\n",
    "\n",
    "criteo_numerical_columns = [f'int_{i}' for i in np.arange(1,14)]\n",
    "criteo_categorical_columns = [f'cat_{i}' for i in np.arange(1,27)]"
   ]
  },
  {
   "cell_type": "markdown",
   "metadata": {},
   "source": [
    "### Categorical Variable Encoding"
   ]
  },
  {
   "cell_type": "code",
   "execution_count": 18,
   "metadata": {},
   "outputs": [],
   "source": [
    "# Import categorical feature mappings and define stringloohup objects for each dataset\n",
    "kdd12_stringlookups = {}\n",
    "kdd12_vocab_lengths = {}\n",
    "for field in kdd12_categorical_columns:\n",
    "    df = pd.read_csv(f'./data/kdd12/categorical_value_counts/{field}.csv')\n",
    "    vocab = [elem.encode() for elem in df['field'].astype(str).to_list()]\n",
    "    lookup = StringLookup(vocabulary=vocab, mask_token=None)\n",
    "    kdd12_stringlookups.update({field:lookup})\n",
    "    kdd12_vocab_lengths.update({field:len(vocab)+1})\n",
    "\n",
    "avazu_stringlookups = {}\n",
    "avazu_vocab_lengths = {}\n",
    "for field in avazu_categorical_columns:\n",
    "    df = pd.read_csv(f'./data/avazu/categorical_value_counts/{field}.csv')\n",
    "    vocab = [elem.encode() for elem in df['field'].astype(str).to_list()]\n",
    "    lookup = StringLookup(vocabulary=vocab, mask_token=None)\n",
    "    avazu_stringlookups.update({field:lookup})\n",
    "    avazu_vocab_lengths.update({field:len(vocab)+1})\n",
    "\n",
    "criteo_stringlookups = {}\n",
    "criteo_vocab_lengths = {}\n",
    "for field in criteo_categorical_columns:\n",
    "    df = pd.read_csv(f'./data/criteo/categorical_value_counts/{field}.csv')\n",
    "    vocab = [elem.encode() for elem in df['field'].astype(str).to_list()]\n",
    "    lookup = StringLookup(vocabulary=vocab, mask_token=None)\n",
    "    criteo_stringlookups.update({field:lookup})\n",
    "    criteo_vocab_lengths.update({field:len(vocab)+1})"
   ]
  },
  {
   "cell_type": "code",
   "execution_count": 19,
   "metadata": {},
   "outputs": [],
   "source": [
    "# Define categorical encoding function\n",
    "@tf.function\n",
    "def kdd12_categorical_encoding(features,label):\n",
    "    # Create copy of features, because modifying inputs causes a ValueError\n",
    "    out_features = features.copy()\n",
    "    # Iteratively map the categical feature columns using the corresponging Lookup layer\n",
    "    for f in kdd12_categorical_columns:\n",
    "        lookup = kdd12_stringlookups[f]\n",
    "        out_features[f.lower()] = lookup(features[f.lower()])\n",
    "    return out_features, label\n",
    "\n",
    "@tf.function\n",
    "def avazu_categorical_encoding(features,label):\n",
    "    # Create copy of features, because modifying inputs causes a ValueError\n",
    "    out_features = features.copy()\n",
    "    # Iteratively map the categical feature columns using the corresponging Lookup layer\n",
    "    for f in avazu_categorical_columns:\n",
    "        lookup = avazu_stringlookups[f]\n",
    "        out_features[f] = lookup(features[f])\n",
    "    return out_features, label\n",
    "\n",
    "@tf.function\n",
    "def criteo_categorical_encoding(features,label):\n",
    "    # Create copy of features\n",
    "    out_features = features.copy()\n",
    "    # Iteratively map the categorical feature columns using the corresponding Lookup layer\n",
    "    for f in criteo_categorical_columns:\n",
    "        lookup = criteo_stringlookups[f]\n",
    "        out_features[f] = lookup(features[f])\n",
    "    return out_features, label"
   ]
  },
  {
   "cell_type": "code",
   "execution_count": 20,
   "metadata": {},
   "outputs": [],
   "source": [
    "# Apply mapping over each dataset\n",
    "\n",
    "kdd12_train_encoded = kdd12_train.map(kdd12_categorical_encoding)\n",
    "avazu_train_encoded = avazu_train.map(avazu_categorical_encoding)\n",
    "criteo_train_encoded = criteo_train.map(criteo_categorical_encoding)\n",
    "\n",
    "kdd12_val_encoded = kdd12_val.map(kdd12_categorical_encoding)\n",
    "avazu_val_encoded = avazu_val.map(avazu_categorical_encoding)\n",
    "criteo_val_encoded = criteo_val.map(criteo_categorical_encoding)"
   ]
  },
  {
   "cell_type": "code",
   "execution_count": 21,
   "metadata": {},
   "outputs": [
    {
     "name": "stdout",
     "output_type": "stream",
     "text": [
      "Time taken 256 records kdd12 train encoded: 0:00:00.144332\n",
      "Time taken 256 records kdd12 val encoded: 0:00:00.141377\n",
      "Time taken 256 records avazu train encoded: 0:00:00.140282\n",
      "Time taken 256 records avazu val encoded: 0:00:00.139310\n",
      "Time taken 256 records criteo train encoded: 0:00:00.138621\n",
      "Time taken 256 records criteo val encoded: 0:00:00.137341\n"
     ]
    }
   ],
   "source": [
    "# Print time taken to iterate through 256 records\n",
    "stage = \"encoded\"\n",
    "for dataset in [\"kdd12\",\"avazu\",\"criteo\"]:\n",
    "    for data_split in [\"train\",\"val\"]:\n",
    "        data = globals()[f\"{dataset}_{data_split}_{stage}\"]\n",
    "        \n",
    "        start_time = datetime.datetime.now()\n",
    "        i = 0\n",
    "        for element in kdd12_train.take(256):\n",
    "            i +=1\n",
    "        end_time = datetime.datetime.now()\n",
    "        print(f\"Time taken {i} records {dataset} {data_split} {stage}:\",end_time-start_time)"
   ]
  },
  {
   "cell_type": "markdown",
   "metadata": {},
   "source": [
    "### Numerical Variable Scaling"
   ]
  },
  {
   "cell_type": "code",
   "execution_count": 22,
   "metadata": {},
   "outputs": [],
   "source": [
    "# Define numerical feature columns\n",
    "kdd12_numerical_columns = [\n",
    "    'Depth',\n",
    "    'Position'\n",
    "]\n",
    "\n",
    "avazu_numerical_columns = [\n",
    "    'hour'\n",
    "]\n",
    "\n",
    "criteo_numerical_columns = [f'int_{i}' for i in np.arange(1,14)]"
   ]
  },
  {
   "cell_type": "code",
   "execution_count": 23,
   "metadata": {},
   "outputs": [],
   "source": [
    "# Extract scaler dicts for all datasets\n",
    "dist_stats = pd.read_csv('./data/kdd12/means_variances.csv')\n",
    "kdd12_scalers = {}\n",
    "for i in range(len(dist_stats)):\n",
    "    field = dist_stats['field'][i]\n",
    "    mean = dist_stats['mean'][i]\n",
    "    variance = dist_stats['variance'][i]\n",
    "    scaler = Normalization(mean=mean, variance=variance)\n",
    "    scaler.build((1,))\n",
    "    kdd12_scalers.update({field:scaler})\n",
    "\n",
    "dist_stats = pd.read_csv('./data/avazu/means_variances.csv')\n",
    "avazu_scalers = {}\n",
    "for i in range(len(dist_stats)):\n",
    "    field = dist_stats['field'][i]\n",
    "    mean = dist_stats['mean'][i]\n",
    "    variance = dist_stats['variance'][i]\n",
    "    scaler = Normalization(mean=mean, variance=variance)\n",
    "    scaler.build((1,))\n",
    "    avazu_scalers.update({field:scaler})\n",
    "\n",
    "dist_stats = pd.read_csv('./data/criteo/means_variances.csv')\n",
    "criteo_scalers = {}\n",
    "for i in range(len(dist_stats)):\n",
    "    field = dist_stats['field'][i]\n",
    "    mean = dist_stats['mean'][i]\n",
    "    variance = dist_stats['variance'][i]\n",
    "    scaler = Normalization(mean=mean, variance=variance)\n",
    "    scaler.build((1,))\n",
    "    criteo_scalers.update({field:scaler})"
   ]
  },
  {
   "cell_type": "code",
   "execution_count": 24,
   "metadata": {},
   "outputs": [],
   "source": [
    "# Define scaler functions for all datasets\n",
    "\n",
    "@tf.function\n",
    "def kdd12_numerical_scaling(features,label):\n",
    "    out_features = features.copy()\n",
    "    for f in kdd12_numerical_columns:\n",
    "        scaler = kdd12_scalers[f]\n",
    "        out_features[f.lower()] = scaler(features[f.lower()])\n",
    "    return out_features, label\n",
    "\n",
    "@tf.function\n",
    "def avazu_numerical_scaling(features,label):\n",
    "    out_features = features.copy()\n",
    "    for f in avazu_numerical_columns:\n",
    "        scaler = avazu_scalers[f]\n",
    "        out_features[f] = scaler(features[f])\n",
    "    return out_features, label\n",
    "\n",
    "@tf.function\n",
    "def criteo_numerical_scaling(features,label):\n",
    "    out_features = features.copy()\n",
    "    for f in criteo_numerical_columns:\n",
    "        scaler = criteo_scalers[f]\n",
    "        out_features[f] = scaler(features[f])\n",
    "    return out_features, label"
   ]
  },
  {
   "cell_type": "code",
   "execution_count": 25,
   "metadata": {},
   "outputs": [],
   "source": [
    "# Apply the numerical scaling to all datasets\n",
    "kdd12_train_scaled = kdd12_train_encoded.map(kdd12_numerical_scaling)\n",
    "avazu_train_scaled = avazu_train_encoded.map(avazu_numerical_scaling)\n",
    "criteo_train_scaled = criteo_train_encoded.map(criteo_numerical_scaling)\n",
    "\n",
    "kdd12_val_scaled = kdd12_val_encoded.map(kdd12_numerical_scaling)\n",
    "avazu_val_scaled = avazu_val_encoded.map(avazu_numerical_scaling)\n",
    "criteo_val_scaled = criteo_val_encoded.map(criteo_numerical_scaling)"
   ]
  },
  {
   "cell_type": "code",
   "execution_count": 26,
   "metadata": {},
   "outputs": [
    {
     "name": "stdout",
     "output_type": "stream",
     "text": [
      "Time taken 256 records kdd12 train scaled: 0:00:00.140637\n",
      "Time taken 256 records kdd12 val scaled: 0:00:00.142182\n",
      "Time taken 256 records avazu train scaled: 0:00:00.140426\n",
      "Time taken 256 records avazu val scaled: 0:00:00.140212\n",
      "Time taken 256 records criteo train scaled: 0:00:00.141544\n",
      "Time taken 256 records criteo val scaled: 0:00:00.138488\n"
     ]
    }
   ],
   "source": [
    "# Print time taken to iterate through 256 records\n",
    "stage = \"scaled\"\n",
    "for dataset in [\"kdd12\",\"avazu\",\"criteo\"]:\n",
    "    for data_split in [\"train\",\"val\"]:\n",
    "        data = globals()[f\"{dataset}_{data_split}_{stage}\"]\n",
    "        \n",
    "        start_time = datetime.datetime.now()\n",
    "        i = 0\n",
    "        for element in kdd12_train.take(256):\n",
    "            i +=1\n",
    "        end_time = datetime.datetime.now()\n",
    "        print(f\"Time taken {i} records {dataset} {data_split} {stage}:\",end_time-start_time)"
   ]
  },
  {
   "cell_type": "code",
   "execution_count": 27,
   "metadata": {},
   "outputs": [
    {
     "name": "stdout",
     "output_type": "stream",
     "text": [
      "KDD12:\n",
      "(OrderedDict([('displayurl', TensorSpec(shape=(None,), dtype=tf.int64, name=None)), ('adid', TensorSpec(shape=(None,), dtype=tf.int64, name=None)), ('advertiserid', TensorSpec(shape=(None,), dtype=tf.int64, name=None)), ('depth', TensorSpec(shape=(None,), dtype=tf.float32, name=None)), ('position', TensorSpec(shape=(None,), dtype=tf.float32, name=None)), ('keywordid', TensorSpec(shape=(None,), dtype=tf.int64, name=None)), ('titleid', TensorSpec(shape=(None,), dtype=tf.int64, name=None)), ('descriptionid', TensorSpec(shape=(None,), dtype=tf.int64, name=None)), ('queryid', TensorSpec(shape=(None,), dtype=tf.int64, name=None)), ('userid', TensorSpec(shape=(None,), dtype=tf.int64, name=None))]), TensorSpec(shape=(None,), dtype=tf.int32, name=None))\n",
      "\n",
      "Avazu:\n",
      "(OrderedDict([('hour', TensorSpec(shape=(None,), dtype=tf.float32, name=None)), ('C1', TensorSpec(shape=(None,), dtype=tf.int64, name=None)), ('banner_pos', TensorSpec(shape=(None,), dtype=tf.int64, name=None)), ('site_id', TensorSpec(shape=(None,), dtype=tf.int64, name=None)), ('site_domain', TensorSpec(shape=(None,), dtype=tf.int64, name=None)), ('site_category', TensorSpec(shape=(None,), dtype=tf.int64, name=None)), ('app_id', TensorSpec(shape=(None,), dtype=tf.int64, name=None)), ('app_domain', TensorSpec(shape=(None,), dtype=tf.int64, name=None)), ('app_category', TensorSpec(shape=(None,), dtype=tf.int64, name=None)), ('device_id', TensorSpec(shape=(None,), dtype=tf.int64, name=None)), ('device_ip', TensorSpec(shape=(None,), dtype=tf.int64, name=None)), ('device_model', TensorSpec(shape=(None,), dtype=tf.int64, name=None)), ('device_type', TensorSpec(shape=(None,), dtype=tf.int64, name=None)), ('device_conn_type', TensorSpec(shape=(None,), dtype=tf.int64, name=None)), ('C14', TensorSpec(shape=(None,), dtype=tf.int64, name=None)), ('C15', TensorSpec(shape=(None,), dtype=tf.int64, name=None)), ('C16', TensorSpec(shape=(None,), dtype=tf.int64, name=None)), ('C17', TensorSpec(shape=(None,), dtype=tf.int64, name=None)), ('C18', TensorSpec(shape=(None,), dtype=tf.int64, name=None)), ('C19', TensorSpec(shape=(None,), dtype=tf.int64, name=None)), ('C20', TensorSpec(shape=(None,), dtype=tf.int64, name=None)), ('C21', TensorSpec(shape=(None,), dtype=tf.int64, name=None))]), TensorSpec(shape=(None,), dtype=tf.int32, name=None))\n",
      "\n",
      "Criteo:\n",
      "(OrderedDict([('int_1', TensorSpec(shape=(None,), dtype=tf.float32, name=None)), ('int_2', TensorSpec(shape=(None,), dtype=tf.float32, name=None)), ('int_3', TensorSpec(shape=(None,), dtype=tf.float32, name=None)), ('int_4', TensorSpec(shape=(None,), dtype=tf.float32, name=None)), ('int_5', TensorSpec(shape=(None,), dtype=tf.float32, name=None)), ('int_6', TensorSpec(shape=(None,), dtype=tf.float32, name=None)), ('int_7', TensorSpec(shape=(None,), dtype=tf.float32, name=None)), ('int_8', TensorSpec(shape=(None,), dtype=tf.float32, name=None)), ('int_9', TensorSpec(shape=(None,), dtype=tf.float32, name=None)), ('int_10', TensorSpec(shape=(None,), dtype=tf.float32, name=None)), ('int_11', TensorSpec(shape=(None,), dtype=tf.float32, name=None)), ('int_12', TensorSpec(shape=(None,), dtype=tf.float32, name=None)), ('int_13', TensorSpec(shape=(None,), dtype=tf.float32, name=None)), ('cat_1', TensorSpec(shape=(None,), dtype=tf.int64, name=None)), ('cat_2', TensorSpec(shape=(None,), dtype=tf.int64, name=None)), ('cat_3', TensorSpec(shape=(None,), dtype=tf.int64, name=None)), ('cat_4', TensorSpec(shape=(None,), dtype=tf.int64, name=None)), ('cat_5', TensorSpec(shape=(None,), dtype=tf.int64, name=None)), ('cat_6', TensorSpec(shape=(None,), dtype=tf.int64, name=None)), ('cat_7', TensorSpec(shape=(None,), dtype=tf.int64, name=None)), ('cat_8', TensorSpec(shape=(None,), dtype=tf.int64, name=None)), ('cat_9', TensorSpec(shape=(None,), dtype=tf.int64, name=None)), ('cat_10', TensorSpec(shape=(None,), dtype=tf.int64, name=None)), ('cat_11', TensorSpec(shape=(None,), dtype=tf.int64, name=None)), ('cat_12', TensorSpec(shape=(None,), dtype=tf.int64, name=None)), ('cat_13', TensorSpec(shape=(None,), dtype=tf.int64, name=None)), ('cat_14', TensorSpec(shape=(None,), dtype=tf.int64, name=None)), ('cat_15', TensorSpec(shape=(None,), dtype=tf.int64, name=None)), ('cat_16', TensorSpec(shape=(None,), dtype=tf.int64, name=None)), ('cat_17', TensorSpec(shape=(None,), dtype=tf.int64, name=None)), ('cat_18', TensorSpec(shape=(None,), dtype=tf.int64, name=None)), ('cat_19', TensorSpec(shape=(None,), dtype=tf.int64, name=None)), ('cat_20', TensorSpec(shape=(None,), dtype=tf.int64, name=None)), ('cat_21', TensorSpec(shape=(None,), dtype=tf.int64, name=None)), ('cat_22', TensorSpec(shape=(None,), dtype=tf.int64, name=None)), ('cat_23', TensorSpec(shape=(None,), dtype=tf.int64, name=None)), ('cat_24', TensorSpec(shape=(None,), dtype=tf.int64, name=None)), ('cat_25', TensorSpec(shape=(None,), dtype=tf.int64, name=None)), ('cat_26', TensorSpec(shape=(None,), dtype=tf.int64, name=None))]), TensorSpec(shape=(None,), dtype=tf.int32, name=None))\n"
     ]
    }
   ],
   "source": [
    "# Print the element specs\n",
    "print('KDD12:')\n",
    "print(kdd12_train_scaled.element_spec)\n",
    "print()\n",
    "print('Avazu:')\n",
    "print(avazu_train_scaled.element_spec)\n",
    "print()\n",
    "print('Criteo:')\n",
    "print(criteo_train_scaled.element_spec)"
   ]
  },
  {
   "cell_type": "code",
   "execution_count": 28,
   "metadata": {},
   "outputs": [],
   "source": [
    "# Apply log transformation to criteo datase\n",
    "\n",
    "@tf.function\n",
    "def criteo_log_scaling(features,label):\n",
    "    out_features = features.copy()\n",
    "    for f in criteo_numerical_columns:\n",
    "        x = features[f]\n",
    "        out_features[f] = tf.where(x>2,tf.math.square(tf.math.log(x)),x)\n",
    "    return out_features, label"
   ]
  },
  {
   "cell_type": "code",
   "execution_count": 29,
   "metadata": {
    "scrolled": true
   },
   "outputs": [],
   "source": [
    "criteo_train_scaled = criteo_train_scaled.map(criteo_log_scaling)\n",
    "criteo_val_scaled = criteo_val_scaled.map(criteo_log_scaling)"
   ]
  },
  {
   "cell_type": "code",
   "execution_count": 30,
   "metadata": {},
   "outputs": [
    {
     "name": "stdout",
     "output_type": "stream",
     "text": [
      "Time taken 256 records kdd12 train scaled: 0:00:00.142907\n",
      "Time taken 256 records kdd12 val scaled: 0:00:00.139031\n",
      "Time taken 256 records avazu train scaled: 0:00:00.140738\n",
      "Time taken 256 records avazu val scaled: 0:00:00.138266\n",
      "Time taken 256 records criteo train scaled: 0:00:00.139773\n",
      "Time taken 256 records criteo val scaled: 0:00:00.136885\n"
     ]
    }
   ],
   "source": [
    "# Print time taken to iterate through 256 records\n",
    "stage = \"scaled\"\n",
    "for dataset in [\"kdd12\",\"avazu\",\"criteo\"]:\n",
    "    for data_split in [\"train\",\"val\"]:\n",
    "        data = globals()[f\"{dataset}_{data_split}_{stage}\"]\n",
    "        \n",
    "        start_time = datetime.datetime.now()\n",
    "        i = 0\n",
    "        for element in kdd12_train.take(256):\n",
    "            i +=1\n",
    "        end_time = datetime.datetime.now()\n",
    "        print(f\"Time taken {i} records {dataset} {data_split} {stage}:\",end_time-start_time)"
   ]
  },
  {
   "cell_type": "code",
   "execution_count": 31,
   "metadata": {},
   "outputs": [],
   "source": [
    "# Define model inputs\n",
    "kdd12_train_model_input = kdd12_train_scaled.take(157440).batch(256).prefetch(tf.data.AUTOTUNE)\n",
    "avazu_train_model_input = avazu_train_scaled.take(157440).batch(256).prefetch(tf.data.AUTOTUNE)\n",
    "criteo_train_model_input = criteo_train_scaled.take(157440).batch(256).prefetch(tf.data.AUTOTUNE)\n",
    "\n",
    "kdd12_val_model_input = kdd12_val_scaled.take(39360).batch(256).prefetch(tf.data.AUTOTUNE)\n",
    "avazu_val_model_input = avazu_val_scaled.take(39360).batch(256).prefetch(tf.data.AUTOTUNE)\n",
    "criteo_val_model_input = criteo_val_scaled.take(39360).batch(256).prefetch(tf.data.AUTOTUNE)"
   ]
  },
  {
   "cell_type": "code",
   "execution_count": 32,
   "metadata": {},
   "outputs": [
    {
     "name": "stdout",
     "output_type": "stream",
     "text": [
      "Time taken 1 batch kdd12 train model_input: 0:00:00.053922\n",
      "Time taken 1 batch kdd12 val model_input: 0:00:00.055509\n",
      "Time taken 1 batch avazu train model_input: 0:00:00.053759\n",
      "Time taken 1 batch avazu val model_input: 0:00:00.054395\n",
      "Time taken 1 batch criteo train model_input: 0:00:00.054389\n",
      "Time taken 1 batch criteo val model_input: 0:00:00.055669\n"
     ]
    }
   ],
   "source": [
    "# Print time taken to iterate through 1 batch\n",
    "stage = \"model_input\"\n",
    "for dataset in [\"kdd12\",\"avazu\",\"criteo\"]:\n",
    "    for data_split in [\"train\",\"val\"]:\n",
    "        data = globals()[f\"{dataset}_{data_split}_{stage}\"]\n",
    "        \n",
    "        start_time = datetime.datetime.now()\n",
    "        i = 0\n",
    "        for element in kdd12_train.take(1):\n",
    "            i +=1\n",
    "        end_time = datetime.datetime.now()\n",
    "        print(f\"Time taken {i} batch {dataset} {data_split} {stage}:\",end_time-start_time)"
   ]
  },
  {
   "cell_type": "code",
   "execution_count": 33,
   "metadata": {},
   "outputs": [],
   "source": [
    "# One-Hot encode the categorical columns\n",
    "@tf.function\n",
    "def one_hot_categorical(features, labels, categorical_columns):\n",
    "    features_out = features.copy()\n",
    "    for field in categorical_columns:\n",
    "        features_out[field] = tf.squeeze(tf.one_hot(features[field],depth=50,dtype=tf.float32),axis=-2)\n",
    "    return features_out, labels"
   ]
  },
  {
   "cell_type": "code",
   "execution_count": 34,
   "metadata": {},
   "outputs": [],
   "source": [
    "# One-hot encode the datasets\n",
    "kdd12_categorical_lower = [x.lower() for x in kdd12_categorical_columns]\n",
    "\n",
    "kdd12_train_ohe = kdd12_train_model_input.map(lambda x, y: one_hot_categorical(x,y,kdd12_categorical_lower))\n",
    "kdd12_val_ohe = kdd12_val_model_input.map(lambda x, y: one_hot_categorical(x,y,kdd12_categorical_lower))\n",
    "avazu_train_ohe = avazu_train_model_input.map(lambda x, y: one_hot_categorical(x,y,avazu_categorical_columns))\n",
    "avazu_val_ohe = avazu_val_model_input.map(lambda x, y: one_hot_categorical(x,y,avazu_categorical_columns))\n",
    "criteo_train_ohe = criteo_train_model_input.map(lambda x, y: one_hot_categorical(x,y,criteo_categorical_columns))\n",
    "criteo_val_ohe = criteo_val_model_input.map(lambda x, y: one_hot_categorical(x,y,criteo_categorical_columns))"
   ]
  },
  {
   "cell_type": "code",
   "execution_count": 35,
   "metadata": {},
   "outputs": [],
   "source": [
    "# Define function to concatinate all features together\n",
    "@tf.function\n",
    "def combine(features, labels):\n",
    "    columns = list(features.keys())\n",
    "    out_cols = []\n",
    "    for field in columns:\n",
    "        out_cols.append(features[field])\n",
    "    features_out = tf.concat(out_cols,axis=-1)\n",
    "    return features_out, labels"
   ]
  },
  {
   "cell_type": "code",
   "execution_count": 36,
   "metadata": {},
   "outputs": [],
   "source": [
    "kdd12_train_ohe = kdd12_train_ohe.map(combine)\n",
    "kdd12_val_ohe = kdd12_val_ohe.map(combine)\n",
    "avazu_train_ohe = avazu_train_ohe.map(combine)\n",
    "avazu_val_ohe = avazu_val_ohe.map(combine)\n",
    "criteo_train_ohe = criteo_train_ohe.map(combine)\n",
    "criteo_val_ohe = criteo_val_ohe.map(combine)"
   ]
  },
  {
   "cell_type": "code",
   "execution_count": 37,
   "metadata": {},
   "outputs": [
    {
     "name": "stdout",
     "output_type": "stream",
     "text": [
      "Time taken 1 batch kdd12 train ohe: 0:00:00.055041\n",
      "Time taken 1 batch kdd12 val ohe: 0:00:00.054352\n",
      "Time taken 1 batch avazu train ohe: 0:00:00.053732\n",
      "Time taken 1 batch avazu val ohe: 0:00:00.053832\n",
      "Time taken 1 batch criteo train ohe: 0:00:00.054283\n",
      "Time taken 1 batch criteo val ohe: 0:00:00.053861\n"
     ]
    }
   ],
   "source": [
    "# Print time taken to iterate through 1 batch\n",
    "stage = \"ohe\"\n",
    "for dataset in [\"kdd12\",\"avazu\",\"criteo\"]:\n",
    "    for data_split in [\"train\",\"val\"]:\n",
    "        data = globals()[f\"{dataset}_{data_split}_{stage}\"]\n",
    "        \n",
    "        start_time = datetime.datetime.now()\n",
    "        i = 0\n",
    "        for element in kdd12_train.take(1):\n",
    "            i +=1\n",
    "        end_time = datetime.datetime.now()\n",
    "        print(f\"Time taken {i} batch {dataset} {data_split} {stage}:\",end_time-start_time)"
   ]
  },
  {
   "cell_type": "code",
   "execution_count": 38,
   "metadata": {},
   "outputs": [],
   "source": [
    "# Calculate the input shapes for each of the datasets\n",
    "kdd12_ohe_shape = (len(kdd12_categorical_columns)*50 + len(kdd12_numerical_columns),)\n",
    "avazu_ohe_shape = (len(avazu_categorical_columns)*50 + len(avazu_numerical_columns),)\n",
    "criteo_ohe_shape = (len(criteo_categorical_columns)*50 + len(criteo_numerical_columns),)"
   ]
  },
  {
   "cell_type": "markdown",
   "metadata": {},
   "source": [
    "### Define Feature columns"
   ]
  },
  {
   "cell_type": "code",
   "execution_count": 39,
   "metadata": {},
   "outputs": [],
   "source": [
    "## Define feature mappings\n",
    "kdd12_fixlen_feature_columns = [SparseFeat(feat.lower(), vocabulary_size=kdd12_vocab_lengths[feat], embedding_dim=4) for feat in kdd12_categorical_columns]\\\n",
    "+ [DenseFeat(feat.lower(),1) for feat in kdd12_numerical_columns]\n",
    "avazu_fixlen_feature_columns = [SparseFeat(feat, vocabulary_size=avazu_vocab_lengths[feat], embedding_dim=4) for feat in avazu_categorical_columns]\\\n",
    "+ [DenseFeat(feat,1) for feat in avazu_numerical_columns]\n",
    "criteo_fixlen_feature_columns = [SparseFeat(feat, vocabulary_size=criteo_vocab_lengths[feat], embedding_dim=4) for feat in criteo_categorical_columns]\\\n",
    "+ [DenseFeat(feat,1) for feat in criteo_numerical_columns]\n",
    "\n",
    "## Generate the dnn and linear feature columns\n",
    "kdd12_dnn_feature_columns = kdd12_fixlen_feature_columns\n",
    "kdd12_linear_feature_columns = kdd12_fixlen_feature_columns\n",
    "\n",
    "avazu_dnn_feature_columns = avazu_fixlen_feature_columns\n",
    "avazu_linear_feature_columns = avazu_fixlen_feature_columns\n",
    "\n",
    "criteo_dnn_feature_columns = criteo_fixlen_feature_columns\n",
    "criteo_linear_feature_columns = criteo_fixlen_feature_columns"
   ]
  },
  {
   "cell_type": "markdown",
   "metadata": {},
   "source": [
    "# Model Replication and Experimentation"
   ]
  },
  {
   "cell_type": "code",
   "execution_count": 40,
   "metadata": {},
   "outputs": [],
   "source": [
    "# Create the model checkpoint directories if they do not exist\n",
    "for model in ['lr','fm','fnn','pnn','wdl','dfm','autoint','fgcnn','nfm','dcn','ccpm']:\n",
    "    for dataset in ['kdd12','avazu','criteo']:\n",
    "        if not os.path.exists(f'./models/{model}/{dataset}'):\n",
    "            os.makedirs(f'./models/{model}/{dataset}')"
   ]
  },
  {
   "cell_type": "code",
   "execution_count": 41,
   "metadata": {},
   "outputs": [],
   "source": [
    "# Define the early stopping callback\n",
    "earlystopping = EarlyStopping(\n",
    "    monitor='val_loss',\n",
    "    patience=5,\n",
    "    restore_best_weights=True\n",
    ")\n",
    "# Define the precision, recall and auc metrics\n",
    "precision = tf.keras.metrics.Precision(thresholds=0.5,name='precision')\n",
    "recall = tf.keras.metrics.Recall(thresholds=0.5,name='recall')\n",
    "auc = tf.keras.metrics.AUC(name='auc')\n",
    "\n",
    "# Define the Class weights\n",
    "kdd12_class_weights = {0: 0.5264044470647687, 1: 9.968102073365232}\n",
    "#criteo_class_weights = {0: 0.6691021986698248, 1: 1.9783959165908283}\n",
    "#avazu_class_weights = {0: 0.6022935337766213, 1: 2.943947244465379}"
   ]
  },
  {
   "cell_type": "markdown",
   "metadata": {},
   "source": [
    "## Shallow Models\n",
    "\n",
    "In order assess the effectiveness of Deep Learning methods for CTR prediction, it makes sense to attain a model score using more traditional model architectures in order to use these as a comparison. (Zhang et al., 2021) briefly discuss the how CTR applications steadily progressed from Shallow to Deep models. The most basic shallow model for the CTR binary classification task is Logistic Regression (Richardson, Dominowska & Ragno, 2007) which benefits from “high efficiency and ease for fast deployment” (Zhang et al., 2021). However, as it became apparent that identifying key feature interactions is crucial for the CTR prediction task, architectures that explicitly capture these interactions such as the Factorization Machine (Juan et al., 2016; Rendle, 2010) became increasingly popular in the domain."
   ]
  },
  {
   "cell_type": "markdown",
   "metadata": {},
   "source": [
    "In order to attain representitive results from beyond the realm of deep learning, below I evaluate two of the most poplarly used shallow models for CTR prediction:\n",
    "\n",
    "- [Logistic regression](https://www.tensorflow.org/guide/core/logistic_regression_core)\n",
    "- Factorization machines"
   ]
  },
  {
   "cell_type": "markdown",
   "metadata": {},
   "source": [
    "### Logistic Regression\n",
    "\n",
    "In logistic regression, we use the logistic (a.k.a. sigmoid) function as our function $f_\\theta$, i.e:\n",
    "$$\n",
    "\\mathcal{P}\\left(\\mathrm{Click}\\right)=\\frac{e^{\\beta_0+\\sum_{i}{\\beta_ix_i}}}{1+e^{\\beta_0+\\sum_{i}{\\beta_ix_i}}}\n",
    "$$\n",
    "(James et al., 2021) show that the equation above can be rearranged as follows:\n",
    "$$\n",
    "\\beta_0+\\sum_{i}{\\beta_ix_i}=log{\\left(\\frac{\\mathcal{P}\\left(\\mathrm{Click}\\right)}{1-\\mathcal{P}\\left(\\mathrm{Click}\\right)}\\right)}\n",
    "$$\n",
    "Logistic regression therefore effectively amounts to fitting a linear regression function to the log odds of a that there is a click for a given instance, parameterized by $\\theta=\\left(\\beta_0,\\beta_1,\\ldots,\\beta_n\\right)$. (Richardson, Dominowska & Ragno, 2007) showed that it is possible to fit a logistic regression model on search advertising data in order to provide accurate click-through rate predictions for each ad, and even demonstrated that the used of this model “improves convergence and performance on the advertising system”. As stated previously, a major benefit of the logistic model over all of the others mentioned here is that since it works on the basis of a simple linear combination of the given features, it is the simplest model to fit and deploy. However, a major shortcoming of this model is the fact that it does not account for feature interactions, and it therefore fails to pick up on discriminating patterns given by the cross-features in the highly sparse categorical ad marketplace data (Zhang et al., 2021).\n"
   ]
  },
  {
   "cell_type": "markdown",
   "metadata": {},
   "source": [
    "Below, I replicate the Logistic regression model in Tensorflow by defining a `Sequential` model class with a single `Dense` layer with sigmoid activation. The Dense layer simply implements the linear combination $\\beta_0+\\sum_{i}{\\beta_ix_i}$ from above, before passing the result through the sigmoid function $\\sigma(x) = \\frac{e^x}{1+e^x}$."
   ]
  },
  {
   "cell_type": "code",
   "execution_count": 43,
   "metadata": {},
   "outputs": [],
   "source": [
    "# Define the CSVLogger callbacks\n",
    "kdd12_lr_csvLogger = CSVLogger('logs/kdd12_lr.csv')\n",
    "avazu_lr_csvLogger = CSVLogger('logs/avazu_lr.csv')\n",
    "criteo_lr_csvLogger = CSVLogger('logs/criteo_lr.csv')"
   ]
  },
  {
   "cell_type": "code",
   "execution_count": 44,
   "metadata": {},
   "outputs": [],
   "source": [
    "# Define the model saving checkpoints\n",
    "# Define the model saving checkpoints\n",
    "kdd12_lr_modelCheckpoint = ModelCheckpoint(\n",
    "    'models/lr/kdd12/kdd12_lr.ckpt',\n",
    "    save_best_only=True,\n",
    "    save_weights_only=True\n",
    ")\n",
    "avazu_lr_modelCheckpoint = ModelCheckpoint(\n",
    "    'models/lr/avazu/avazu_lr.ckpt',\n",
    "    save_best_only=True,\n",
    "    save_weights_only=True\n",
    ")\n",
    "criteo_lr_modelCheckpoint = ModelCheckpoint(\n",
    "    'models/lr/criteo/criteo_lr.ckpt',\n",
    "    save_best_only=True,\n",
    "    save_weights_only=True\n",
    ")"
   ]
  },
  {
   "cell_type": "code",
   "execution_count": 45,
   "metadata": {},
   "outputs": [],
   "source": [
    "# Define a single dense layer sequential model using sigmoid activation function\n",
    "\n",
    "kdd12_lr_model = Sequential([\n",
    "    Input(shape=kdd12_ohe_shape),\n",
    "    Dense(1,activation='sigmoid')\n",
    "])\n",
    "avazu_lr_model = Sequential([\n",
    "    Input(shape=avazu_ohe_shape),\n",
    "    Dense(1,activation='sigmoid')\n",
    "])\n",
    "criteo_lr_model = Sequential([\n",
    "    Input(shape=criteo_ohe_shape),\n",
    "    Dense(1,activation='sigmoid')\n",
    "])"
   ]
  },
  {
   "cell_type": "code",
   "execution_count": 46,
   "metadata": {},
   "outputs": [
    {
     "data": {
      "text/plain": [
       "'\\navazu_lr_model.compile(\\n    optimizer=sgd_optimizer,\\n    loss=\"binary_crossentropy\",\\n    metrics=[\\'binary_crossentropy\\',\\'binary_accuracy\\',precision,recall,auc]\\n)\\ncriteo_lr_model.compile(\\n    optimizer=sgd_optimizer,\\n    loss=\"binary_crossentropy\",\\n    metrics=[\\'binary_crossentropy\\',\\'binary_accuracy\\',precision,recall,auc]\\n)\\n'"
      ]
     },
     "execution_count": 46,
     "metadata": {},
     "output_type": "execute_result"
    }
   ],
   "source": [
    "# Compile the models\n",
    "sgd_optimizer = tf.keras.optimizers.legacy.SGD(learning_rate=0.001)\n",
    "\n",
    "\n",
    "kdd12_lr_model.compile(\n",
    "    optimizer=sgd_optimizer,\n",
    "    loss=\"binary_crossentropy\",\n",
    "    metrics=['binary_crossentropy','binary_accuracy',precision,recall,auc]\n",
    ")\n",
    "'''\n",
    "avazu_lr_model.compile(\n",
    "    optimizer=sgd_optimizer,\n",
    "    loss=\"binary_crossentropy\",\n",
    "    metrics=['binary_crossentropy','binary_accuracy',precision,recall,auc]\n",
    ")\n",
    "criteo_lr_model.compile(\n",
    "    optimizer=sgd_optimizer,\n",
    "    loss=\"binary_crossentropy\",\n",
    "    metrics=['binary_crossentropy','binary_accuracy',precision,recall,auc]\n",
    ")\n",
    "'''"
   ]
  },
  {
   "cell_type": "code",
   "execution_count": 47,
   "metadata": {},
   "outputs": [
    {
     "name": "stdout",
     "output_type": "stream",
     "text": [
      "Epoch 1/15\n"
     ]
    },
    {
     "name": "stderr",
     "output_type": "stream",
     "text": [
      "2024-08-27 18:20:46.012333: I tensorflow/tsl/platform/default/subprocess.cc:304] Start cannot spawn child process: No such file or directory\n"
     ]
    },
    {
     "name": "stdout",
     "output_type": "stream",
     "text": [
      "615/615 [==============================] - 24s 35ms/step - loss: 0.6346 - binary_crossentropy: 0.6941 - binary_accuracy: 0.5166 - precision: 0.0382 - recall: 0.4517 - auc: 0.4756 - val_loss: 0.6847 - val_binary_crossentropy: 0.6847 - val_binary_accuracy: 0.5930 - val_precision: 0.0414 - val_recall: 0.4037 - val_auc: 0.5048\n",
      "Epoch 2/15\n",
      "615/615 [==============================] - 22s 36ms/step - loss: 0.6278 - binary_crossentropy: 0.6752 - binary_accuracy: 0.6987 - precision: 0.0465 - recall: 0.3295 - auc: 0.5364 - val_loss: 0.6676 - val_binary_crossentropy: 0.6676 - val_binary_accuracy: 0.7495 - val_precision: 0.0552 - val_recall: 0.3180 - val_auc: 0.5761\n",
      "Epoch 3/15\n",
      "615/615 [==============================] - 22s 35ms/step - loss: 0.6226 - binary_crossentropy: 0.6598 - binary_accuracy: 0.7640 - precision: 0.0548 - recall: 0.2963 - auc: 0.5836 - val_loss: 0.6536 - val_binary_crossentropy: 0.6536 - val_binary_accuracy: 0.7635 - val_precision: 0.0609 - val_recall: 0.3317 - val_auc: 0.6066\n",
      "Epoch 4/15\n",
      "615/615 [==============================] - 22s 35ms/step - loss: 0.6187 - binary_crossentropy: 0.6472 - binary_accuracy: 0.7740 - precision: 0.0614 - recall: 0.3201 - auc: 0.6031 - val_loss: 0.6421 - val_binary_crossentropy: 0.6421 - val_binary_accuracy: 0.7739 - val_precision: 0.0642 - val_recall: 0.3335 - val_auc: 0.6190\n",
      "Epoch 5/15\n",
      "615/615 [==============================] - 23s 37ms/step - loss: 0.6157 - binary_crossentropy: 0.6367 - binary_accuracy: 0.7748 - precision: 0.0629 - recall: 0.3276 - auc: 0.6118 - val_loss: 0.6325 - val_binary_crossentropy: 0.6325 - val_binary_accuracy: 0.7733 - val_precision: 0.0658 - val_recall: 0.3441 - val_auc: 0.6231\n",
      "Epoch 6/15\n",
      "615/615 [==============================] - 22s 35ms/step - loss: 0.6133 - binary_crossentropy: 0.6279 - binary_accuracy: 0.7815 - precision: 0.0625 - recall: 0.3130 - auc: 0.6153 - val_loss: 0.6244 - val_binary_crossentropy: 0.6244 - val_binary_accuracy: 0.7644 - val_precision: 0.0644 - val_recall: 0.3516 - val_auc: 0.6259\n",
      "Epoch 7/15\n",
      "615/615 [==============================] - 22s 35ms/step - loss: 0.6114 - binary_crossentropy: 0.6205 - binary_accuracy: 0.7549 - precision: 0.0621 - recall: 0.3573 - auc: 0.6173 - val_loss: 0.6175 - val_binary_crossentropy: 0.6175 - val_binary_accuracy: 0.7215 - val_precision: 0.0650 - val_recall: 0.4335 - val_auc: 0.6280\n",
      "Epoch 8/15\n",
      "615/615 [==============================] - 22s 35ms/step - loss: 0.6099 - binary_crossentropy: 0.6142 - binary_accuracy: 0.7163 - precision: 0.0625 - recall: 0.4282 - auc: 0.6193 - val_loss: 0.6117 - val_binary_crossentropy: 0.6117 - val_binary_accuracy: 0.7133 - val_precision: 0.0648 - val_recall: 0.4472 - val_auc: 0.6294\n",
      "Epoch 9/15\n",
      "615/615 [==============================] - 22s 35ms/step - loss: 0.6086 - binary_crossentropy: 0.6089 - binary_accuracy: 0.7126 - precision: 0.0630 - recall: 0.4381 - auc: 0.6210 - val_loss: 0.6067 - val_binary_crossentropy: 0.6067 - val_binary_accuracy: 0.7134 - val_precision: 0.0658 - val_recall: 0.4547 - val_auc: 0.6308\n",
      "Epoch 10/15\n",
      "615/615 [==============================] - 22s 35ms/step - loss: 0.6075 - binary_crossentropy: 0.6043 - binary_accuracy: 0.7123 - precision: 0.0632 - recall: 0.4408 - auc: 0.6225 - val_loss: 0.6024 - val_binary_crossentropy: 0.6024 - val_binary_accuracy: 0.7130 - val_precision: 0.0661 - val_recall: 0.4584 - val_auc: 0.6330\n",
      "Epoch 11/15\n",
      "615/615 [==============================] - 22s 35ms/step - loss: 0.6066 - binary_crossentropy: 0.6003 - binary_accuracy: 0.7123 - precision: 0.0639 - recall: 0.4458 - auc: 0.6238 - val_loss: 0.5987 - val_binary_crossentropy: 0.5987 - val_binary_accuracy: 0.7204 - val_precision: 0.0676 - val_recall: 0.4559 - val_auc: 0.6336\n",
      "Epoch 12/15\n",
      "615/615 [==============================] - 22s 35ms/step - loss: 0.6058 - binary_crossentropy: 0.5968 - binary_accuracy: 0.7147 - precision: 0.0644 - recall: 0.4459 - auc: 0.6248 - val_loss: 0.5954 - val_binary_crossentropy: 0.5954 - val_binary_accuracy: 0.7192 - val_precision: 0.0678 - val_recall: 0.4596 - val_auc: 0.6350\n",
      "Epoch 13/15\n",
      "615/615 [==============================] - 22s 35ms/step - loss: 0.6050 - binary_crossentropy: 0.5938 - binary_accuracy: 0.7161 - precision: 0.0657 - recall: 0.4537 - auc: 0.6263 - val_loss: 0.5926 - val_binary_crossentropy: 0.5926 - val_binary_accuracy: 0.7046 - val_precision: 0.0687 - val_recall: 0.4957 - val_auc: 0.6358\n",
      "Epoch 14/15\n",
      "615/615 [==============================] - 23s 37ms/step - loss: 0.6044 - binary_crossentropy: 0.5912 - binary_accuracy: 0.7041 - precision: 0.0660 - recall: 0.4783 - auc: 0.6274 - val_loss: 0.5902 - val_binary_crossentropy: 0.5902 - val_binary_accuracy: 0.7037 - val_precision: 0.0688 - val_recall: 0.4981 - val_auc: 0.6369\n",
      "Epoch 15/15\n",
      "615/615 [==============================] - 22s 36ms/step - loss: 0.6038 - binary_crossentropy: 0.5889 - binary_accuracy: 0.7036 - precision: 0.0662 - recall: 0.4808 - auc: 0.6281 - val_loss: 0.5881 - val_binary_crossentropy: 0.5881 - val_binary_accuracy: 0.7032 - val_precision: 0.0688 - val_recall: 0.4994 - val_auc: 0.6382\n"
     ]
    },
    {
     "data": {
      "text/plain": [
       "'\\navazu_lr_model.fit(\\n    avazu_train_ohe,\\n    validation_data=avazu_val_ohe,\\n    batch_size=256,\\n    epochs=15,\\n    callbacks=[avazu_lr_csvLogger, avazu_lr_modelCheckpoint, earlystopping]\\n)\\n\\ncriteo_lr_model.fit(\\n    criteo_train_ohe,\\n    validation_data=criteo_val_ohe,\\n    batch_size=256,\\n    epochs=15,\\n    callbacks=[criteo_lr_csvLogger, criteo_lr_modelCheckpoint, earlystopping]\\n)\\n'"
      ]
     },
     "execution_count": 47,
     "metadata": {},
     "output_type": "execute_result"
    }
   ],
   "source": [
    "# Fit the models to the datasets\n",
    "\n",
    "kdd12_lr_model.fit(\n",
    "    kdd12_train_ohe,\n",
    "    validation_data=kdd12_val_ohe,\n",
    "    batch_size=256,\n",
    "    epochs=15,\n",
    "    callbacks=[kdd12_lr_csvLogger, kdd12_lr_modelCheckpoint, earlystopping],\n",
    "    class_weight=kdd12_class_weights,\n",
    ")\n",
    "'''\n",
    "avazu_lr_model.fit(\n",
    "    avazu_train_ohe,\n",
    "    validation_data=avazu_val_ohe,\n",
    "    batch_size=256,\n",
    "    epochs=15,\n",
    "    callbacks=[avazu_lr_csvLogger, avazu_lr_modelCheckpoint, earlystopping]\n",
    ")\n",
    "\n",
    "criteo_lr_model.fit(\n",
    "    criteo_train_ohe,\n",
    "    validation_data=criteo_val_ohe,\n",
    "    batch_size=256,\n",
    "    epochs=15,\n",
    "    callbacks=[criteo_lr_csvLogger, criteo_lr_modelCheckpoint, earlystopping]\n",
    ")\n",
    "'''"
   ]
  },
  {
   "cell_type": "code",
   "execution_count": 48,
   "metadata": {},
   "outputs": [
    {
     "data": {
      "image/png": "[encoded data removed]",
      "text/plain": [
       "<Figure size 640x480 with 1 Axes>"
      ]
     },
     "metadata": {},
     "output_type": "display_data"
    },
    {
     "data": {
      "image/png": "[encoded data removed]",
      "text/plain": [
       "<Figure size 640x480 with 1 Axes>"
      ]
     },
     "metadata": {},
     "output_type": "display_data"
    },
    {
     "data": {
      "image/png": "[encoded data removed]",
      "text/plain": [
       "<Figure size 640x480 with 1 Axes>"
      ]
     },
     "metadata": {},
     "output_type": "display_data"
    }
   ],
   "source": [
    "# Plot the training and validation losses for each epoch\n",
    "# Read in the history logs\n",
    "kdd12_history = pd.read_csv('logs/kdd12_lr.csv')\n",
    "avazu_history = pd.read_csv('logs/avazu_lr.csv')\n",
    "criteo_history = pd.read_csv('logs/criteo_lr.csv')\n",
    "\n",
    "# Plot the training history\n",
    "plt.plot(kdd12_history['binary_crossentropy'])\n",
    "plt.plot(kdd12_history['val_binary_crossentropy'])\n",
    "plt.title('kdd12_model loss')\n",
    "plt.ylabel('loss')\n",
    "plt.xlabel('epoch')\n",
    "plt.legend(['train', 'val'], loc='upper left')\n",
    "plt.show()\n",
    "\n",
    "plt.plot(avazu_history['binary_crossentropy'])\n",
    "plt.plot(avazu_history['val_binary_crossentropy'])\n",
    "plt.title('avazu_model loss')\n",
    "plt.ylabel('loss')\n",
    "plt.xlabel('epoch')\n",
    "plt.legend(['train', 'val'], loc='upper left')\n",
    "plt.show()\n",
    "\n",
    "plt.plot(criteo_history['binary_crossentropy'])\n",
    "plt.plot(criteo_history['val_binary_crossentropy'])\n",
    "plt.title('criteo_model loss')\n",
    "plt.ylabel('loss')\n",
    "plt.xlabel('epoch')\n",
    "plt.legend(['train', 'val'], loc='upper left')\n",
    "plt.show()"
   ]
  },
  {
   "cell_type": "markdown",
   "metadata": {},
   "source": [
    "### Factorization Machine"
   ]
  },
  {
   "cell_type": "markdown",
   "metadata": {},
   "source": [
    "Factorization Machines were first introduced in \\citep{RefWorks:rendle2010factorization} as\n",
    "a model class that ``combines the advantages of Support Vector Machines (SVM) with factorization models''.\n",
    "The model is able to capture the second order feature interactions in the data, which is a key advantage over\n",
    "Logistic Regression. The model is defined as follows:\n",
    "\n",
    "$$\n",
    "\\hat{y}(\\mathbf{x}) = w_0 + \\sum_{i=1}^{n} w_i x_i + \\sum_{i=1}^{n} \\sum_{j=i+1}^{n} \\langle \\mathbf{v}_i, \\mathbf{v}_j \\rangle x_i x_j\n",
    "$$\n",
    "\n",
    "where $w_0$ is the bias term, $w_i$ are the weights for the $i$-th feature, $\\mathbf{v}_i$ are the latent vectors for the $i$-th feature.\n",
    "Rendel (2020) shows that the learned biases and weights of the FM model can be\n",
    "computed in linear time, ``and can be learned efficiently by gradient descent methods'', such as Stochastic Gradient Descent (SGD).\n",
    "\n",
    "In the code below, I replicate the FM model by first creating a custom `tf.keras.layers.Layer` class that carries out the\n",
    "forward calculation above. The trainable weights of the layer are then optimized using Stochastic Gradient Descent with \n",
    "`learning_rate=0.01`."
   ]
  },
  {
   "cell_type": "code",
   "execution_count": 42,
   "metadata": {},
   "outputs": [],
   "source": [
    "# Define custom FactorizationMachine layer\n",
    "class FactorizationMachine(tf.keras.layers.Layer):\n",
    "    def __init__(self, k, name=\"FM_layer\"):\n",
    "        super(FactorizationMachine, self).__init__(name=name)\n",
    "        self.k = k\n",
    "\n",
    "    def build(self, input_shape):\n",
    "        self.w0 = self.add_weight(\"bias\", shape=(1,), initializer=tf.keras.initializers.GlorotNormal())\n",
    "        self.W = self.add_weight(\"weights\", shape=(input_shape[-1],), initializer=tf.keras.initializers.GlorotNormal())\n",
    "        self.V = self.add_weight(\"interaction_factors\", shape=(self.k, input_shape[-1]), initializer=tf.keras.initializers.GlorotNormal())\n",
    "\n",
    "    def call(self, inputs):\n",
    "        linear_terms = tf.add(\n",
    "            self.w0,\n",
    "            tf.reduce_sum(\n",
    "                tf.multiply(self.W, inputs),\n",
    "                axis=1,\n",
    "                keepdims=True\n",
    "            )\n",
    "        )\n",
    "        interaction_terms = tf.multiply(\n",
    "            0.5,\n",
    "            tf.reduce_sum(\n",
    "                tf.math.subtract(\n",
    "                    tf.pow(tf.matmul(inputs, tf.transpose(self.V)), 2),\n",
    "                    tf.matmul(tf.pow(inputs, 2), tf.transpose(tf.pow(self.V, 2)))\n",
    "                ),\n",
    "                axis=1, \n",
    "                keepdims=True\n",
    "            )\n",
    "        )\n",
    "        return tf.add(linear_terms,interaction_terms)\n",
    "        \n",
    "    # Have to overwite the get_config method to save the model\n",
    "    def get_config(self):\n",
    "        config = super().get_config().copy()\n",
    "        config.update({'k':self.k})\n",
    "        return config"
   ]
  },
  {
   "cell_type": "code",
   "execution_count": 52,
   "metadata": {},
   "outputs": [
    {
     "data": {
      "text/plain": [
       "\"\\navazu_fm_model = Sequential([\\n    Input(shape=avazu_ohe_shape),\\n    FactorizationMachine(5),\\n    Activation('sigmoid')\\n])\\ncriteo_fm_model = Sequential([\\n    Input(shape=criteo_ohe_shape),\\n    FactorizationMachine(5),\\n    Activation('sigmoid')\\n])\\n\""
      ]
     },
     "execution_count": 52,
     "metadata": {},
     "output_type": "execute_result"
    }
   ],
   "source": [
    "# Create sequential Factorization Machine Models\n",
    "kdd12_fm_model = Sequential([\n",
    "    Input(shape=kdd12_ohe_shape),\n",
    "    FactorizationMachine(5),\n",
    "    Activation('sigmoid')\n",
    "])\n",
    "'''\n",
    "avazu_fm_model = Sequential([\n",
    "    Input(shape=avazu_ohe_shape),\n",
    "    FactorizationMachine(5),\n",
    "    Activation('sigmoid')\n",
    "])\n",
    "criteo_fm_model = Sequential([\n",
    "    Input(shape=criteo_ohe_shape),\n",
    "    FactorizationMachine(5),\n",
    "    Activation('sigmoid')\n",
    "])\n",
    "'''"
   ]
  },
  {
   "cell_type": "code",
   "execution_count": 53,
   "metadata": {},
   "outputs": [],
   "source": [
    "# Define the CSVLogger callbacks\n",
    "kdd12_fm_csvLogger = CSVLogger('logs/kdd12_fm.csv')\n",
    "avazu_fm_csvLogger = CSVLogger('logs/avazu_fm.csv')\n",
    "criteo_fm_csvLogger = CSVLogger('logs/criteo_fm.csv')"
   ]
  },
  {
   "cell_type": "code",
   "execution_count": 54,
   "metadata": {},
   "outputs": [],
   "source": [
    "# Define the model saving checkpoints\n",
    "kdd12_fm_modelCheckpoint = ModelCheckpoint(\n",
    "    'models/fm/kdd12/kdd12_fm.ckpt',\n",
    "    save_best_only=True,\n",
    "    save_weights_only=True\n",
    ")\n",
    "avazu_fm_modelCheckpoint = ModelCheckpoint(\n",
    "    'models/fm/avazu/avazu_fm.ckpt',\n",
    "    save_best_only=True,\n",
    "    save_weights_only=True\n",
    ")\n",
    "criteo_fm_modelCheckpoint = ModelCheckpoint(\n",
    "    'models/fm/criteo/criteo_fm.ckpt',\n",
    "    save_best_only=True,\n",
    "    save_weights_only=True\n",
    ")"
   ]
  },
  {
   "cell_type": "code",
   "execution_count": 55,
   "metadata": {},
   "outputs": [
    {
     "data": {
      "text/plain": [
       "'\\navazu_fm_model.compile(\\n    optimizer=sgd_optimizer,\\n    loss=\"binary_crossentropy\",\\n    metrics=[\\'binary_crossentropy\\',\\'binary_accuracy\\',precision,recall,auc]\\n)\\ncriteo_fm_model.compile(\\n    optimizer=sgd_optimizer,\\n    loss=\"binary_crossentropy\",\\n    metrics=[\\'binary_crossentropy\\',\\'binary_accuracy\\',precision,recall,auc]\\n)\\n'"
      ]
     },
     "execution_count": 55,
     "metadata": {},
     "output_type": "execute_result"
    }
   ],
   "source": [
    "# Compile the models\n",
    "sgd_optimizer = tf.keras.optimizers.legacy.SGD(learning_rate=0.001)\n",
    "\n",
    "\n",
    "kdd12_fm_model.compile(\n",
    "    #optimizer=sgd_optimizer,\n",
    "    optimizer=\"adam\",\n",
    "    loss=\"binary_crossentropy\",\n",
    "    metrics=['binary_crossentropy','binary_accuracy',precision,recall,auc],\n",
    ")\n",
    "'''\n",
    "avazu_fm_model.compile(\n",
    "    optimizer=sgd_optimizer,\n",
    "    loss=\"binary_crossentropy\",\n",
    "    metrics=['binary_crossentropy','binary_accuracy',precision,recall,auc]\n",
    ")\n",
    "criteo_fm_model.compile(\n",
    "    optimizer=sgd_optimizer,\n",
    "    loss=\"binary_crossentropy\",\n",
    "    metrics=['binary_crossentropy','binary_accuracy',precision,recall,auc]\n",
    ")\n",
    "'''"
   ]
  },
  {
   "cell_type": "code",
   "execution_count": 56,
   "metadata": {
    "scrolled": true
   },
   "outputs": [
    {
     "name": "stdout",
     "output_type": "stream",
     "text": [
      "Epoch 1/15\n",
      "    615/Unknown - 18s 28ms/step - loss: 0.7792 - binary_crossentropy: 0.2917 - binary_accuracy: 0.9289 - precision: 0.0723 - recall: 0.1449 - auc: 0.5609"
     ]
    },
    {
     "name": "stderr",
     "output_type": "stream",
     "text": [
      "2024-08-28 05:40:00.320707: I tensorflow/core/framework/local_rendezvous.cc:421] Local rendezvous recv item cancelled. Key hash: 13087622036186580445\n",
      "2024-08-28 05:40:00.320750: I tensorflow/core/framework/local_rendezvous.cc:421] Local rendezvous recv item cancelled. Key hash: 905846027691530294\n",
      "2024-08-28 05:40:00.320760: I tensorflow/core/framework/local_rendezvous.cc:421] Local rendezvous recv item cancelled. Key hash: 1710757137162679418\n"
     ]
    },
    {
     "name": "stdout",
     "output_type": "stream",
     "text": [
      "615/615 [==============================] - 23s 36ms/step - loss: 0.7792 - binary_crossentropy: 0.2917 - binary_accuracy: 0.9289 - precision: 0.0723 - recall: 0.1449 - auc: 0.5609 - val_loss: 0.3719 - val_binary_crossentropy: 0.3719 - val_binary_accuracy: 0.8943 - val_precision: 0.0739 - val_recall: 0.1373 - val_auc: 0.5915\n",
      "Epoch 2/15\n",
      "  1/615 [..............................] - ETA: 18s - loss: 0.7332 - binary_crossentropy: 0.3670 - binary_accuracy: 0.8984 - precision: 0.0588 - recall: 0.0909 - auc: 0.5798"
     ]
    },
    {
     "name": "stderr",
     "output_type": "stream",
     "text": [
      "2024-08-28 05:40:05.069290: I tensorflow/core/framework/local_rendezvous.cc:421] Local rendezvous recv item cancelled. Key hash: 5957782816391560929\n",
      "2024-08-28 05:40:05.069332: I tensorflow/core/framework/local_rendezvous.cc:421] Local rendezvous recv item cancelled. Key hash: 12286371389447238354\n",
      "2024-08-28 05:40:05.069352: I tensorflow/core/framework/local_rendezvous.cc:421] Local rendezvous recv item cancelled. Key hash: 1472146874664076762\n"
     ]
    },
    {
     "name": "stdout",
     "output_type": "stream",
     "text": [
      "615/615 [==============================] - 22s 36ms/step - loss: 0.6467 - binary_crossentropy: 0.4156 - binary_accuracy: 0.8798 - precision: 0.0781 - recall: 0.1816 - auc: 0.5996 - val_loss: 0.4515 - val_binary_crossentropy: 0.4515 - val_binary_accuracy: 0.8641 - val_precision: 0.0790 - val_recall: 0.2180 - val_auc: 0.6170\n",
      "Epoch 3/15\n",
      "615/615 [==============================] - 22s 36ms/step - loss: 0.6103 - binary_crossentropy: 0.4743 - binary_accuracy: 0.8407 - precision: 0.0803 - recall: 0.2800 - auc: 0.6277 - val_loss: 0.4922 - val_binary_crossentropy: 0.4922 - val_binary_accuracy: 0.8206 - val_precision: 0.0795 - val_recall: 0.3199 - val_auc: 0.6418\n",
      "Epoch 4/15\n",
      "615/615 [==============================] - 22s 36ms/step - loss: 0.5940 - binary_crossentropy: 0.5035 - binary_accuracy: 0.7997 - precision: 0.0783 - recall: 0.3656 - auc: 0.6496 - val_loss: 0.5126 - val_binary_crossentropy: 0.5126 - val_binary_accuracy: 0.7908 - val_precision: 0.0783 - val_recall: 0.3820 - val_auc: 0.6611\n",
      "Epoch 5/15\n",
      "615/615 [==============================] - 22s 36ms/step - loss: 0.5846 - binary_crossentropy: 0.5183 - binary_accuracy: 0.7873 - precision: 0.0787 - recall: 0.3963 - auc: 0.6659 - val_loss: 0.5238 - val_binary_crossentropy: 0.5238 - val_binary_accuracy: 0.7843 - val_precision: 0.0792 - val_recall: 0.4019 - val_auc: 0.6711\n",
      "Epoch 6/15\n",
      "615/615 [==============================] - 22s 36ms/step - loss: 0.5783 - binary_crossentropy: 0.5267 - binary_accuracy: 0.7816 - precision: 0.0802 - recall: 0.4184 - auc: 0.6753 - val_loss: 0.5310 - val_binary_crossentropy: 0.5310 - val_binary_accuracy: 0.7618 - val_precision: 0.0780 - val_recall: 0.4460 - val_auc: 0.6777\n",
      "Epoch 7/15\n",
      "615/615 [==============================] - 23s 37ms/step - loss: 0.5741 - binary_crossentropy: 0.5322 - binary_accuracy: 0.7694 - precision: 0.0802 - recall: 0.4475 - auc: 0.6822 - val_loss: 0.5362 - val_binary_crossentropy: 0.5362 - val_binary_accuracy: 0.7664 - val_precision: 0.0794 - val_recall: 0.4447 - val_auc: 0.6809\n",
      "Epoch 8/15\n",
      "615/615 [==============================] - 22s 36ms/step - loss: 0.5711 - binary_crossentropy: 0.5361 - binary_accuracy: 0.7688 - precision: 0.0807 - recall: 0.4520 - auc: 0.6871 - val_loss: 0.5400 - val_binary_crossentropy: 0.5400 - val_binary_accuracy: 0.7645 - val_precision: 0.0788 - val_recall: 0.4447 - val_auc: 0.6833\n",
      "Epoch 9/15\n",
      "615/615 [==============================] - 22s 36ms/step - loss: 0.5691 - binary_crossentropy: 0.5387 - binary_accuracy: 0.7686 - precision: 0.0810 - recall: 0.4545 - auc: 0.6902 - val_loss: 0.5427 - val_binary_crossentropy: 0.5427 - val_binary_accuracy: 0.7650 - val_precision: 0.0789 - val_recall: 0.4447 - val_auc: 0.6844\n"
     ]
    },
    {
     "ename": "KeyboardInterrupt",
     "evalue": "",
     "output_type": "error",
     "traceback": [
      "\u001b[0;31m---------------------------------------------------------------------------\u001b[0m",
      "\u001b[0;31mKeyboardInterrupt\u001b[0m                         Traceback (most recent call last)",
      "Cell \u001b[0;32mIn[56], line 2\u001b[0m\n\u001b[1;32m      1\u001b[0m \u001b[38;5;66;03m# Fit the models\u001b[39;00m\n\u001b[0;32m----> 2\u001b[0m \u001b[43mkdd12_fm_model\u001b[49m\u001b[38;5;241;43m.\u001b[39;49m\u001b[43mfit\u001b[49m\u001b[43m(\u001b[49m\n\u001b[1;32m      3\u001b[0m \u001b[43m    \u001b[49m\u001b[43mkdd12_train_ohe\u001b[49m\u001b[43m,\u001b[49m\n\u001b[1;32m      4\u001b[0m \u001b[43m    \u001b[49m\u001b[43mvalidation_data\u001b[49m\u001b[43m \u001b[49m\u001b[38;5;241;43m=\u001b[39;49m\u001b[43m \u001b[49m\u001b[43mkdd12_val_ohe\u001b[49m\u001b[43m,\u001b[49m\n\u001b[1;32m      5\u001b[0m \u001b[43m    \u001b[49m\u001b[43mbatch_size\u001b[49m\u001b[38;5;241;43m=\u001b[39;49m\u001b[38;5;241;43m256\u001b[39;49m\u001b[43m,\u001b[49m\n\u001b[1;32m      6\u001b[0m \u001b[43m    \u001b[49m\u001b[43mepochs\u001b[49m\u001b[38;5;241;43m=\u001b[39;49m\u001b[38;5;241;43m15\u001b[39;49m\u001b[43m,\u001b[49m\n\u001b[1;32m      7\u001b[0m \u001b[43m    \u001b[49m\u001b[38;5;66;43;03m#callbacks=[kdd12_fm_csvLogger, kdd12_fm_modelCheckpoint, earlystopping],\u001b[39;49;00m\n\u001b[1;32m      8\u001b[0m \u001b[43m    \u001b[49m\u001b[43mcallbacks\u001b[49m\u001b[38;5;241;43m=\u001b[39;49m\u001b[43m[\u001b[49m\u001b[43mkdd12_fm_csvLogger\u001b[49m\u001b[43m,\u001b[49m\u001b[43m \u001b[49m\u001b[43mkdd12_fm_modelCheckpoint\u001b[49m\u001b[43m]\u001b[49m\u001b[43m,\u001b[49m\n\u001b[1;32m      9\u001b[0m \u001b[43m    \u001b[49m\u001b[43mclass_weight\u001b[49m\u001b[38;5;241;43m=\u001b[39;49m\u001b[43mkdd12_class_weights\u001b[49m\u001b[43m,\u001b[49m\n\u001b[1;32m     10\u001b[0m \u001b[43m)\u001b[49m\n\u001b[1;32m     11\u001b[0m \u001b[38;5;124;03m'''\u001b[39;00m\n\u001b[1;32m     12\u001b[0m \u001b[38;5;124;03mavazu_fm_model.fit(\u001b[39;00m\n\u001b[1;32m     13\u001b[0m \u001b[38;5;124;03m    avazu_train_ohe,\u001b[39;00m\n\u001b[0;32m   (...)\u001b[0m\n\u001b[1;32m     25\u001b[0m \u001b[38;5;124;03m)\u001b[39;00m\n\u001b[1;32m     26\u001b[0m \u001b[38;5;124;03m'''\u001b[39;00m\n",
      "File \u001b[0;32m~/.conda/envs/mlds_gpu/lib/python3.10/site-packages/keras/src/utils/traceback_utils.py:65\u001b[0m, in \u001b[0;36mfilter_traceback.<locals>.error_handler\u001b[0;34m(*args, **kwargs)\u001b[0m\n\u001b[1;32m     63\u001b[0m filtered_tb \u001b[38;5;241m=\u001b[39m \u001b[38;5;28;01mNone\u001b[39;00m\n\u001b[1;32m     64\u001b[0m \u001b[38;5;28;01mtry\u001b[39;00m:\n\u001b[0;32m---> 65\u001b[0m     \u001b[38;5;28;01mreturn\u001b[39;00m \u001b[43mfn\u001b[49m\u001b[43m(\u001b[49m\u001b[38;5;241;43m*\u001b[39;49m\u001b[43margs\u001b[49m\u001b[43m,\u001b[49m\u001b[43m \u001b[49m\u001b[38;5;241;43m*\u001b[39;49m\u001b[38;5;241;43m*\u001b[39;49m\u001b[43mkwargs\u001b[49m\u001b[43m)\u001b[49m\n\u001b[1;32m     66\u001b[0m \u001b[38;5;28;01mexcept\u001b[39;00m \u001b[38;5;167;01mException\u001b[39;00m \u001b[38;5;28;01mas\u001b[39;00m e:\n\u001b[1;32m     67\u001b[0m     filtered_tb \u001b[38;5;241m=\u001b[39m _process_traceback_frames(e\u001b[38;5;241m.\u001b[39m__traceback__)\n",
      "File \u001b[0;32m~/.conda/envs/mlds_gpu/lib/python3.10/site-packages/keras/src/engine/training.py:1771\u001b[0m, in \u001b[0;36mModel.fit\u001b[0;34m(self, x, y, batch_size, epochs, verbose, callbacks, validation_split, validation_data, shuffle, class_weight, sample_weight, initial_epoch, steps_per_epoch, validation_steps, validation_batch_size, validation_freq, max_queue_size, workers, use_multiprocessing)\u001b[0m\n\u001b[1;32m   1769\u001b[0m logs \u001b[38;5;241m=\u001b[39m \u001b[38;5;28;01mNone\u001b[39;00m\n\u001b[1;32m   1770\u001b[0m \u001b[38;5;28;01mfor\u001b[39;00m epoch, iterator \u001b[38;5;129;01min\u001b[39;00m data_handler\u001b[38;5;241m.\u001b[39menumerate_epochs():\n\u001b[0;32m-> 1771\u001b[0m     \u001b[38;5;28;43mself\u001b[39;49m\u001b[38;5;241;43m.\u001b[39;49m\u001b[43mreset_metrics\u001b[49m\u001b[43m(\u001b[49m\u001b[43m)\u001b[49m\n\u001b[1;32m   1772\u001b[0m     callbacks\u001b[38;5;241m.\u001b[39mon_epoch_begin(epoch)\n\u001b[1;32m   1773\u001b[0m     \u001b[38;5;28;01mwith\u001b[39;00m data_handler\u001b[38;5;241m.\u001b[39mcatch_stop_iteration():\n",
      "File \u001b[0;32m~/.conda/envs/mlds_gpu/lib/python3.10/site-packages/keras/src/engine/training.py:2679\u001b[0m, in \u001b[0;36mModel.reset_metrics\u001b[0;34m(self)\u001b[0m\n\u001b[1;32m   2675\u001b[0m         \u001b[38;5;28mself\u001b[39m\u001b[38;5;241m.\u001b[39m_distribution_strategy \u001b[38;5;241m=\u001b[39m original_pss_strategy\n\u001b[1;32m   2677\u001b[0m     \u001b[38;5;28;01mreturn\u001b[39;00m tf_utils\u001b[38;5;241m.\u001b[39msync_to_numpy_or_python_type(all_outputs)\n\u001b[0;32m-> 2679\u001b[0m \u001b[38;5;28;01mdef\u001b[39;00m \u001b[38;5;21mreset_metrics\u001b[39m(\u001b[38;5;28mself\u001b[39m):\n\u001b[1;32m   2680\u001b[0m \u001b[38;5;250m    \u001b[39m\u001b[38;5;124;03m\"\"\"Resets the state of all the metrics in the model.\u001b[39;00m\n\u001b[1;32m   2681\u001b[0m \n\u001b[1;32m   2682\u001b[0m \u001b[38;5;124;03m    Examples:\u001b[39;00m\n\u001b[0;32m   (...)\u001b[0m\n\u001b[1;32m   2696\u001b[0m \n\u001b[1;32m   2697\u001b[0m \u001b[38;5;124;03m    \"\"\"\u001b[39;00m\n\u001b[1;32m   2698\u001b[0m     \u001b[38;5;28;01mfor\u001b[39;00m m \u001b[38;5;129;01min\u001b[39;00m \u001b[38;5;28mself\u001b[39m\u001b[38;5;241m.\u001b[39mmetrics:\n",
      "\u001b[0;31mKeyboardInterrupt\u001b[0m: "
     ]
    }
   ],
   "source": [
    "# Fit the models\n",
    "kdd12_fm_model.fit(\n",
    "    kdd12_train_ohe,\n",
    "    validation_data = kdd12_val_ohe,\n",
    "    batch_size=256,\n",
    "    epochs=15,\n",
    "    #callbacks=[kdd12_fm_csvLogger, kdd12_fm_modelCheckpoint, earlystopping],\n",
    "    callbacks=[kdd12_fm_csvLogger, kdd12_fm_modelCheckpoint],\n",
    "    class_weight=kdd12_class_weights,\n",
    ")\n",
    "'''\n",
    "avazu_fm_model.fit(\n",
    "    avazu_train_ohe,\n",
    "    validation_data = avazu_val_ohe,\n",
    "    batch_size=256,\n",
    "    epochs=15,\n",
    "    callbacks=[avazu_fm_csvLogger, avazu_fm_modelCheckpoint, earlystopping]\n",
    ")\n",
    "criteo_fm_model.fit(\n",
    "    criteo_train_ohe,\n",
    "    validation_data = criteo_val_ohe,\n",
    "    batch_size=256,\n",
    "    epochs=15,\n",
    "    callbacks=[criteo_fm_csvLogger, criteo_fm_modelCheckpoint, earlystopping]\n",
    ")\n",
    "'''"
   ]
  },
  {
   "cell_type": "code",
   "execution_count": 59,
   "metadata": {},
   "outputs": [
    {
     "data": {
      "image/png": "[encoded data removed]",
      "text/plain": [
       "<Figure size 640x480 with 1 Axes>"
      ]
     },
     "metadata": {},
     "output_type": "display_data"
    },
    {
     "data": {
      "image/png": "[encoded data removed]",
      "text/plain": [
       "<Figure size 640x480 with 1 Axes>"
      ]
     },
     "metadata": {},
     "output_type": "display_data"
    },
    {
     "data": {
      "image/png": "[encoded data removed]",
      "text/plain": [
       "<Figure size 640x480 with 1 Axes>"
      ]
     },
     "metadata": {},
     "output_type": "display_data"
    }
   ],
   "source": [
    "# Plot the training and validation losses for each epoch\n",
    "# Read in the history logs\n",
    "kdd12_history = pd.read_csv('logs/kdd12_fm.csv')\n",
    "avazu_history = pd.read_csv('logs/avazu_fm.csv')\n",
    "criteo_history = pd.read_csv('logs/criteo_fm.csv')\n",
    "\n",
    "# Plot the training history\n",
    "plt.plot(kdd12_history['binary_crossentropy'])\n",
    "plt.plot(kdd12_history['val_binary_crossentropy'])\n",
    "plt.title('kdd12_model loss')\n",
    "plt.ylabel('loss')\n",
    "plt.xlabel('epoch')\n",
    "plt.legend(['train', 'val'], loc='upper left')\n",
    "plt.show()\n",
    "\n",
    "plt.plot(avazu_history['binary_crossentropy'])\n",
    "plt.plot(avazu_history['val_binary_crossentropy'])\n",
    "plt.title('avazu_model loss')\n",
    "plt.ylabel('loss')\n",
    "plt.xlabel('epoch')\n",
    "plt.legend(['train', 'val'], loc='upper left')\n",
    "plt.show()\n",
    "\n",
    "plt.plot(criteo_history['binary_crossentropy'])\n",
    "plt.plot(criteo_history['val_binary_crossentropy'])\n",
    "plt.title('criteo_model loss')\n",
    "plt.ylabel('loss')\n",
    "plt.xlabel('epoch')\n",
    "plt.legend(['train', 'val'], loc='upper left')\n",
    "plt.show()"
   ]
  },
  {
   "cell_type": "markdown",
   "metadata": {},
   "source": [
    "## Deep Models"
   ]
  },
  {
   "cell_type": "markdown",
   "metadata": {},
   "source": [
    "As explained above, I will explore a number of deep learning models. I selected five popular models on the basis of the following criteria\n",
    "\n",
    "- Competitive predition accuracy in the KDD12, Criteo and Avazu datasets as published on [PapersWithCode](https://paperswithcode.com/)\n",
    "- Ideally, I was looking for a representitive set of models for each model type as discussed in (Zhang et. al. 2021). Therefore I was looking for models that employed Product Interaction Opetators, Attention Operators and Factorization Machines as a basis.\n",
    "- The code for the model has to be accessible and intuitive to use.\n",
    "\n",
    "On the basis of the above critea, I have chosen the following models to explore:\n",
    "\n",
    "- Factorization Supported Neural Networks\n",
    "- Product Based Neural Networks\n",
    "- Wide and Deep\n",
    "- DeepFM\n",
    "- Automatic Feature Interaction (AutoInt)\n",
    "\n",
    "In the section below, I briefly introduce each of the models, and evaluate against the benchmark datasets loaded and preprocessed above."
   ]
  },
  {
   "cell_type": "markdown",
   "metadata": {},
   "source": [
    "### Factorization-Machine Supported Neural Networks"
   ]
  },
  {
   "cell_type": "markdown",
   "metadata": {},
   "source": [
    "The first Deep Learning model that we will consider is the Factorization Supported\n",
    "Neural Network (FNN) model proposed by Zhang et. al. (2016). The model works by first training a Factorization Machine\n",
    "model on the sparse-encoded categorical input features. It then uses the latent vectors learned by the FM model (see $\\mathbf{v}_i$ in the equation above)\n",
    "as inputs to a Neural Network, as shown in the figure below. In doing so, the FNN model is effectively using the FM latent factors to initialize the embedding layer of the Neural Network.\n",
    "The DNN is then able to learn the higher order feature interactions in the data, which the FM model is unable to capture.\n",
    "\n",
    "![FNN](figures/fnn.png)"
   ]
  },
  {
   "cell_type": "code",
   "execution_count": 60,
   "metadata": {
    "scrolled": true
   },
   "outputs": [
    {
     "data": {
      "text/plain": [
       "'\\navazu_fnn_model = FNN(\\n    avazu_linear_feature_columns, \\n    avazu_dnn_feature_columns, \\n    task=\\'binary\\',\\n    dnn_hidden_units=[200,200,200],\\n    dnn_dropout=0.6,\\n    l2_reg_dnn=0.005,\\n    l2_reg_linear = 0.005,\\n    l2_reg_embedding=0.005\\n    )\\navazu_fnn_model.compile(\"adam\", \"binary_crossentropy\", metrics=[\\'binary_crossentropy\\',\\'binary_accuracy\\',precision,recall,auc], )\\n\\ncriteo_fnn_model = FNN(\\n    criteo_linear_feature_columns, \\n    criteo_dnn_feature_columns, \\n    task=\\'binary\\',\\n    dnn_hidden_units=[200,200,200],\\n    dnn_dropout=0.6,\\n    l2_reg_dnn=0.005,\\n    l2_reg_linear = 0.005,\\n    l2_reg_embedding=0.005\\n    )\\ncriteo_fnn_model.compile(\"adam\", \"binary_crossentropy\", metrics=[\\'binary_crossentropy\\',\\'binary_accuracy\\',precision,recall,auc], )\\n'"
      ]
     },
     "execution_count": 60,
     "metadata": {},
     "output_type": "execute_result"
    }
   ],
   "source": [
    "# Compile the models\n",
    "kdd12_fnn_model = FNN(\n",
    "    kdd12_linear_feature_columns, \n",
    "    kdd12_dnn_feature_columns, \n",
    "    task='binary',\n",
    "    dnn_hidden_units=[200,200,200],\n",
    "    dnn_dropout=0.6,\n",
    "    l2_reg_dnn=0.005,\n",
    "    l2_reg_linear = 0.005,\n",
    "    l2_reg_embedding=0.005\n",
    "    )\n",
    "kdd12_fnn_model.compile(\"adam\", \"binary_crossentropy\", metrics=['binary_crossentropy','binary_accuracy',precision,recall,auc], )\n",
    "'''\n",
    "avazu_fnn_model = FNN(\n",
    "    avazu_linear_feature_columns, \n",
    "    avazu_dnn_feature_columns, \n",
    "    task='binary',\n",
    "    dnn_hidden_units=[200,200,200],\n",
    "    dnn_dropout=0.6,\n",
    "    l2_reg_dnn=0.005,\n",
    "    l2_reg_linear = 0.005,\n",
    "    l2_reg_embedding=0.005\n",
    "    )\n",
    "avazu_fnn_model.compile(\"adam\", \"binary_crossentropy\", metrics=['binary_crossentropy','binary_accuracy',precision,recall,auc], )\n",
    "\n",
    "criteo_fnn_model = FNN(\n",
    "    criteo_linear_feature_columns, \n",
    "    criteo_dnn_feature_columns, \n",
    "    task='binary',\n",
    "    dnn_hidden_units=[200,200,200],\n",
    "    dnn_dropout=0.6,\n",
    "    l2_reg_dnn=0.005,\n",
    "    l2_reg_linear = 0.005,\n",
    "    l2_reg_embedding=0.005\n",
    "    )\n",
    "criteo_fnn_model.compile(\"adam\", \"binary_crossentropy\", metrics=['binary_crossentropy','binary_accuracy',precision,recall,auc], )\n",
    "'''"
   ]
  },
  {
   "cell_type": "code",
   "execution_count": 61,
   "metadata": {},
   "outputs": [],
   "source": [
    "# Define the CSVLogger callbacks\n",
    "kdd12_fnn_csvLogger = CSVLogger('logs/kdd12_fnn.csv')\n",
    "avazu_fnn_csvLogger = CSVLogger('logs/avazu_fnn.csv')\n",
    "criteo_fnn_csvLogger = CSVLogger('logs/criteo_fnn.csv')"
   ]
  },
  {
   "cell_type": "code",
   "execution_count": 62,
   "metadata": {},
   "outputs": [],
   "source": [
    "# Define the model saving checkpoints\n",
    "kdd12_fnn_modelCheckpoint = ModelCheckpoint(\n",
    "    'models/fnn/kdd12/kdd12_fnn.ckpt',\n",
    "    save_best_only=True,\n",
    "    save_weights_only=True\n",
    ")\n",
    "avazu_fnn_modelCheckpoint = ModelCheckpoint(\n",
    "    'models/fnn/avazu/avazu_fnn.ckpt',\n",
    "    save_best_only=True,\n",
    "    save_weights_only=True\n",
    ")\n",
    "criteo_fnn_modelCheckpoint = ModelCheckpoint(\n",
    "    'models/fnn/criteo/criteo_fnn.ckpt',\n",
    "    save_best_only=True,\n",
    "    save_weights_only=True\n",
    ")"
   ]
  },
  {
   "cell_type": "code",
   "execution_count": 63,
   "metadata": {},
   "outputs": [
    {
     "name": "stdout",
     "output_type": "stream",
     "text": [
      "Epoch 1/15\n"
     ]
    },
    {
     "name": "stderr",
     "output_type": "stream",
     "text": [
      "2024-08-27 18:34:17.838592: I tensorflow/compiler/xla/service/service.cc:168] XLA service 0x7fa4a841e160 initialized for platform CUDA (this does not guarantee that XLA will be used). Devices:\n",
      "2024-08-27 18:34:17.838623: I tensorflow/compiler/xla/service/service.cc:176]   StreamExecutor device (0): Tesla T4, Compute Capability 7.5\n",
      "2024-08-27 18:34:17.873682: I tensorflow/compiler/mlir/tensorflow/utils/dump_mlir_util.cc:269] disabling MLIR crash reproducer, set env var `MLIR_CRASH_REPRODUCER_DIRECTORY` to enable.\n",
      "2024-08-27 18:34:17.959181: I tensorflow/compiler/xla/stream_executor/cuda/cuda_dnn.cc:442] Loaded cuDNN version 8907\n",
      "2024-08-27 18:34:18.083147: I ./tensorflow/compiler/jit/device_compiler.h:186] Compiled cluster using XLA!  This line is logged at most once for the lifetime of the process.\n"
     ]
    },
    {
     "name": "stdout",
     "output_type": "stream",
     "text": [
      "    614/Unknown - 24s 30ms/step - loss: 0.9125 - binary_crossentropy: 0.5921 - binary_accuracy: 0.7206 - precision: 0.0614 - recall: 0.3582 - auc: 0.6112"
     ]
    },
    {
     "name": "stderr",
     "output_type": "stream",
     "text": [
      "2024-08-27 18:34:38.563794: I tensorflow/core/framework/local_rendezvous.cc:421] Local rendezvous recv item cancelled. Key hash: 10475788890055765598\n",
      "2024-08-27 18:34:43.616952: I tensorflow/core/framework/local_rendezvous.cc:421] Local rendezvous recv item cancelled. Key hash: 3157454066980074299\n",
      "2024-08-27 18:34:43.616992: I tensorflow/core/framework/local_rendezvous.cc:421] Local rendezvous recv item cancelled. Key hash: 8512027479184977550\n"
     ]
    },
    {
     "name": "stdout",
     "output_type": "stream",
     "text": [
      "615/615 [==============================] - 31s 40ms/step - loss: 0.9119 - binary_crossentropy: 0.5921 - binary_accuracy: 0.7206 - precision: 0.0614 - recall: 0.3583 - auc: 0.6111 - val_loss: 0.6288 - val_binary_crossentropy: 0.5748 - val_binary_accuracy: 0.7518 - val_precision: 0.0776 - val_recall: 0.4652 - val_auc: 0.6701\n",
      "Epoch 2/15\n",
      "615/615 [==============================] - 23s 37ms/step - loss: 0.6433 - binary_crossentropy: 0.5777 - binary_accuracy: 0.7397 - precision: 0.0683 - recall: 0.4282 - auc: 0.6403 - val_loss: 0.6263 - val_binary_crossentropy: 0.5860 - val_binary_accuracy: 0.6975 - val_precision: 0.0702 - val_recall: 0.5224 - val_auc: 0.6700\n",
      "Epoch 3/15\n",
      "615/615 [==============================] - 23s 37ms/step - loss: 0.6295 - binary_crossentropy: 0.5712 - binary_accuracy: 0.7286 - precision: 0.0699 - recall: 0.4624 - auc: 0.6500 - val_loss: 0.5943 - val_binary_crossentropy: 0.5606 - val_binary_accuracy: 0.7314 - val_precision: 0.0762 - val_recall: 0.5006 - val_auc: 0.6759\n",
      "Epoch 4/15\n",
      "615/615 [==============================] - 24s 39ms/step - loss: 0.6221 - binary_crossentropy: 0.5701 - binary_accuracy: 0.7217 - precision: 0.0707 - recall: 0.4824 - auc: 0.6547 - val_loss: 0.5936 - val_binary_crossentropy: 0.5655 - val_binary_accuracy: 0.7211 - val_precision: 0.0751 - val_recall: 0.5143 - val_auc: 0.6741\n",
      "Epoch 5/15\n",
      "615/615 [==============================] - 23s 38ms/step - loss: 0.6154 - binary_crossentropy: 0.5671 - binary_accuracy: 0.7205 - precision: 0.0716 - recall: 0.4918 - auc: 0.6587 - val_loss: 0.5868 - val_binary_crossentropy: 0.5628 - val_binary_accuracy: 0.7201 - val_precision: 0.0750 - val_recall: 0.5155 - val_auc: 0.6757\n",
      "Epoch 6/15\n",
      "615/615 [==============================] - 22s 36ms/step - loss: 0.6107 - binary_crossentropy: 0.5665 - binary_accuracy: 0.7199 - precision: 0.0724 - recall: 0.4998 - auc: 0.6617 - val_loss: 0.5920 - val_binary_crossentropy: 0.5716 - val_binary_accuracy: 0.7143 - val_precision: 0.0748 - val_recall: 0.5261 - val_auc: 0.6758\n",
      "Epoch 7/15\n",
      "615/615 [==============================] - 23s 37ms/step - loss: 0.6071 - binary_crossentropy: 0.5660 - binary_accuracy: 0.7180 - precision: 0.0728 - recall: 0.5065 - auc: 0.6633 - val_loss: 0.5913 - val_binary_crossentropy: 0.5741 - val_binary_accuracy: 0.7084 - val_precision: 0.0747 - val_recall: 0.5379 - val_auc: 0.6764\n",
      "Epoch 8/15\n",
      "615/615 [==============================] - 22s 36ms/step - loss: 0.6049 - binary_crossentropy: 0.5658 - binary_accuracy: 0.7140 - precision: 0.0718 - recall: 0.5070 - auc: 0.6652 - val_loss: 0.5910 - val_binary_crossentropy: 0.5745 - val_binary_accuracy: 0.7037 - val_precision: 0.0751 - val_recall: 0.5516 - val_auc: 0.6785\n",
      "Epoch 9/15\n",
      "615/615 [==============================] - 22s 37ms/step - loss: 0.6043 - binary_crossentropy: 0.5656 - binary_accuracy: 0.7127 - precision: 0.0720 - recall: 0.5110 - auc: 0.6668 - val_loss: 0.5889 - val_binary_crossentropy: 0.5726 - val_binary_accuracy: 0.6968 - val_precision: 0.0737 - val_recall: 0.5547 - val_auc: 0.6786\n",
      "Epoch 10/15\n",
      "615/615 [==============================] - 22s 37ms/step - loss: 0.6040 - binary_crossentropy: 0.5647 - binary_accuracy: 0.7149 - precision: 0.0725 - recall: 0.5110 - auc: 0.6676 - val_loss: 0.5880 - val_binary_crossentropy: 0.5717 - val_binary_accuracy: 0.6965 - val_precision: 0.0739 - val_recall: 0.5565 - val_auc: 0.6790\n"
     ]
    }
   ],
   "source": [
    "# Fit the models\n",
    "kdd12_fnn_history = kdd12_fnn_model.fit(kdd12_train_model_input, validation_data=kdd12_val_model_input, batch_size=256, epochs=15, callbacks=[kdd12_fnn_csvLogger,kdd12_fnn_modelCheckpoint,earlystopping], class_weight=kdd12_class_weights)\n",
    "#avazu_fnn_history = avazu_fnn_model.fit(avazu_train_model_input, validation_data=avazu_val_model_input, batch_size=256, epochs=15, callbacks=[avazu_fnn_csvLogger,avazu_fnn_modelCheckpoint,earlystopping])\n",
    "#criteo_fnn_history = criteo_fnn_model.fit(criteo_train_model_input, validation_data=criteo_val_model_input, batch_size=256, epochs=15, callbacks=[criteo_fnn_csvLogger,criteo_fnn_modelCheckpoint,earlystopping])"
   ]
  },
  {
   "cell_type": "code",
   "execution_count": 64,
   "metadata": {},
   "outputs": [
    {
     "data": {
      "image/png": "[encoded data removed]",
      "text/plain": [
       "<Figure size 640x480 with 1 Axes>"
      ]
     },
     "metadata": {},
     "output_type": "display_data"
    },
    {
     "data": {
      "image/png": "[encoded data removed]",
      "text/plain": [
       "<Figure size 640x480 with 1 Axes>"
      ]
     },
     "metadata": {},
     "output_type": "display_data"
    },
    {
     "data": {
      "image/png": "[encoded data removed]",
      "text/plain": [
       "<Figure size 640x480 with 1 Axes>"
      ]
     },
     "metadata": {},
     "output_type": "display_data"
    }
   ],
   "source": [
    "# Read in the history logs\n",
    "kdd12_fnn_history = pd.read_csv('logs/kdd12_fnn.csv')\n",
    "avazu_fnn_history = pd.read_csv('logs/avazu_fnn.csv')\n",
    "criteo_fnn_history = pd.read_csv('logs/criteo_fnn.csv')\n",
    "\n",
    "# Plot the training history\n",
    "plt.plot(kdd12_fnn_history['binary_crossentropy'])\n",
    "plt.plot(kdd12_fnn_history['val_binary_crossentropy'])\n",
    "plt.title('kdd12_fnn_model loss')\n",
    "plt.ylabel('loss')\n",
    "plt.xlabel('epoch')\n",
    "plt.legend(['train', 'val'], loc='upper left')\n",
    "plt.show()\n",
    "\n",
    "plt.plot(avazu_fnn_history['binary_crossentropy'])\n",
    "plt.plot(avazu_fnn_history['val_binary_crossentropy'])\n",
    "plt.title('avazu_fnn_model loss')\n",
    "plt.ylabel('loss')\n",
    "plt.xlabel('epoch')\n",
    "plt.legend(['train', 'val'], loc='upper left')\n",
    "plt.show()\n",
    "\n",
    "plt.plot(criteo_fnn_history['binary_crossentropy'])\n",
    "plt.plot(criteo_fnn_history['val_binary_crossentropy'])\n",
    "plt.title('criteo_fnn_model loss')\n",
    "plt.ylabel('loss')\n",
    "plt.xlabel('epoch')\n",
    "plt.legend(['train', 'val'], loc='upper left')\n",
    "plt.show()"
   ]
  },
  {
   "cell_type": "markdown",
   "metadata": {},
   "source": [
    "### Product Based Neural Networks"
   ]
  },
  {
   "cell_type": "markdown",
   "metadata": {},
   "source": [
    "The Product Based Neural Network (PNN) model\n",
    "proposed by Qu et. al. (2016) is another Deep Learning\n",
    "model that was developed around the same time as the FNN model. The key \n",
    "innovation of the PNN moel is the use of a pair-wisely connected Product Layer\n",
    "after a field-wise connected embetting layer for the categorical features, as shown\n",
    "in the figure below. The Product Layer is able to directly model inter-field feature\n",
    "interaction by means of either an inner product or outer production operation, and then further\n",
    "distill higher feature inturactions by passing the output of the Product Layer through fully\n",
    "connected MLP layers.\n",
    "\n",
    "![PNN](figures/pnn.png)"
   ]
  },
  {
   "cell_type": "code",
   "execution_count": null,
   "metadata": {},
   "outputs": [],
   "source": [
    "# Define the CSVLogger callbacks\n",
    "kdd12_pnn_csvLogger = CSVLogger('logs/kdd12_pnn.csv')\n",
    "avazu_pnn_csvLogger = CSVLogger('logs/avazu_pnn.csv')\n",
    "criteo_pnn_csvLogger = CSVLogger('logs/criteo_pnn.csv')"
   ]
  },
  {
   "cell_type": "code",
   "execution_count": null,
   "metadata": {},
   "outputs": [],
   "source": [
    "# Define the model saving checkpoints\n",
    "kdd12_pnn_modelCheckpoint = ModelCheckpoint(\n",
    "    'models/pnn/kdd12/kdd12_pnn.ckpt',\n",
    "    save_best_only=True,\n",
    "    save_weights_only=True\n",
    ")\n",
    "avazu_pnn_modelCheckpoint = ModelCheckpoint(\n",
    "    'models/pnn/avazu/avazu_pnn.ckpt',\n",
    "    save_best_only=True,\n",
    "    save_weights_only=True\n",
    ")\n",
    "criteo_pnn_modelCheckpoint = ModelCheckpoint(\n",
    "    'models/pnn/criteo/criteo_pnn.ckpt',\n",
    "    save_best_only=True,\n",
    "    save_weights_only=True\n",
    ")"
   ]
  },
  {
   "cell_type": "code",
   "execution_count": null,
   "metadata": {},
   "outputs": [],
   "source": [
    "# Compile the PNN models\n",
    "kdd12_pnn_model = PNN(\n",
    "    kdd12_dnn_feature_columns, \n",
    "    task='binary',\n",
    "    dnn_hidden_units=[200,200,200],\n",
    "    dnn_dropout=0.6,\n",
    "    l2_reg_dnn=0.005,\n",
    "    l2_reg_embedding=0.005,\n",
    "    )\n",
    "kdd12_pnn_model.compile(\"adam\", \"binary_crossentropy\", metrics=['binary_crossentropy','binary_accuracy',precision,recall,auc], )\n",
    "'''\n",
    "avazu_pnn_model = PNN(\n",
    "    avazu_dnn_feature_columns, \n",
    "    task='binary',\n",
    "    dnn_hidden_units=[200,200,200],\n",
    "    dnn_dropout=0.6,\n",
    "    l2_reg_dnn=0.005,\n",
    "    l2_reg_embedding=0.005,\n",
    "    )\n",
    "avazu_pnn_model.compile(\"adam\", \"binary_crossentropy\", metrics=['binary_crossentropy','binary_accuracy',precision,recall,auc], )\n",
    "\n",
    "criteo_pnn_model = PNN(\n",
    "    criteo_dnn_feature_columns, \n",
    "    task='binary',\n",
    "    dnn_hidden_units=[200,200,200],\n",
    "    dnn_dropout=0.6,\n",
    "    l2_reg_dnn=0.005,\n",
    "    l2_reg_embedding=0.005,\n",
    "    )\n",
    "criteo_pnn_model.compile(\"adam\", \"binary_crossentropy\", metrics=['binary_crossentropy','binary_accuracy',precision,recall,auc], )\n",
    "'''"
   ]
  },
  {
   "cell_type": "code",
   "execution_count": null,
   "metadata": {},
   "outputs": [],
   "source": [
    "# Fit the models\n",
    "\n",
    "kdd12_pnn_history = kdd12_pnn_model.fit(\n",
    "    kdd12_train_model_input, \n",
    "    validation_data=kdd12_val_model_input,\n",
    "    batch_size=256, \n",
    "    epochs=15, \n",
    "    callbacks=[kdd12_pnn_csvLogger,kdd12_pnn_modelCheckpoint,earlystopping]\n",
    ")\n",
    "'''\n",
    "avazu_pnn_history = avazu_pnn_model.fit(\n",
    "    avazu_train_model_input,\n",
    "    validation_data=avazu_val_model_input,\n",
    "    batch_size=256, \n",
    "    epochs=15,\n",
    "    callbacks=[avazu_pnn_csvLogger,avazu_pnn_modelCheckpoint,earlystopping]\n",
    ")\n",
    "criteo_pnn_history = criteo_pnn_model.fit(\n",
    "    criteo_train_model_input,\n",
    "    validation_data=criteo_val_model_input,\n",
    "    batch_size=256, \n",
    "    epochs=15,\n",
    "    callbacks=[criteo_pnn_csvLogger,criteo_pnn_modelCheckpoint,earlystopping]\n",
    ")\n",
    "'''"
   ]
  },
  {
   "cell_type": "code",
   "execution_count": null,
   "metadata": {},
   "outputs": [],
   "source": [
    "# Read in the history logs\n",
    "kdd12_history = pd.read_csv('logs/kdd12_pnn.csv')\n",
    "avazu_history = pd.read_csv('logs/avazu_pnn.csv')\n",
    "criteo_history = pd.read_csv('logs/criteo_pnn.csv')\n",
    "\n",
    "# Plot the training history\n",
    "plt.plot(kdd12_history['binary_crossentropy'])\n",
    "plt.plot(kdd12_history['val_binary_crossentropy'])\n",
    "plt.title('kdd12_pnn_model loss')\n",
    "plt.ylabel('loss')\n",
    "plt.xlabel('epoch')\n",
    "plt.legend(['train', 'val'], loc='upper left')\n",
    "plt.show()\n",
    "\n",
    "plt.plot(avazu_history['binary_crossentropy'])\n",
    "plt.plot(avazu_history['val_binary_crossentropy'])\n",
    "plt.title('avazu_pnn_model loss')\n",
    "plt.ylabel('loss')\n",
    "plt.xlabel('epoch')\n",
    "plt.legend(['train', 'val'], loc='upper left')\n",
    "plt.show()\n",
    "\n",
    "plt.plot(criteo_history['binary_crossentropy'])\n",
    "plt.plot(criteo_history['val_binary_crossentropy'])\n",
    "plt.title('criteo_pnn_model loss')\n",
    "plt.ylabel('loss')\n",
    "plt.xlabel('epoch')\n",
    "plt.legend(['train', 'val'], loc='upper left')\n",
    "plt.show()"
   ]
  },
  {
   "cell_type": "markdown",
   "metadata": {},
   "source": [
    "### Neural Factorization Machines"
   ]
  },
  {
   "cell_type": "code",
   "execution_count": 47,
   "metadata": {},
   "outputs": [],
   "source": [
    "# Define the CSVLogger callbacks\n",
    "kdd12_nfm_csvLogger = CSVLogger('logs/kdd12_nfm.csv')\n",
    "avazu_nfm_csvLogger = CSVLogger('logs/avazu_nfm.csv')\n",
    "criteo_nfm_csvLogger = CSVLogger('logs/criteo_nfm.csv')"
   ]
  },
  {
   "cell_type": "code",
   "execution_count": 48,
   "metadata": {},
   "outputs": [],
   "source": [
    "# Define the model saving checkpoints\n",
    "kdd12_nfm_modelCheckpoint = ModelCheckpoint(\n",
    "    'models/nfm/kdd12/kdd12_nfm.ckpt',\n",
    "    save_best_only=True,\n",
    "    save_weights_only=True\n",
    ")\n",
    "avazu_nfm_modelCheckpoint = ModelCheckpoint(\n",
    "    'models/nfm/avazu/avazu_nfm.ckpt',\n",
    "    save_best_only=True,\n",
    "    save_weights_only=True\n",
    ")\n",
    "criteo_nfm_modelCheckpoint = ModelCheckpoint(\n",
    "    'models/nfm/criteo/criteo_nfm.ckpt',\n",
    "    save_best_only=True,\n",
    "    save_weights_only=True\n",
    ")"
   ]
  },
  {
   "cell_type": "code",
   "execution_count": 49,
   "metadata": {},
   "outputs": [
    {
     "data": {
      "text/plain": [
       "'\\navazu_nfm_model = NFM(\\n    avazu_linear_feature_columns,\\n    avazu_dnn_feature_columns, \\n    task=\\'binary\\',\\n    dnn_hidden_units=[200,200,200],\\n    dnn_dropout=0.6,\\n    l2_reg_dnn=0.005,\\n    l2_reg_embedding=0.005,\\n    )\\navazu_nfm_model.compile(\"adam\", \"binary_crossentropy\", metrics=[\\'binary_crossentropy\\',\\'binary_accuracy\\',precision,recall,auc], )\\n\\ncriteo_nfm_model = NFM(\\n    criteo_linear_feature_columns,\\n    criteo_dnn_feature_columns, \\n    task=\\'binary\\',\\n    dnn_hidden_units=[200,200,200],\\n    dnn_dropout=0.6,\\n    l2_reg_dnn=0.005,\\n    l2_reg_embedding=0.005,\\n    )\\ncriteo_nfm_model.compile(\"adam\", \"binary_crossentropy\", metrics=[\\'binary_crossentropy\\',\\'binary_accuracy\\',precision,recall,auc], )\\n'"
      ]
     },
     "execution_count": 49,
     "metadata": {},
     "output_type": "execute_result"
    }
   ],
   "source": [
    "# Compile the PNN models\n",
    "kdd12_nfm_model = NFM(\n",
    "    kdd12_linear_feature_columns,\n",
    "    kdd12_dnn_feature_columns, \n",
    "    task='binary',\n",
    "    dnn_hidden_units=[200,200,200],\n",
    "    dnn_dropout=0.6,\n",
    "    l2_reg_dnn=0.005,\n",
    "    l2_reg_embedding=0.005,\n",
    "    )\n",
    "kdd12_nfm_model.compile(\"adam\", \"binary_crossentropy\", metrics=['binary_crossentropy','binary_accuracy',precision,recall,auc], )\n",
    "'''\n",
    "avazu_nfm_model = NFM(\n",
    "    avazu_linear_feature_columns,\n",
    "    avazu_dnn_feature_columns, \n",
    "    task='binary',\n",
    "    dnn_hidden_units=[200,200,200],\n",
    "    dnn_dropout=0.6,\n",
    "    l2_reg_dnn=0.005,\n",
    "    l2_reg_embedding=0.005,\n",
    "    )\n",
    "avazu_nfm_model.compile(\"adam\", \"binary_crossentropy\", metrics=['binary_crossentropy','binary_accuracy',precision,recall,auc], )\n",
    "\n",
    "criteo_nfm_model = NFM(\n",
    "    criteo_linear_feature_columns,\n",
    "    criteo_dnn_feature_columns, \n",
    "    task='binary',\n",
    "    dnn_hidden_units=[200,200,200],\n",
    "    dnn_dropout=0.6,\n",
    "    l2_reg_dnn=0.005,\n",
    "    l2_reg_embedding=0.005,\n",
    "    )\n",
    "criteo_nfm_model.compile(\"adam\", \"binary_crossentropy\", metrics=['binary_crossentropy','binary_accuracy',precision,recall,auc], )\n",
    "'''"
   ]
  },
  {
   "cell_type": "code",
   "execution_count": 50,
   "metadata": {},
   "outputs": [
    {
     "name": "stdout",
     "output_type": "stream",
     "text": [
      "Epoch 1/15\n"
     ]
    },
    {
     "name": "stderr",
     "output_type": "stream",
     "text": [
      "2024-08-27 13:18:37.556729: I tensorflow/compiler/xla/service/service.cc:168] XLA service 0x5616de414590 initialized for platform CUDA (this does not guarantee that XLA will be used). Devices:\n",
      "2024-08-27 13:18:37.556774: I tensorflow/compiler/xla/service/service.cc:176]   StreamExecutor device (0): NVIDIA A10G, Compute Capability 8.6\n",
      "2024-08-27 13:18:37.561990: I tensorflow/compiler/mlir/tensorflow/utils/dump_mlir_util.cc:269] disabling MLIR crash reproducer, set env var `MLIR_CRASH_REPRODUCER_DIRECTORY` to enable.\n",
      "2024-08-27 13:18:37.580117: I tensorflow/compiler/xla/stream_executor/cuda/cuda_dnn.cc:442] Loaded cuDNN version 8907\n",
      "2024-08-27 13:18:37.669465: I ./tensorflow/compiler/jit/device_compiler.h:186] Compiled cluster using XLA!  This line is logged at most once for the lifetime of the process.\n"
     ]
    },
    {
     "name": "stdout",
     "output_type": "stream",
     "text": [
      "    614/Unknown - 25s 32ms/step - loss: 0.3707 - binary_crossentropy: 0.1805 - binary_accuracy: 0.9563 - precision: 0.0520 - recall: 0.0030 - auc: 0.5448"
     ]
    },
    {
     "name": "stderr",
     "output_type": "stream",
     "text": [
      "2024-08-27 13:18:59.488570: I tensorflow/core/framework/local_rendezvous.cc:421] Local rendezvous recv item cancelled. Key hash: 4594587061644418997\n",
      "2024-08-27 13:18:59.488632: I tensorflow/core/framework/local_rendezvous.cc:421] Local rendezvous recv item cancelled. Key hash: 13537478827882812016\n",
      "2024-08-27 13:18:59.488643: I tensorflow/core/framework/local_rendezvous.cc:421] Local rendezvous recv item cancelled. Key hash: 9812719892594781972\n"
     ]
    },
    {
     "name": "stdout",
     "output_type": "stream",
     "text": [
      "615/615 [==============================] - 31s 42ms/step - loss: 0.3703 - binary_crossentropy: 0.1804 - binary_accuracy: 0.9564 - precision: 0.0520 - recall: 0.0030 - auc: 0.5448 - val_loss: 0.1741 - val_binary_crossentropy: 0.1665 - val_binary_accuracy: 0.9591 - val_precision: 0.0000e+00 - val_recall: 0.0000e+00 - val_auc: 0.6202\n",
      "Epoch 2/15\n",
      "615/615 [==============================] - 25s 40ms/step - loss: 0.1670 - binary_crossentropy: 0.1625 - binary_accuracy: 0.9594 - precision: 0.0000e+00 - recall: 0.0000e+00 - auc: 0.6676 - val_loss: 0.1665 - val_binary_crossentropy: 0.1633 - val_binary_accuracy: 0.9591 - val_precision: 0.0000e+00 - val_recall: 0.0000e+00 - val_auc: 0.6638\n",
      "Epoch 3/15\n",
      "487/615 [======================>.......] - ETA: 3s - loss: 0.1577 - binary_crossentropy: 0.1542 - binary_accuracy: 0.9596 - precision: 0.0000e+00 - recall: 0.0000e+00 - auc: 0.7502"
     ]
    },
    {
     "ename": "KeyboardInterrupt",
     "evalue": "",
     "output_type": "error",
     "traceback": [
      "\u001b[0;31m---------------------------------------------------------------------------\u001b[0m",
      "\u001b[0;31mKeyboardInterrupt\u001b[0m                         Traceback (most recent call last)",
      "Cell \u001b[0;32mIn[50], line 3\u001b[0m\n\u001b[1;32m      1\u001b[0m \u001b[38;5;66;03m# Fit the models\u001b[39;00m\n\u001b[0;32m----> 3\u001b[0m kdd12_nfm_history \u001b[38;5;241m=\u001b[39m \u001b[43mkdd12_nfm_model\u001b[49m\u001b[38;5;241;43m.\u001b[39;49m\u001b[43mfit\u001b[49m\u001b[43m(\u001b[49m\n\u001b[1;32m      4\u001b[0m \u001b[43m    \u001b[49m\u001b[43mkdd12_train_model_input\u001b[49m\u001b[43m,\u001b[49m\u001b[43m \u001b[49m\n\u001b[1;32m      5\u001b[0m \u001b[43m    \u001b[49m\u001b[43mvalidation_data\u001b[49m\u001b[38;5;241;43m=\u001b[39;49m\u001b[43mkdd12_val_model_input\u001b[49m\u001b[43m,\u001b[49m\n\u001b[1;32m      6\u001b[0m \u001b[43m    \u001b[49m\u001b[43mbatch_size\u001b[49m\u001b[38;5;241;43m=\u001b[39;49m\u001b[38;5;241;43m256\u001b[39;49m\u001b[43m,\u001b[49m\u001b[43m \u001b[49m\n\u001b[1;32m      7\u001b[0m \u001b[43m    \u001b[49m\u001b[43mepochs\u001b[49m\u001b[38;5;241;43m=\u001b[39;49m\u001b[38;5;241;43m15\u001b[39;49m\u001b[43m,\u001b[49m\u001b[43m \u001b[49m\n\u001b[1;32m      8\u001b[0m \u001b[43m    \u001b[49m\u001b[43mcallbacks\u001b[49m\u001b[38;5;241;43m=\u001b[39;49m\u001b[43m[\u001b[49m\u001b[43mkdd12_nfm_csvLogger\u001b[49m\u001b[43m,\u001b[49m\u001b[43mkdd12_nfm_modelCheckpoint\u001b[49m\u001b[43m,\u001b[49m\u001b[43mearlystopping\u001b[49m\u001b[43m]\u001b[49m\n\u001b[1;32m      9\u001b[0m \u001b[43m)\u001b[49m\n\u001b[1;32m     10\u001b[0m \u001b[38;5;124;03m'''\u001b[39;00m\n\u001b[1;32m     11\u001b[0m \u001b[38;5;124;03mavazu_nfm_history = avazu_nfm_model.fit(\u001b[39;00m\n\u001b[1;32m     12\u001b[0m \u001b[38;5;124;03m    avazu_train_model_input,\u001b[39;00m\n\u001b[0;32m   (...)\u001b[0m\n\u001b[1;32m     24\u001b[0m \u001b[38;5;124;03m)\u001b[39;00m\n\u001b[1;32m     25\u001b[0m \u001b[38;5;124;03m'''\u001b[39;00m\n",
      "File \u001b[0;32m~/.conda/envs/mlds_gpu/lib/python3.10/site-packages/keras/src/utils/traceback_utils.py:65\u001b[0m, in \u001b[0;36mfilter_traceback.<locals>.error_handler\u001b[0;34m(*args, **kwargs)\u001b[0m\n\u001b[1;32m     63\u001b[0m filtered_tb \u001b[38;5;241m=\u001b[39m \u001b[38;5;28;01mNone\u001b[39;00m\n\u001b[1;32m     64\u001b[0m \u001b[38;5;28;01mtry\u001b[39;00m:\n\u001b[0;32m---> 65\u001b[0m     \u001b[38;5;28;01mreturn\u001b[39;00m \u001b[43mfn\u001b[49m\u001b[43m(\u001b[49m\u001b[38;5;241;43m*\u001b[39;49m\u001b[43margs\u001b[49m\u001b[43m,\u001b[49m\u001b[43m \u001b[49m\u001b[38;5;241;43m*\u001b[39;49m\u001b[38;5;241;43m*\u001b[39;49m\u001b[43mkwargs\u001b[49m\u001b[43m)\u001b[49m\n\u001b[1;32m     66\u001b[0m \u001b[38;5;28;01mexcept\u001b[39;00m \u001b[38;5;167;01mException\u001b[39;00m \u001b[38;5;28;01mas\u001b[39;00m e:\n\u001b[1;32m     67\u001b[0m     filtered_tb \u001b[38;5;241m=\u001b[39m _process_traceback_frames(e\u001b[38;5;241m.\u001b[39m__traceback__)\n",
      "File \u001b[0;32m~/.conda/envs/mlds_gpu/lib/python3.10/site-packages/keras/src/engine/training.py:1789\u001b[0m, in \u001b[0;36mModel.fit\u001b[0;34m(self, x, y, batch_size, epochs, verbose, callbacks, validation_split, validation_data, shuffle, class_weight, sample_weight, initial_epoch, steps_per_epoch, validation_steps, validation_batch_size, validation_freq, max_queue_size, workers, use_multiprocessing)\u001b[0m\n\u001b[1;32m   1787\u001b[0m logs \u001b[38;5;241m=\u001b[39m tmp_logs\n\u001b[1;32m   1788\u001b[0m end_step \u001b[38;5;241m=\u001b[39m step \u001b[38;5;241m+\u001b[39m data_handler\u001b[38;5;241m.\u001b[39mstep_increment\n\u001b[0;32m-> 1789\u001b[0m \u001b[43mcallbacks\u001b[49m\u001b[38;5;241;43m.\u001b[39;49m\u001b[43mon_train_batch_end\u001b[49m\u001b[43m(\u001b[49m\u001b[43mend_step\u001b[49m\u001b[43m,\u001b[49m\u001b[43m \u001b[49m\u001b[43mlogs\u001b[49m\u001b[43m)\u001b[49m\n\u001b[1;32m   1790\u001b[0m \u001b[38;5;28;01mif\u001b[39;00m \u001b[38;5;28mself\u001b[39m\u001b[38;5;241m.\u001b[39mstop_training:\n\u001b[1;32m   1791\u001b[0m     \u001b[38;5;28;01mbreak\u001b[39;00m\n",
      "File \u001b[0;32m~/.conda/envs/mlds_gpu/lib/python3.10/site-packages/keras/src/callbacks.py:475\u001b[0m, in \u001b[0;36mCallbackList.on_train_batch_end\u001b[0;34m(self, batch, logs)\u001b[0m\n\u001b[1;32m    468\u001b[0m \u001b[38;5;250m\u001b[39m\u001b[38;5;124;03m\"\"\"Calls the `on_train_batch_end` methods of its callbacks.\u001b[39;00m\n\u001b[1;32m    469\u001b[0m \n\u001b[1;32m    470\u001b[0m \u001b[38;5;124;03mArgs:\u001b[39;00m\n\u001b[1;32m    471\u001b[0m \u001b[38;5;124;03m    batch: Integer, index of batch within the current epoch.\u001b[39;00m\n\u001b[1;32m    472\u001b[0m \u001b[38;5;124;03m    logs: Dict. Aggregated metric results up until this batch.\u001b[39;00m\n\u001b[1;32m    473\u001b[0m \u001b[38;5;124;03m\"\"\"\u001b[39;00m\n\u001b[1;32m    474\u001b[0m \u001b[38;5;28;01mif\u001b[39;00m \u001b[38;5;28mself\u001b[39m\u001b[38;5;241m.\u001b[39m_should_call_train_batch_hooks:\n\u001b[0;32m--> 475\u001b[0m     \u001b[38;5;28;43mself\u001b[39;49m\u001b[38;5;241;43m.\u001b[39;49m\u001b[43m_call_batch_hook\u001b[49m\u001b[43m(\u001b[49m\u001b[43mModeKeys\u001b[49m\u001b[38;5;241;43m.\u001b[39;49m\u001b[43mTRAIN\u001b[49m\u001b[43m,\u001b[49m\u001b[43m \u001b[49m\u001b[38;5;124;43m\"\u001b[39;49m\u001b[38;5;124;43mend\u001b[39;49m\u001b[38;5;124;43m\"\u001b[39;49m\u001b[43m,\u001b[49m\u001b[43m \u001b[49m\u001b[43mbatch\u001b[49m\u001b[43m,\u001b[49m\u001b[43m \u001b[49m\u001b[43mlogs\u001b[49m\u001b[38;5;241;43m=\u001b[39;49m\u001b[43mlogs\u001b[49m\u001b[43m)\u001b[49m\n",
      "File \u001b[0;32m~/.conda/envs/mlds_gpu/lib/python3.10/site-packages/keras/src/callbacks.py:322\u001b[0m, in \u001b[0;36mCallbackList._call_batch_hook\u001b[0;34m(self, mode, hook, batch, logs)\u001b[0m\n\u001b[1;32m    320\u001b[0m     \u001b[38;5;28mself\u001b[39m\u001b[38;5;241m.\u001b[39m_call_batch_begin_hook(mode, batch, logs)\n\u001b[1;32m    321\u001b[0m \u001b[38;5;28;01melif\u001b[39;00m hook \u001b[38;5;241m==\u001b[39m \u001b[38;5;124m\"\u001b[39m\u001b[38;5;124mend\u001b[39m\u001b[38;5;124m\"\u001b[39m:\n\u001b[0;32m--> 322\u001b[0m     \u001b[38;5;28;43mself\u001b[39;49m\u001b[38;5;241;43m.\u001b[39;49m\u001b[43m_call_batch_end_hook\u001b[49m\u001b[43m(\u001b[49m\u001b[43mmode\u001b[49m\u001b[43m,\u001b[49m\u001b[43m \u001b[49m\u001b[43mbatch\u001b[49m\u001b[43m,\u001b[49m\u001b[43m \u001b[49m\u001b[43mlogs\u001b[49m\u001b[43m)\u001b[49m\n\u001b[1;32m    323\u001b[0m \u001b[38;5;28;01melse\u001b[39;00m:\n\u001b[1;32m    324\u001b[0m     \u001b[38;5;28;01mraise\u001b[39;00m \u001b[38;5;167;01mValueError\u001b[39;00m(\n\u001b[1;32m    325\u001b[0m         \u001b[38;5;124mf\u001b[39m\u001b[38;5;124m\"\u001b[39m\u001b[38;5;124mUnrecognized hook: \u001b[39m\u001b[38;5;132;01m{\u001b[39;00mhook\u001b[38;5;132;01m}\u001b[39;00m\u001b[38;5;124m. \u001b[39m\u001b[38;5;124m\"\u001b[39m\n\u001b[1;32m    326\u001b[0m         \u001b[38;5;124m'\u001b[39m\u001b[38;5;124mExpected values are [\u001b[39m\u001b[38;5;124m\"\u001b[39m\u001b[38;5;124mbegin\u001b[39m\u001b[38;5;124m\"\u001b[39m\u001b[38;5;124m, \u001b[39m\u001b[38;5;124m\"\u001b[39m\u001b[38;5;124mend\u001b[39m\u001b[38;5;124m\"\u001b[39m\u001b[38;5;124m]\u001b[39m\u001b[38;5;124m'\u001b[39m\n\u001b[1;32m    327\u001b[0m     )\n",
      "File \u001b[0;32m~/.conda/envs/mlds_gpu/lib/python3.10/site-packages/keras/src/callbacks.py:345\u001b[0m, in \u001b[0;36mCallbackList._call_batch_end_hook\u001b[0;34m(self, mode, batch, logs)\u001b[0m\n\u001b[1;32m    342\u001b[0m     batch_time \u001b[38;5;241m=\u001b[39m time\u001b[38;5;241m.\u001b[39mtime() \u001b[38;5;241m-\u001b[39m \u001b[38;5;28mself\u001b[39m\u001b[38;5;241m.\u001b[39m_batch_start_time\n\u001b[1;32m    343\u001b[0m     \u001b[38;5;28mself\u001b[39m\u001b[38;5;241m.\u001b[39m_batch_times\u001b[38;5;241m.\u001b[39mappend(batch_time)\n\u001b[0;32m--> 345\u001b[0m \u001b[38;5;28;43mself\u001b[39;49m\u001b[38;5;241;43m.\u001b[39;49m\u001b[43m_call_batch_hook_helper\u001b[49m\u001b[43m(\u001b[49m\u001b[43mhook_name\u001b[49m\u001b[43m,\u001b[49m\u001b[43m \u001b[49m\u001b[43mbatch\u001b[49m\u001b[43m,\u001b[49m\u001b[43m \u001b[49m\u001b[43mlogs\u001b[49m\u001b[43m)\u001b[49m\n\u001b[1;32m    347\u001b[0m \u001b[38;5;28;01mif\u001b[39;00m \u001b[38;5;28mlen\u001b[39m(\u001b[38;5;28mself\u001b[39m\u001b[38;5;241m.\u001b[39m_batch_times) \u001b[38;5;241m>\u001b[39m\u001b[38;5;241m=\u001b[39m \u001b[38;5;28mself\u001b[39m\u001b[38;5;241m.\u001b[39m_num_batches_for_timing_check:\n\u001b[1;32m    348\u001b[0m     end_hook_name \u001b[38;5;241m=\u001b[39m hook_name\n",
      "File \u001b[0;32m~/.conda/envs/mlds_gpu/lib/python3.10/site-packages/keras/src/callbacks.py:393\u001b[0m, in \u001b[0;36mCallbackList._call_batch_hook_helper\u001b[0;34m(self, hook_name, batch, logs)\u001b[0m\n\u001b[1;32m    391\u001b[0m \u001b[38;5;28;01mfor\u001b[39;00m callback \u001b[38;5;129;01min\u001b[39;00m \u001b[38;5;28mself\u001b[39m\u001b[38;5;241m.\u001b[39mcallbacks:\n\u001b[1;32m    392\u001b[0m     hook \u001b[38;5;241m=\u001b[39m \u001b[38;5;28mgetattr\u001b[39m(callback, hook_name)\n\u001b[0;32m--> 393\u001b[0m     \u001b[43mhook\u001b[49m\u001b[43m(\u001b[49m\u001b[43mbatch\u001b[49m\u001b[43m,\u001b[49m\u001b[43m \u001b[49m\u001b[43mlogs\u001b[49m\u001b[43m)\u001b[49m\n\u001b[1;32m    395\u001b[0m \u001b[38;5;28;01mif\u001b[39;00m \u001b[38;5;28mself\u001b[39m\u001b[38;5;241m.\u001b[39m_check_timing:\n\u001b[1;32m    396\u001b[0m     \u001b[38;5;28;01mif\u001b[39;00m hook_name \u001b[38;5;129;01mnot\u001b[39;00m \u001b[38;5;129;01min\u001b[39;00m \u001b[38;5;28mself\u001b[39m\u001b[38;5;241m.\u001b[39m_hook_times:\n",
      "File \u001b[0;32m~/.conda/envs/mlds_gpu/lib/python3.10/site-packages/keras/src/callbacks.py:1093\u001b[0m, in \u001b[0;36mProgbarLogger.on_train_batch_end\u001b[0;34m(self, batch, logs)\u001b[0m\n\u001b[1;32m   1092\u001b[0m \u001b[38;5;28;01mdef\u001b[39;00m \u001b[38;5;21mon_train_batch_end\u001b[39m(\u001b[38;5;28mself\u001b[39m, batch, logs\u001b[38;5;241m=\u001b[39m\u001b[38;5;28;01mNone\u001b[39;00m):\n\u001b[0;32m-> 1093\u001b[0m     \u001b[38;5;28;43mself\u001b[39;49m\u001b[38;5;241;43m.\u001b[39;49m\u001b[43m_batch_update_progbar\u001b[49m\u001b[43m(\u001b[49m\u001b[43mbatch\u001b[49m\u001b[43m,\u001b[49m\u001b[43m \u001b[49m\u001b[43mlogs\u001b[49m\u001b[43m)\u001b[49m\n",
      "File \u001b[0;32m~/.conda/envs/mlds_gpu/lib/python3.10/site-packages/keras/src/callbacks.py:1169\u001b[0m, in \u001b[0;36mProgbarLogger._batch_update_progbar\u001b[0;34m(self, batch, logs)\u001b[0m\n\u001b[1;32m   1165\u001b[0m     \u001b[38;5;28mself\u001b[39m\u001b[38;5;241m.\u001b[39mseen \u001b[38;5;241m+\u001b[39m\u001b[38;5;241m=\u001b[39m add_seen\n\u001b[1;32m   1167\u001b[0m \u001b[38;5;28;01mif\u001b[39;00m \u001b[38;5;28mself\u001b[39m\u001b[38;5;241m.\u001b[39mverbose \u001b[38;5;241m==\u001b[39m \u001b[38;5;241m1\u001b[39m:\n\u001b[1;32m   1168\u001b[0m     \u001b[38;5;66;03m# Only block async when verbose = 1.\u001b[39;00m\n\u001b[0;32m-> 1169\u001b[0m     logs \u001b[38;5;241m=\u001b[39m \u001b[43mtf_utils\u001b[49m\u001b[38;5;241;43m.\u001b[39;49m\u001b[43msync_to_numpy_or_python_type\u001b[49m\u001b[43m(\u001b[49m\u001b[43mlogs\u001b[49m\u001b[43m)\u001b[49m\n\u001b[1;32m   1170\u001b[0m     \u001b[38;5;28mself\u001b[39m\u001b[38;5;241m.\u001b[39mprogbar\u001b[38;5;241m.\u001b[39mupdate(\u001b[38;5;28mself\u001b[39m\u001b[38;5;241m.\u001b[39mseen, \u001b[38;5;28mlist\u001b[39m(logs\u001b[38;5;241m.\u001b[39mitems()), finalize\u001b[38;5;241m=\u001b[39m\u001b[38;5;28;01mFalse\u001b[39;00m)\n",
      "File \u001b[0;32m~/.conda/envs/mlds_gpu/lib/python3.10/site-packages/keras/src/utils/tf_utils.py:694\u001b[0m, in \u001b[0;36msync_to_numpy_or_python_type\u001b[0;34m(tensors)\u001b[0m\n\u001b[1;32m    691\u001b[0m         \u001b[38;5;28;01mreturn\u001b[39;00m t\n\u001b[1;32m    692\u001b[0m     \u001b[38;5;28;01mreturn\u001b[39;00m t\u001b[38;5;241m.\u001b[39mitem() \u001b[38;5;28;01mif\u001b[39;00m np\u001b[38;5;241m.\u001b[39mndim(t) \u001b[38;5;241m==\u001b[39m \u001b[38;5;241m0\u001b[39m \u001b[38;5;28;01melse\u001b[39;00m t\n\u001b[0;32m--> 694\u001b[0m \u001b[38;5;28;01mreturn\u001b[39;00m \u001b[43mtf\u001b[49m\u001b[38;5;241;43m.\u001b[39;49m\u001b[43mnest\u001b[49m\u001b[38;5;241;43m.\u001b[39;49m\u001b[43mmap_structure\u001b[49m\u001b[43m(\u001b[49m\u001b[43m_to_single_numpy_or_python_type\u001b[49m\u001b[43m,\u001b[49m\u001b[43m \u001b[49m\u001b[43mtensors\u001b[49m\u001b[43m)\u001b[49m\n",
      "File \u001b[0;32m~/.conda/envs/mlds_gpu/lib/python3.10/site-packages/tensorflow/python/util/nest.py:629\u001b[0m, in \u001b[0;36mmap_structure\u001b[0;34m(func, *structure, **kwargs)\u001b[0m\n\u001b[1;32m    543\u001b[0m \u001b[38;5;129m@tf_export\u001b[39m(\u001b[38;5;124m\"\u001b[39m\u001b[38;5;124mnest.map_structure\u001b[39m\u001b[38;5;124m\"\u001b[39m)\n\u001b[1;32m    544\u001b[0m \u001b[38;5;28;01mdef\u001b[39;00m \u001b[38;5;21mmap_structure\u001b[39m(func, \u001b[38;5;241m*\u001b[39mstructure, \u001b[38;5;241m*\u001b[39m\u001b[38;5;241m*\u001b[39mkwargs):\n\u001b[1;32m    545\u001b[0m \u001b[38;5;250m  \u001b[39m\u001b[38;5;124;03m\"\"\"Creates a new structure by applying `func` to each atom in `structure`.\u001b[39;00m\n\u001b[1;32m    546\u001b[0m \n\u001b[1;32m    547\u001b[0m \u001b[38;5;124;03m  Refer to [tf.nest](https://www.tensorflow.org/api_docs/python/tf/nest)\u001b[39;00m\n\u001b[0;32m   (...)\u001b[0m\n\u001b[1;32m    627\u001b[0m \u001b[38;5;124;03m    ValueError: If wrong keyword arguments are provided.\u001b[39;00m\n\u001b[1;32m    628\u001b[0m \u001b[38;5;124;03m  \"\"\"\u001b[39;00m\n\u001b[0;32m--> 629\u001b[0m   \u001b[38;5;28;01mreturn\u001b[39;00m \u001b[43mnest_util\u001b[49m\u001b[38;5;241;43m.\u001b[39;49m\u001b[43mmap_structure\u001b[49m\u001b[43m(\u001b[49m\n\u001b[1;32m    630\u001b[0m \u001b[43m      \u001b[49m\u001b[43mnest_util\u001b[49m\u001b[38;5;241;43m.\u001b[39;49m\u001b[43mModality\u001b[49m\u001b[38;5;241;43m.\u001b[39;49m\u001b[43mCORE\u001b[49m\u001b[43m,\u001b[49m\u001b[43m \u001b[49m\u001b[43mfunc\u001b[49m\u001b[43m,\u001b[49m\u001b[43m \u001b[49m\u001b[38;5;241;43m*\u001b[39;49m\u001b[43mstructure\u001b[49m\u001b[43m,\u001b[49m\u001b[43m \u001b[49m\u001b[38;5;241;43m*\u001b[39;49m\u001b[38;5;241;43m*\u001b[39;49m\u001b[43mkwargs\u001b[49m\n\u001b[1;32m    631\u001b[0m \u001b[43m  \u001b[49m\u001b[43m)\u001b[49m\n",
      "File \u001b[0;32m~/.conda/envs/mlds_gpu/lib/python3.10/site-packages/tensorflow/python/util/nest_util.py:1168\u001b[0m, in \u001b[0;36mmap_structure\u001b[0;34m(modality, func, *structure, **kwargs)\u001b[0m\n\u001b[1;32m   1071\u001b[0m \u001b[38;5;250m\u001b[39m\u001b[38;5;124;03m\"\"\"Creates a new structure by applying `func` to each atom in `structure`.\u001b[39;00m\n\u001b[1;32m   1072\u001b[0m \n\u001b[1;32m   1073\u001b[0m \u001b[38;5;124;03m- For Modality.CORE: Refer to\u001b[39;00m\n\u001b[0;32m   (...)\u001b[0m\n\u001b[1;32m   1165\u001b[0m \u001b[38;5;124;03m  ValueError: If wrong keyword arguments are provided.\u001b[39;00m\n\u001b[1;32m   1166\u001b[0m \u001b[38;5;124;03m\"\"\"\u001b[39;00m\n\u001b[1;32m   1167\u001b[0m \u001b[38;5;28;01mif\u001b[39;00m modality \u001b[38;5;241m==\u001b[39m Modality\u001b[38;5;241m.\u001b[39mCORE:\n\u001b[0;32m-> 1168\u001b[0m   \u001b[38;5;28;01mreturn\u001b[39;00m \u001b[43m_tf_core_map_structure\u001b[49m\u001b[43m(\u001b[49m\u001b[43mfunc\u001b[49m\u001b[43m,\u001b[49m\u001b[43m \u001b[49m\u001b[38;5;241;43m*\u001b[39;49m\u001b[43mstructure\u001b[49m\u001b[43m,\u001b[49m\u001b[43m \u001b[49m\u001b[38;5;241;43m*\u001b[39;49m\u001b[38;5;241;43m*\u001b[39;49m\u001b[43mkwargs\u001b[49m\u001b[43m)\u001b[49m\n\u001b[1;32m   1169\u001b[0m \u001b[38;5;28;01melif\u001b[39;00m modality \u001b[38;5;241m==\u001b[39m Modality\u001b[38;5;241m.\u001b[39mDATA:\n\u001b[1;32m   1170\u001b[0m   \u001b[38;5;28;01mreturn\u001b[39;00m _tf_data_map_structure(func, \u001b[38;5;241m*\u001b[39mstructure, \u001b[38;5;241m*\u001b[39m\u001b[38;5;241m*\u001b[39mkwargs)\n",
      "File \u001b[0;32m~/.conda/envs/mlds_gpu/lib/python3.10/site-packages/tensorflow/python/util/nest_util.py:1208\u001b[0m, in \u001b[0;36m_tf_core_map_structure\u001b[0;34m(func, *structure, **kwargs)\u001b[0m\n\u001b[1;32m   1203\u001b[0m flat_structure \u001b[38;5;241m=\u001b[39m (_tf_core_flatten(s, expand_composites) \u001b[38;5;28;01mfor\u001b[39;00m s \u001b[38;5;129;01min\u001b[39;00m structure)\n\u001b[1;32m   1204\u001b[0m entries \u001b[38;5;241m=\u001b[39m \u001b[38;5;28mzip\u001b[39m(\u001b[38;5;241m*\u001b[39mflat_structure)\n\u001b[1;32m   1206\u001b[0m \u001b[38;5;28;01mreturn\u001b[39;00m _tf_core_pack_sequence_as(\n\u001b[1;32m   1207\u001b[0m     structure[\u001b[38;5;241m0\u001b[39m],\n\u001b[0;32m-> 1208\u001b[0m     [func(\u001b[38;5;241m*\u001b[39mx) \u001b[38;5;28;01mfor\u001b[39;00m x \u001b[38;5;129;01min\u001b[39;00m entries],\n\u001b[1;32m   1209\u001b[0m     expand_composites\u001b[38;5;241m=\u001b[39mexpand_composites,\n\u001b[1;32m   1210\u001b[0m )\n",
      "File \u001b[0;32m~/.conda/envs/mlds_gpu/lib/python3.10/site-packages/tensorflow/python/util/nest_util.py:1208\u001b[0m, in \u001b[0;36m<listcomp>\u001b[0;34m(.0)\u001b[0m\n\u001b[1;32m   1203\u001b[0m flat_structure \u001b[38;5;241m=\u001b[39m (_tf_core_flatten(s, expand_composites) \u001b[38;5;28;01mfor\u001b[39;00m s \u001b[38;5;129;01min\u001b[39;00m structure)\n\u001b[1;32m   1204\u001b[0m entries \u001b[38;5;241m=\u001b[39m \u001b[38;5;28mzip\u001b[39m(\u001b[38;5;241m*\u001b[39mflat_structure)\n\u001b[1;32m   1206\u001b[0m \u001b[38;5;28;01mreturn\u001b[39;00m _tf_core_pack_sequence_as(\n\u001b[1;32m   1207\u001b[0m     structure[\u001b[38;5;241m0\u001b[39m],\n\u001b[0;32m-> 1208\u001b[0m     [\u001b[43mfunc\u001b[49m\u001b[43m(\u001b[49m\u001b[38;5;241;43m*\u001b[39;49m\u001b[43mx\u001b[49m\u001b[43m)\u001b[49m \u001b[38;5;28;01mfor\u001b[39;00m x \u001b[38;5;129;01min\u001b[39;00m entries],\n\u001b[1;32m   1209\u001b[0m     expand_composites\u001b[38;5;241m=\u001b[39mexpand_composites,\n\u001b[1;32m   1210\u001b[0m )\n",
      "File \u001b[0;32m~/.conda/envs/mlds_gpu/lib/python3.10/site-packages/keras/src/utils/tf_utils.py:687\u001b[0m, in \u001b[0;36msync_to_numpy_or_python_type.<locals>._to_single_numpy_or_python_type\u001b[0;34m(t)\u001b[0m\n\u001b[1;32m    684\u001b[0m \u001b[38;5;28;01mdef\u001b[39;00m \u001b[38;5;21m_to_single_numpy_or_python_type\u001b[39m(t):\n\u001b[1;32m    685\u001b[0m     \u001b[38;5;66;03m# Don't turn ragged or sparse tensors to NumPy.\u001b[39;00m\n\u001b[1;32m    686\u001b[0m     \u001b[38;5;28;01mif\u001b[39;00m \u001b[38;5;28misinstance\u001b[39m(t, tf\u001b[38;5;241m.\u001b[39mTensor):\n\u001b[0;32m--> 687\u001b[0m         t \u001b[38;5;241m=\u001b[39m \u001b[43mt\u001b[49m\u001b[38;5;241;43m.\u001b[39;49m\u001b[43mnumpy\u001b[49m\u001b[43m(\u001b[49m\u001b[43m)\u001b[49m\n\u001b[1;32m    688\u001b[0m     \u001b[38;5;66;03m# Strings, ragged and sparse tensors don't have .item(). Return them\u001b[39;00m\n\u001b[1;32m    689\u001b[0m     \u001b[38;5;66;03m# as-is.\u001b[39;00m\n\u001b[1;32m    690\u001b[0m     \u001b[38;5;28;01mif\u001b[39;00m \u001b[38;5;129;01mnot\u001b[39;00m \u001b[38;5;28misinstance\u001b[39m(t, (np\u001b[38;5;241m.\u001b[39mndarray, np\u001b[38;5;241m.\u001b[39mgeneric)):\n",
      "File \u001b[0;32m~/.conda/envs/mlds_gpu/lib/python3.10/site-packages/tensorflow/python/framework/ops.py:396\u001b[0m, in \u001b[0;36m_EagerTensorBase.numpy\u001b[0;34m(self)\u001b[0m\n\u001b[1;32m    373\u001b[0m \u001b[38;5;250m\u001b[39m\u001b[38;5;124;03m\"\"\"Copy of the contents of this Tensor into a NumPy array or scalar.\u001b[39;00m\n\u001b[1;32m    374\u001b[0m \n\u001b[1;32m    375\u001b[0m \u001b[38;5;124;03mUnlike NumPy arrays, Tensors are immutable, so this method has to copy\u001b[39;00m\n\u001b[0;32m   (...)\u001b[0m\n\u001b[1;32m    393\u001b[0m \u001b[38;5;124;03m    NumPy dtype.\u001b[39;00m\n\u001b[1;32m    394\u001b[0m \u001b[38;5;124;03m\"\"\"\u001b[39;00m\n\u001b[1;32m    395\u001b[0m \u001b[38;5;66;03m# TODO(slebedev): Consider avoiding a copy for non-CPU or remote tensors.\u001b[39;00m\n\u001b[0;32m--> 396\u001b[0m maybe_arr \u001b[38;5;241m=\u001b[39m \u001b[38;5;28;43mself\u001b[39;49m\u001b[38;5;241;43m.\u001b[39;49m\u001b[43m_numpy\u001b[49m\u001b[43m(\u001b[49m\u001b[43m)\u001b[49m  \u001b[38;5;66;03m# pylint: disable=protected-access\u001b[39;00m\n\u001b[1;32m    397\u001b[0m \u001b[38;5;28;01mreturn\u001b[39;00m maybe_arr\u001b[38;5;241m.\u001b[39mcopy() \u001b[38;5;28;01mif\u001b[39;00m \u001b[38;5;28misinstance\u001b[39m(maybe_arr, np\u001b[38;5;241m.\u001b[39mndarray) \u001b[38;5;28;01melse\u001b[39;00m maybe_arr\n",
      "File \u001b[0;32m~/.conda/envs/mlds_gpu/lib/python3.10/site-packages/tensorflow/python/framework/ops.py:362\u001b[0m, in \u001b[0;36m_EagerTensorBase._numpy\u001b[0;34m(self)\u001b[0m\n\u001b[1;32m    360\u001b[0m \u001b[38;5;28;01mdef\u001b[39;00m \u001b[38;5;21m_numpy\u001b[39m(\u001b[38;5;28mself\u001b[39m):\n\u001b[1;32m    361\u001b[0m   \u001b[38;5;28;01mtry\u001b[39;00m:\n\u001b[0;32m--> 362\u001b[0m     \u001b[38;5;28;01mreturn\u001b[39;00m \u001b[38;5;28;43mself\u001b[39;49m\u001b[38;5;241;43m.\u001b[39;49m\u001b[43m_numpy_internal\u001b[49m\u001b[43m(\u001b[49m\u001b[43m)\u001b[49m\n\u001b[1;32m    363\u001b[0m   \u001b[38;5;28;01mexcept\u001b[39;00m core\u001b[38;5;241m.\u001b[39m_NotOkStatusException \u001b[38;5;28;01mas\u001b[39;00m e:  \u001b[38;5;66;03m# pylint: disable=protected-access\u001b[39;00m\n\u001b[1;32m    364\u001b[0m     \u001b[38;5;28;01mraise\u001b[39;00m core\u001b[38;5;241m.\u001b[39m_status_to_exception(e) \u001b[38;5;28;01mfrom\u001b[39;00m \u001b[38;5;28;01mNone\u001b[39;00m\n",
      "\u001b[0;31mKeyboardInterrupt\u001b[0m: "
     ]
    }
   ],
   "source": [
    "# Fit the models\n",
    "\n",
    "kdd12_nfm_history = kdd12_nfm_model.fit(\n",
    "    kdd12_train_model_input, \n",
    "    validation_data=kdd12_val_model_input,\n",
    "    batch_size=256, \n",
    "    epochs=15, \n",
    "    callbacks=[kdd12_nfm_csvLogger,kdd12_nfm_modelCheckpoint,earlystopping]\n",
    ")\n",
    "'''\n",
    "avazu_nfm_history = avazu_nfm_model.fit(\n",
    "    avazu_train_model_input,\n",
    "    validation_data=avazu_val_model_input,\n",
    "    batch_size=256, \n",
    "    epochs=15,\n",
    "    callbacks=[avazu_nfm_csvLogger,avazu_nfm_modelCheckpoint,earlystopping]\n",
    ")\n",
    "criteo_nfm_history = criteo_nfm_model.fit(\n",
    "    criteo_train_model_input,\n",
    "    validation_data=criteo_val_model_input,\n",
    "    batch_size=256, \n",
    "    epochs=15,\n",
    "    callbacks=[criteo_nfm_csvLogger,criteo_nfm_modelCheckpoint,earlystopping]\n",
    ")\n",
    "'''"
   ]
  },
  {
   "cell_type": "code",
   "execution_count": null,
   "metadata": {},
   "outputs": [],
   "source": [
    "# Read in the history logs\n",
    "kdd12_history = pd.read_csv('logs/kdd12_nfm.csv')\n",
    "avazu_history = pd.read_csv('logs/avazu_nfm.csv')\n",
    "criteo_history = pd.read_csv('logs/criteo_nfm.csv')\n",
    "\n",
    "# Plot the training history\n",
    "plt.plot(kdd12_history['binary_crossentropy'])\n",
    "plt.plot(kdd12_history['val_binary_crossentropy'])\n",
    "plt.title('kdd12_nfm_model loss')\n",
    "plt.ylabel('loss')\n",
    "plt.xlabel('epoch')\n",
    "plt.legend(['train', 'val'], loc='upper left')\n",
    "plt.show()\n",
    "\n",
    "plt.plot(avazu_history['binary_crossentropy'])\n",
    "plt.plot(avazu_history['val_binary_crossentropy'])\n",
    "plt.title('avazu_nfm_model loss')\n",
    "plt.ylabel('loss')\n",
    "plt.xlabel('epoch')\n",
    "plt.legend(['train', 'val'], loc='upper left')\n",
    "plt.show()\n",
    "\n",
    "plt.plot(criteo_history['binary_crossentropy'])\n",
    "plt.plot(criteo_history['val_binary_crossentropy'])\n",
    "plt.title('criteo_nfm_model loss')\n",
    "plt.ylabel('loss')\n",
    "plt.xlabel('epoch')\n",
    "plt.legend(['train', 'val'], loc='upper left')\n",
    "plt.show()"
   ]
  },
  {
   "cell_type": "markdown",
   "metadata": {},
   "source": [
    "### Deep And Cross Network"
   ]
  },
  {
   "cell_type": "markdown",
   "metadata": {},
   "source": []
  },
  {
   "cell_type": "code",
   "execution_count": null,
   "metadata": {},
   "outputs": [],
   "source": [
    "# Define the CSVLogger callbacks\n",
    "kdd12_dcn_csvLogger = CSVLogger('logs/kdd12_dcn.csv')\n",
    "avazu_dcn_csvLogger = CSVLogger('logs/avazu_dcn.csv')\n",
    "criteo_dcn_csvLogger = CSVLogger('logs/criteo_dcn.csv')"
   ]
  },
  {
   "cell_type": "code",
   "execution_count": null,
   "metadata": {},
   "outputs": [],
   "source": [
    "# Define the model saving checkpoints\n",
    "kdd12_dcn_modelCheckpoint = ModelCheckpoint(\n",
    "    'models/dcn/kdd12/kdd12_dcn.ckpt',\n",
    "    save_best_only=True,\n",
    "    save_weights_only=True\n",
    ")\n",
    "avazu_dcn_modelCheckpoint = ModelCheckpoint(\n",
    "    'models/dcn/avazu/avazu_dcn.ckpt',\n",
    "    save_best_only=True,\n",
    "    save_weights_only=True\n",
    ")\n",
    "criteo_dcn_modelCheckpoint = ModelCheckpoint(\n",
    "    'models/dcn/criteo/criteo_dcn.ckpt',\n",
    "    save_best_only=True,\n",
    "    save_weights_only=True\n",
    ")"
   ]
  },
  {
   "cell_type": "code",
   "execution_count": null,
   "metadata": {},
   "outputs": [],
   "source": [
    "# Compile the PNN models\n",
    "kdd12_dcn_model = DCN(\n",
    "    kdd12_linear_feature_columns,\n",
    "    kdd12_dnn_feature_columns, \n",
    "    task='binary',\n",
    "    dnn_hidden_units=[200,200,200],\n",
    "    dnn_dropout=0.6,\n",
    "    l2_reg_dnn=0.005,\n",
    "    l2_reg_embedding=0.005,\n",
    "    dnn_use_bn=True,\n",
    "    )\n",
    "kdd12_dcn_model.compile(\"adam\", \"binary_crossentropy\", metrics=['binary_crossentropy','binary_accuracy',precision,recall,auc], )\n",
    "'''\n",
    "avazu_dcn_model = DCN(\n",
    "    avazu_linear_feature_columns,\n",
    "    avazu_dnn_feature_columns, \n",
    "    task='binary',\n",
    "    dnn_hidden_units=[200,200,200],\n",
    "    dnn_dropout=0.6,\n",
    "    l2_reg_dnn=0.005,\n",
    "    l2_reg_embedding=0.005,\n",
    "    dnn_use_bn=True,\n",
    "    )\n",
    "avazu_dcn_model.compile(\"adam\", \"binary_crossentropy\", metrics=['binary_crossentropy','binary_accuracy',precision,recall,auc], )\n",
    "\n",
    "criteo_dcn_model = DCN(\n",
    "    criteo_linear_feature_columns,\n",
    "    criteo_dnn_feature_columns, \n",
    "    task='binary',\n",
    "    dnn_hidden_units=[200,200,200],\n",
    "    dnn_dropout=0.6,\n",
    "    l2_reg_dnn=0.005,\n",
    "    l2_reg_embedding=0.005,\n",
    "    dnn_use_bn=True,\n",
    "    )\n",
    "criteo_dcn_model.compile(\"adam\", \"binary_crossentropy\", metrics=['binary_crossentropy','binary_accuracy',precision,recall,auc], )\n",
    "'''"
   ]
  },
  {
   "cell_type": "code",
   "execution_count": null,
   "metadata": {},
   "outputs": [],
   "source": [
    "# Fit the models\n",
    "\n",
    "kdd12_dcn_history = kdd12_dcn_model.fit(\n",
    "    kdd12_train_model_input, \n",
    "    validation_data=kdd12_val_model_input,\n",
    "    batch_size=256, \n",
    "    epochs=15, \n",
    "    callbacks=[kdd12_dcn_csvLogger,kdd12_dcn_modelCheckpoint,earlystopping]\n",
    ")\n",
    "'''\n",
    "avazu_dcn_history = avazu_dcn_model.fit(\n",
    "    avazu_train_model_input,\n",
    "    validation_data=avazu_val_model_input,\n",
    "    batch_size=256, \n",
    "    epochs=15,\n",
    "    callbacks=[avazu_dcn_csvLogger,avazu_dcn_modelCheckpoint,earlystopping]\n",
    ")\n",
    "criteo_dcn_history = criteo_dcn_model.fit(\n",
    "    criteo_train_model_input,\n",
    "    validation_data=criteo_val_model_input,\n",
    "    batch_size=256, \n",
    "    epochs=15,\n",
    "    callbacks=[criteo_dcn_csvLogger,criteo_dcn_modelCheckpoint,earlystopping]\n",
    ")\n",
    "'''"
   ]
  },
  {
   "cell_type": "code",
   "execution_count": null,
   "metadata": {},
   "outputs": [],
   "source": [
    "# Read in the history logs\n",
    "kdd12_history = pd.read_csv('logs/kdd12_dcn.csv')\n",
    "avazu_history = pd.read_csv('logs/avazu_dcn.csv')\n",
    "criteo_history = pd.read_csv('logs/criteo_dcn.csv')\n",
    "\n",
    "# Plot the training history\n",
    "plt.plot(kdd12_history['binary_crossentropy'])\n",
    "plt.plot(kdd12_history['val_binary_crossentropy'])\n",
    "plt.title('kdd12_dcn_model loss')\n",
    "plt.ylabel('loss')\n",
    "plt.xlabel('epoch')\n",
    "plt.legend(['train', 'val'], loc='upper left')\n",
    "plt.show()\n",
    "\n",
    "plt.plot(avazu_history['binary_crossentropy'])\n",
    "plt.plot(avazu_history['val_binary_crossentropy'])\n",
    "plt.title('avazu_dcn_model loss')\n",
    "plt.ylabel('loss')\n",
    "plt.xlabel('epoch')\n",
    "plt.legend(['train', 'val'], loc='upper left')\n",
    "plt.show()\n",
    "\n",
    "plt.plot(criteo_history['binary_crossentropy'])\n",
    "plt.plot(criteo_history['val_binary_crossentropy'])\n",
    "plt.title('criteo_dcn_model loss')\n",
    "plt.ylabel('loss')\n",
    "plt.xlabel('epoch')\n",
    "plt.legend(['train', 'val'], loc='upper left')\n",
    "plt.show()"
   ]
  },
  {
   "cell_type": "markdown",
   "metadata": {},
   "source": [
    "### Wide and Deep"
   ]
  },
  {
   "cell_type": "markdown",
   "metadata": {},
   "source": [
    "The Wide \\& Deep Learning (WDL) model proposed by Cheng et. al. (2016) introduces the concept\n",
    "of dual-tower model architecture (Zhang et. al. 2021). While both the FNN and the PNN models\n",
    "generally tend to be constructed as a single fully connected DNN model, the Wide \\& Deep model\n",
    "consists of a wide component, consisting of a three layer Deep Neural Network that takes the concatinated\n",
    "embedding vectors of the categorical features as input, and a deep component, consisting of a cross product\n",
    "transformation of selected sparse categorical features. The logits from the wide and deep components are added\n",
    "together to produce the final prediction. The architecture of the WDL model is shown in the figure below.\n",
    "\n",
    "![WDL](figures/wdl.png)\n",
    "\n",
    "The purpose behind the Dual-Tower architecture is to counteract the tendancy of the fully connected\n",
    "single tower DNN models to lose the ability to capture low-order feature interactions (Zhang et. al. 2021).\n",
    "The Wide component is able to capture the low-order feature interactions, while the Deep component is able to capture\n",
    "the higher order feature interactions."
   ]
  },
  {
   "cell_type": "code",
   "execution_count": null,
   "metadata": {},
   "outputs": [],
   "source": [
    "# Compile the WDL models\n",
    "kdd12_wdl_model = WDL(\n",
    "    kdd12_linear_feature_columns, \n",
    "    kdd12_dnn_feature_columns, \n",
    "    task='binary',\n",
    "    dnn_hidden_units=[200,200,200],\n",
    "    dnn_dropout=0.6,\n",
    "    l2_reg_dnn=0.005,\n",
    "    l2_reg_linear = 0.005,\n",
    "    l2_reg_embedding=0.005,\n",
    "    )\n",
    "kdd12_wdl_model.compile(\"adam\", \"binary_crossentropy\", metrics=['binary_crossentropy','binary_accuracy',precision,recall,auc], )\n",
    "'''\n",
    "avazu_wdl_model = WDL(\n",
    "    avazu_linear_feature_columns, \n",
    "    avazu_dnn_feature_columns, \n",
    "    task='binary',\n",
    "    dnn_hidden_units=[200,200,200],\n",
    "    dnn_dropout=0.6,\n",
    "    l2_reg_dnn=0.005,\n",
    "    l2_reg_linear = 0.005,\n",
    "    l2_reg_embedding=0.005,\n",
    "    )\n",
    "avazu_wdl_model.compile(\"adam\", \"binary_crossentropy\", metrics=['binary_crossentropy','binary_accuracy',precision,recall,auc], )\n",
    "\n",
    "criteo_wdl_model = WDL(\n",
    "    criteo_linear_feature_columns, \n",
    "    criteo_dnn_feature_columns, \n",
    "    task='binary',\n",
    "    dnn_hidden_units=[200,200,200],\n",
    "    dnn_dropout=0.6,\n",
    "    l2_reg_dnn=0.005,\n",
    "    l2_reg_linear = 0.005,\n",
    "    l2_reg_embedding=0.005,\n",
    "    )\n",
    "criteo_wdl_model.compile(\"adam\", \"binary_crossentropy\", metrics=['binary_crossentropy','binary_accuracy',precision,recall,auc], )\n",
    "'''"
   ]
  },
  {
   "cell_type": "code",
   "execution_count": null,
   "metadata": {},
   "outputs": [],
   "source": [
    "# Define the CSVLogger callbacks\n",
    "kdd12_wdl_csvLogger = CSVLogger('logs/kdd12_wdl.csv')\n",
    "avazu_wdl_csvLogger = CSVLogger('logs/avazu_wdl.csv')\n",
    "criteo_wdl_csvLogger = CSVLogger('logs/criteo_wdl.csv')"
   ]
  },
  {
   "cell_type": "code",
   "execution_count": null,
   "metadata": {},
   "outputs": [],
   "source": [
    "# Define the model saving checkpoints\n",
    "kdd12_wdl_modelCheckpoint = ModelCheckpoint(\n",
    "    'models/wdl/kdd12/kdd12_wdl.ckpt',\n",
    "    save_best_only=True,\n",
    "    save_weights_only=True\n",
    ")\n",
    "avazu_wdl_modelCheckpoint = ModelCheckpoint(\n",
    "    'models/wdl/avazu/avazu_wdl.ckpt',\n",
    "    save_best_only=True,\n",
    "    save_weights_only=True\n",
    ")\n",
    "criteo_wdl_modelCheckpoint = ModelCheckpoint(\n",
    "    'models/wdl/criteo/criteo_wdl.ckpt',\n",
    "    save_best_only=True,\n",
    "    save_weights_only=True\n",
    ")"
   ]
  },
  {
   "cell_type": "code",
   "execution_count": null,
   "metadata": {},
   "outputs": [],
   "source": [
    "# Fit the Wide and Deep models\n",
    "\n",
    "kdd12_wdl_history = kdd12_wdl_model.fit(\n",
    "    kdd12_train_model_input, \n",
    "    validation_data=kdd12_val_model_input, \n",
    "    batch_size=256, \n",
    "    epochs=15,\n",
    "    callbacks=[kdd12_wdl_csvLogger,kdd12_wdl_modelCheckpoint,earlystopping]\n",
    ")\n",
    "'''\n",
    "avazu_wdl_history = avazu_wdl_model.fit(\n",
    "    avazu_train_model_input, \n",
    "    validation_data=avazu_val_model_input, \n",
    "    batch_size=256, \n",
    "    epochs=15,\n",
    "    callbacks=[avazu_wdl_csvLogger,avazu_wdl_modelCheckpoint,earlystopping]\n",
    "\n",
    "\n",
    "criteo_wdl_history = criteo_wdl_model.fit(\n",
    "    criteo_train_model_input, \n",
    "    validation_data=criteo_val_model_input, \n",
    "    batch_size=256, \n",
    "    epochs=15,\n",
    "    callbacks=[criteo_wdl_csvLogger, criteo_wdl_modelCheckpoint,earlystopping]\n",
    ")\n",
    "'''"
   ]
  },
  {
   "cell_type": "code",
   "execution_count": null,
   "metadata": {},
   "outputs": [],
   "source": [
    "# Read in the history logs\n",
    "kdd12_history = pd.read_csv('logs/kdd12_wdl.csv')\n",
    "avazu_history = pd.read_csv('logs/avazu_wdl.csv')\n",
    "criteo_history = pd.read_csv('logs/criteo_wdl.csv')\n",
    "\n",
    "# Plot the training history\n",
    "plt.plot(kdd12_history['binary_crossentropy'])\n",
    "plt.plot(kdd12_history['val_binary_crossentropy'])\n",
    "plt.title('kdd12_wdl_model loss')\n",
    "plt.ylabel('loss')\n",
    "plt.xlabel('epoch')\n",
    "plt.legend(['train', 'val'], loc='upper left')\n",
    "plt.show()\n",
    "\n",
    "plt.plot(avazu_history['binary_crossentropy'])\n",
    "plt.plot(avazu_history['val_binary_crossentropy'])\n",
    "plt.title('avazu_wdl_model loss')\n",
    "plt.ylabel('loss')\n",
    "plt.xlabel('epoch')\n",
    "plt.legend(['train', 'val'], loc='upper left')\n",
    "plt.show()\n",
    "\n",
    "plt.plot(criteo_history['binary_crossentropy'])\n",
    "plt.plot(criteo_history['val_binary_crossentropy'])\n",
    "plt.title('criteo_wdl_model loss')\n",
    "plt.ylabel('loss')\n",
    "plt.xlabel('epoch')\n",
    "plt.legend(['train', 'val'], loc='upper left')\n",
    "plt.show()"
   ]
  },
  {
   "cell_type": "markdown",
   "metadata": {},
   "source": [
    "### DeepFM"
   ]
  },
  {
   "cell_type": "markdown",
   "metadata": {},
   "source": [
    "The DeepFM model proposed by Guo et. al. 2017 can be thought of as an\n",
    "imporvement of the aforementioned FNN (Zhang et. al., 2016) and WDL (Cheng et. al., 2016) models.\n",
    "Like the FNN model, the DeepFM model usilises the Factorization Machine model (Rendel, 2010)\n",
    "to learn lower-order feature interactions. However, it also employs a dual-tower architecture\n",
    "like the WDL model, with the Wide component being the FM model and the Deep component being a fully connected\n",
    "DNN model. The DeepFM model is therefore able to avoid the limitations on capturing low-order\n",
    "interactions that are inherent in the FNN model. In addition, due the the application of the FM to all\n",
    "feature embeddings, the DeepFM model eliminates the need to choose which features \n",
    "to feed through the wide component, as is the case in the WDL model. The architecture of the DeepFM model is shown \n",
    "in the figure below.\n",
    "\n",
    "![DFM](figures/dfm.png)"
   ]
  },
  {
   "cell_type": "code",
   "execution_count": null,
   "metadata": {},
   "outputs": [],
   "source": [
    "# Compile the DeepFM models\n",
    "\n",
    "kdd12_dfm_model = DeepFM(\n",
    "    kdd12_linear_feature_columns, \n",
    "    kdd12_dnn_feature_columns, \n",
    "    task='binary',\n",
    "    dnn_hidden_units=[200,200,200],\n",
    "    dnn_dropout=0.6,\n",
    "    l2_reg_dnn=0.005,\n",
    "    l2_reg_linear = 0.005,\n",
    "    l2_reg_embedding=0.005,\n",
    "    dnn_use_bn=True\n",
    ")\n",
    "kdd12_dfm_model.compile(\"adam\", \"binary_crossentropy\", metrics=['binary_crossentropy','binary_accuracy',precision,recall,auc], )\n",
    "'''\n",
    "avazu_dfm_model = DeepFM(\n",
    "    avazu_linear_feature_columns, \n",
    "    avazu_dnn_feature_columns, \n",
    "    task='binary',\n",
    "    dnn_hidden_units=[200,200,200],\n",
    "    dnn_dropout=0.6,\n",
    "    l2_reg_dnn=0.005,\n",
    "    l2_reg_linear = 0.005,\n",
    "    l2_reg_embedding=0.005,\n",
    "    dnn_use_bn=True\n",
    ")\n",
    "avazu_dfm_model.compile(\"adam\", \"binary_crossentropy\", metrics=['binary_crossentropy','binary_accuracy',precision,recall,auc], )\n",
    "\n",
    "criteo_dfm_model = DeepFM(\n",
    "    criteo_linear_feature_columns, \n",
    "    criteo_dnn_feature_columns, \n",
    "    task='binary',\n",
    "    dnn_hidden_units=[200,200,200],\n",
    "    dnn_dropout=0.6,\n",
    "    l2_reg_dnn=0.005,\n",
    "    l2_reg_linear = 0.005,\n",
    "    l2_reg_embedding=0.005,\n",
    "    dnn_use_bn=True\n",
    ")\n",
    "criteo_dfm_model.compile(\"adam\", \"binary_crossentropy\", metrics=['binary_crossentropy','binary_accuracy',precision,recall,auc], )\n",
    "'''"
   ]
  },
  {
   "cell_type": "code",
   "execution_count": null,
   "metadata": {},
   "outputs": [],
   "source": [
    "# Define the CSVLogger callbacks\n",
    "kdd12_dfm_csvLogger = CSVLogger('logs/kdd12_dfm.csv')\n",
    "avazu_dfm_csvLogger = CSVLogger('logs/avazu_dfm.csv')\n",
    "criteo_dfm_csvLogger = CSVLogger('logs/criteo_dfm.csv')"
   ]
  },
  {
   "cell_type": "code",
   "execution_count": null,
   "metadata": {},
   "outputs": [],
   "source": [
    "# Define the model saving checkpoints\n",
    "kdd12_dfm_modelCheckpoint = ModelCheckpoint(\n",
    "    'models/dfm/kdd12/kdd12_dfm.ckpt',\n",
    "    save_best_only=True,\n",
    "    save_weights_only=True\n",
    ")\n",
    "avazu_dfm_modelCheckpoint = ModelCheckpoint(\n",
    "    'models/dfm/avazu/avazu_dfm.ckpt',\n",
    "    save_best_only=True,\n",
    "    save_weights_only=True\n",
    ")\n",
    "criteo_dfm_modelCheckpoint = ModelCheckpoint(\n",
    "    'models/dfm/criteo/criteo_dfm.ckpt',\n",
    "    save_best_only=True,\n",
    "    save_weights_only=True\n",
    ")"
   ]
  },
  {
   "cell_type": "code",
   "execution_count": null,
   "metadata": {},
   "outputs": [],
   "source": [
    "# Fit the DeepFM models\n",
    "\n",
    "kdd12_dfm_history = kdd12_dfm_model.fit(\n",
    "    kdd12_train_model_input, \n",
    "    validation_data = kdd12_val_model_input, \n",
    "    batch_size=256, \n",
    "    epochs=15,\n",
    "    callbacks=[kdd12_dfm_csvLogger,kdd12_dfm_modelCheckpoint,earlystopping]\n",
    ")\n",
    "'''\n",
    "avazu_dfm_history = avazu_dfm_model.fit(\n",
    "    avazu_train_model_input, \n",
    "    validation_data= avazu_val_model_input, \n",
    "    batch_size=256, \n",
    "    epochs=15,\n",
    "    callbacks=[avazu_dfm_csvLogger,avazu_dfm_modelCheckpoint,earlystopping]\n",
    ")\n",
    "\n",
    "criteo_dfm_history = criteo_dfm_model.fit(\n",
    "    criteo_train_model_input, \n",
    "    validation_data=criteo_val_model_input, \n",
    "    batch_size=256, epochs=15,\n",
    "    callbacks=[criteo_dfm_csvLogger,criteo_dfm_modelCheckpoint,earlystopping]\n",
    ")\n",
    "'''"
   ]
  },
  {
   "cell_type": "code",
   "execution_count": null,
   "metadata": {},
   "outputs": [],
   "source": [
    "# Read in the history logs\n",
    "kdd12_dfm_history = pd.read_csv('logs/kdd12_dfm.csv')\n",
    "avazu_dfm_history = pd.read_csv('logs/avazu_dfm.csv')\n",
    "criteo_dfm_history = pd.read_csv('logs/criteo_dfm.csv')\n",
    "\n",
    "# Plot the training history\n",
    "plt.plot(kdd12_dfm_history['binary_crossentropy'])\n",
    "plt.plot(kdd12_dfm_history['val_binary_crossentropy'])\n",
    "plt.title('kdd12_dfm_model loss')\n",
    "plt.ylabel('loss')\n",
    "plt.xlabel('epoch')\n",
    "plt.legend(['train', 'val'], loc='upper left')\n",
    "plt.show()\n",
    "\n",
    "plt.plot(avazu_dfm_history['binary_crossentropy'])\n",
    "plt.plot(avazu_dfm_history['val_binary_crossentropy'])\n",
    "plt.title('avazu_dfm_model loss')\n",
    "plt.ylabel('loss')\n",
    "plt.xlabel('epoch')\n",
    "plt.legend(['train', 'val'], loc='upper left')\n",
    "plt.show()\n",
    "\n",
    "plt.plot(criteo_dfm_history['binary_crossentropy'])\n",
    "plt.plot(criteo_dfm_history['val_binary_crossentropy'])\n",
    "plt.title('criteo_dfm_model loss')\n",
    "plt.ylabel('loss')\n",
    "plt.xlabel('epoch')\n",
    "plt.legend(['train', 'val'], loc='upper left')\n",
    "plt.show()"
   ]
  },
  {
   "cell_type": "markdown",
   "metadata": {},
   "source": [
    "### Automatic Feature Interaction (AutoInt)"
   ]
  },
  {
   "cell_type": "markdown",
   "metadata": {},
   "source": [
    "The Autotomatic Feature Interaction Learning (AutoInt) model proposed by\n",
    "Song et. al. (2019) makes use of a multi-head self attention\n",
    "network to model the important feature interactions in the data. The initial \n",
    "paper separates the model into three parts: an embedding layer, an interaction layer \n",
    "and an output layer. The embedding layer aims to project each sparse multi-value\n",
    "categorical a and dense numerical feature into a lower dimensional space, as per the below:\n",
    "\n",
    "$$\n",
    "\\mathbf{e_i} = \\frac{1}{q} \\mathbf{V_i x_i}\n",
    "$$\n",
    "\n",
    "where $\\mathbf{V_i}$ is the embedding matrix for the $i$-th field, $x_i$ is a multi-hot vector, and $q$ \n",
    "is the number of non-zero values in $x_i$. The interaction layer employs the multi-head\n",
    "mechanism to determine which higher order feature interaction are meaningful in the data. This not only\n",
    "improves the efficiency of model traning, but it also improves the model's explainability. Lastly,\n",
    "the output layer is a fully connected layer that takes in the concatinated output \n",
    "of the interaction layer, and applies the sigmoid activation function to produce the final prediction.\n",
    "The architecture of the AutoInt model is shown in Figure below.\n",
    "\n",
    "![AUTOINT](figures/autoint.png)"
   ]
  },
  {
   "cell_type": "code",
   "execution_count": null,
   "metadata": {},
   "outputs": [],
   "source": [
    "# Compile the AutoInt Models\n",
    "kdd12_autoint_model = AutoInt(\n",
    "    kdd12_linear_feature_columns, \n",
    "    kdd12_dnn_feature_columns, \n",
    "    task='binary',\n",
    "    dnn_hidden_units=[200,200,200],\n",
    "    dnn_dropout=0.6,\n",
    "    l2_reg_dnn=0.005,\n",
    "    l2_reg_linear = 0.005,\n",
    "    l2_reg_embedding=0.005,\n",
    "    dnn_use_bn=True\n",
    "    )\n",
    "kdd12_autoint_model.compile(\"adam\", \"binary_crossentropy\", metrics=['binary_crossentropy','binary_accuracy',precision,recall,auc], )\n",
    "'''\n",
    "avazu_autoint_model = AutoInt(\n",
    "    avazu_linear_feature_columns, \n",
    "    avazu_dnn_feature_columns, \n",
    "    task='binary',\n",
    "    dnn_hidden_units=[200,200,200],\n",
    "    dnn_dropout=0.6,\n",
    "    l2_reg_dnn=0.005,\n",
    "    l2_reg_linear = 0.005,\n",
    "    l2_reg_embedding=0.005,\n",
    "    dnn_use_bn=True\n",
    "    )\n",
    "avazu_autoint_model.compile(\"adam\", \"binary_crossentropy\", metrics=['binary_crossentropy','binary_accuracy',precision,recall,auc], )\n",
    "\n",
    "criteo_autoint_model = AutoInt(\n",
    "    criteo_linear_feature_columns, \n",
    "    criteo_dnn_feature_columns, \n",
    "    task='binary',\n",
    "    dnn_hidden_units=[200,200,200],\n",
    "    dnn_dropout=0.6,\n",
    "    l2_reg_dnn=0.005,\n",
    "    l2_reg_linear = 0.005,\n",
    "    l2_reg_embedding=0.005,\n",
    "    dnn_use_bn=True\n",
    "    )\n",
    "criteo_autoint_model.compile(\"adam\", \"binary_crossentropy\", metrics=['binary_crossentropy','binary_accuracy',precision,recall,auc], )\n",
    "'''"
   ]
  },
  {
   "cell_type": "code",
   "execution_count": null,
   "metadata": {},
   "outputs": [],
   "source": [
    "# Define the AutoInt CSVLogger callbacks\n",
    "kdd12_autoint_csvLogger = CSVLogger('logs/kdd12_autoint.csv')\n",
    "avazu_autoint_csvLogger = CSVLogger('logs/avazu_autoint.csv')\n",
    "criteo_autoint_csvLogger = CSVLogger('logs/criteo_autoint.csv')"
   ]
  },
  {
   "cell_type": "code",
   "execution_count": null,
   "metadata": {},
   "outputs": [],
   "source": [
    "# Define the model saving checkpoints\n",
    "kdd12_autoint_modelCheckpoint = ModelCheckpoint(\n",
    "    'models/autoint/kdd12/kdd12_autoint.ckpt',\n",
    "    save_best_only=True,\n",
    "    save_weights_only=True\n",
    ")\n",
    "avazu_autoint_modelCheckpoint = ModelCheckpoint(\n",
    "    'models/autoint/avazu/avazu_autoint.ckpt',\n",
    "    save_best_only=True,\n",
    "    save_weights_only=True\n",
    ")\n",
    "criteo_autoint_modelCheckpoint = ModelCheckpoint(\n",
    "    'models/autoint/criteo/criteo_autoint.ckpt',\n",
    "    save_best_only=True,\n",
    "    save_weights_only=True\n",
    ")"
   ]
  },
  {
   "cell_type": "code",
   "execution_count": null,
   "metadata": {},
   "outputs": [],
   "source": [
    "# Fit the AutoInt models\n",
    "\n",
    "kdd12_autoint_model.fit(\n",
    "    kdd12_train_model_input, \n",
    "    validation_data= kdd12_val_model_input, \n",
    "    batch_size=256, \n",
    "    epochs=15, \n",
    "    callbacks=[kdd12_autoint_csvLogger, kdd12_autoint_modelCheckpoint,earlystopping]\n",
    ")\n",
    "'''\n",
    "avazu_autoint_model.fit(\n",
    "    avazu_train_model_input,\n",
    "    validation_data=avazu_val_model_input,\n",
    "    batch_size=256, \n",
    "    epochs=15, \n",
    "    callbacks=[avazu_autoint_csvLogger, avazu_autoint_modelCheckpoint,earlystopping]\n",
    ")\n",
    "criteo_autoint_model.fit(\n",
    "    criteo_train_model_input, \n",
    "    validation_data=criteo_val_model_input, \n",
    "    batch_size=256, \n",
    "    epochs=15,\n",
    "    callbacks=[criteo_autoint_csvLogger,criteo_autoint_modelCheckpoint,earlystopping]\n",
    ")\n",
    "'''"
   ]
  },
  {
   "cell_type": "code",
   "execution_count": null,
   "metadata": {
    "scrolled": true
   },
   "outputs": [],
   "source": [
    "# Read in the history logs\n",
    "kdd12_autoint_history = pd.read_csv('logs/kdd12_autoint.csv')\n",
    "avazu_autoint_history = pd.read_csv('logs/avazu_autoint.csv')\n",
    "criteo_autoint_history = pd.read_csv('logs/criteo_autoint.csv')\n",
    "\n",
    "# Plot the training history\n",
    "plt.plot(kdd12_autoint_history['binary_crossentropy'])\n",
    "plt.plot(kdd12_autoint_history['val_binary_crossentropy'])\n",
    "plt.title('kdd12_autoint_model loss')\n",
    "plt.ylabel('loss')\n",
    "plt.xlabel('epoch')\n",
    "plt.legend(['train', 'val'], loc='upper left')\n",
    "plt.show()\n",
    "\n",
    "plt.plot(avazu_autoint_history['binary_crossentropy'])\n",
    "plt.plot(avazu_autoint_history['val_binary_crossentropy'])\n",
    "plt.title('avazu_autoint_model loss')\n",
    "plt.ylabel('loss')\n",
    "plt.xlabel('epoch')\n",
    "plt.legend(['train', 'val'], loc='upper left')\n",
    "plt.show()\n",
    "\n",
    "plt.plot(criteo_autoint_history['binary_crossentropy'])\n",
    "plt.plot(criteo_autoint_history['val_binary_crossentropy'])\n",
    "plt.title('criteo_autoint_model loss')\n",
    "plt.ylabel('loss')\n",
    "plt.xlabel('epoch')\n",
    "plt.legend(['train', 'val'], loc='upper left')\n",
    "plt.show()"
   ]
  },
  {
   "cell_type": "markdown",
   "metadata": {},
   "source": [
    "### Convolutional Click Prediction Model"
   ]
  },
  {
   "cell_type": "markdown",
   "metadata": {},
   "source": []
  },
  {
   "cell_type": "code",
   "execution_count": null,
   "metadata": {},
   "outputs": [],
   "source": [
    "## Generate the dnn and linear feature columns\n",
    "kdd12_dnn_feature_columns_ccpm = [SparseFeat(feat.lower(), vocabulary_size=kdd12_vocab_lengths[feat], embedding_dim=4) for feat in kdd12_categorical_columns]\n",
    "kdd12_linear_feature_columns_ccpm = [DenseFeat(feat.lower(),1) for feat in kdd12_numerical_columns]\n",
    "'''\n",
    "avazu_dnn_feature_columns_ccpm = [SparseFeat(feat, vocabulary_size=avazu_vocab_lengths[feat], embedding_dim=4) for feat in avazu_categorical_columns]\n",
    "avazu_linear_feature_columns_ccpm = [DenseFeat(feat,1) for feat in avazu_numerical_columns]\n",
    "\n",
    "criteo_dnn_feature_columns_ccpm = [SparseFeat(feat, vocabulary_size=criteo_vocab_lengths[feat], embedding_dim=4) for feat in criteo_categorical_columns]\n",
    "criteo_linear_feature_columns_ccpm = [DenseFeat(feat,1) for feat in criteo_numerical_columns]\n",
    "'''"
   ]
  },
  {
   "cell_type": "code",
   "execution_count": null,
   "metadata": {},
   "outputs": [],
   "source": [
    "# Compile the Models\n",
    "\n",
    "kdd12_ccpm_model = CCPM(\n",
    "    kdd12_linear_feature_columns_ccpm, \n",
    "    kdd12_dnn_feature_columns_ccpm, \n",
    "    task='binary',\n",
    "    dnn_hidden_units=[200,200,200],\n",
    "    dnn_dropout=0.6,\n",
    "    l2_reg_dnn=0.005,\n",
    "    l2_reg_linear = 0.005,\n",
    "    l2_reg_embedding=0.005,\n",
    "    )\n",
    "kdd12_ccpm_model.compile(\n",
    "    \"adam\", \n",
    "    \"binary_crossentropy\", \n",
    "    metrics=['binary_crossentropy','binary_accuracy',precision,recall,auc],\n",
    ")\n",
    "'''\n",
    "avazu_ccpm_model = CCPM(\n",
    "    avazu_linear_feature_columns_ccpm, \n",
    "    avazu_dnn_feature_columns_ccpm, \n",
    "    task='binary',\n",
    "    dnn_hidden_units=[200,200,200],\n",
    "    dnn_dropout=0.6,\n",
    "    l2_reg_dnn=0.005,\n",
    "    l2_reg_linear = 0.005,\n",
    "    l2_reg_embedding=0.005,\n",
    "    )\n",
    "avazu_ccpm_model.compile(\n",
    "    \"adam\", \n",
    "    \"binary_crossentropy\", \n",
    "    metrics=['binary_crossentropy','binary_accuracy',precision,recall,auc],\n",
    ")\n",
    "\n",
    "criteo_ccpm_model = CCPM(\n",
    "    criteo_linear_feature_columns_ccpm, \n",
    "    criteo_dnn_feature_columns_ccpm, \n",
    "    task='binary',\n",
    "    dnn_hidden_units=[200,200,200],\n",
    "    dnn_dropout=0.6,\n",
    "    l2_reg_dnn=0.005,\n",
    "    l2_reg_linear = 0.005,\n",
    "    l2_reg_embedding=0.005,\n",
    "    )\n",
    "criteo_ccpm_model.compile(\n",
    "    \"adam\", \n",
    "    \"binary_crossentropy\", \n",
    "    metrics=['binary_crossentropy','binary_accuracy',precision,recall,auc],\n",
    ")\n",
    "'''"
   ]
  },
  {
   "cell_type": "code",
   "execution_count": null,
   "metadata": {},
   "outputs": [],
   "source": [
    "# Define the AutoInt CSVLogger callbacks\n",
    "kdd12_ccpm_csvLogger = CSVLogger('logs/kdd12_ccpm.csv')\n",
    "avazu_ccpm_csvLogger = CSVLogger('logs/avazu_ccpm.csv')\n",
    "criteo_ccpm_csvLogger = CSVLogger('logs/criteo_ccpm.csv')"
   ]
  },
  {
   "cell_type": "code",
   "execution_count": null,
   "metadata": {},
   "outputs": [],
   "source": [
    "# Define the model saving checkpoints\n",
    "kdd12_ccpm_modelCheckpoint = ModelCheckpoint(\n",
    "    'models/ccpm/kdd12/kdd12_ccpm.ckpt',\n",
    "    save_best_only=True,\n",
    "    save_weights_only=True\n",
    ")\n",
    "avazu_ccpm_modelCheckpoint = ModelCheckpoint(\n",
    "    'models/ccpm/avazu/avazu_ccpm.ckpt',\n",
    "    save_best_only=True,\n",
    "    save_weights_only=True\n",
    ")\n",
    "criteo_ccpm_modelCheckpoint = ModelCheckpoint(\n",
    "    'models/ccpm/criteo/criteo_ccpm.ckpt',\n",
    "    save_best_only=True,\n",
    "    save_weights_only=True\n",
    ")"
   ]
  },
  {
   "cell_type": "code",
   "execution_count": null,
   "metadata": {},
   "outputs": [],
   "source": [
    "# Fit the  models\n",
    "\n",
    "kdd12_ccpm_model.fit(\n",
    "    kdd12_train_model_input, \n",
    "    validation_data= kdd12_val_model_input, \n",
    "    batch_size=256, \n",
    "    epochs=15, \n",
    "    callbacks=[kdd12_ccpm_csvLogger, kdd12_ccpm_modelCheckpoint,earlystopping]\n",
    ")\n",
    "'''\n",
    "avazu_ccpm_model.fit(\n",
    "    avazu_train_model_input,\n",
    "    validation_data=avazu_val_model_input,\n",
    "    batch_size=256, \n",
    "    epochs=15, \n",
    "    callbacks=[avazu_ccpm_csvLogger, avazu_ccpm_modelCheckpoint,earlystopping]\n",
    ")\n",
    "criteo_ccpm_model.fit(\n",
    "    criteo_train_model_input, \n",
    "    validation_data=criteo_val_model_input, \n",
    "    batch_size=256, \n",
    "    epochs=15,\n",
    "    callbacks=[criteo_ccpm_csvLogger,criteo_ccpm_modelCheckpoint,earlystopping]\n",
    ")\n",
    "'''"
   ]
  },
  {
   "cell_type": "code",
   "execution_count": null,
   "metadata": {
    "scrolled": true
   },
   "outputs": [],
   "source": [
    "# Read in the history logs\n",
    "kdd12_history = pd.read_csv('logs/kdd12_ccpm.csv')\n",
    "avazu_history = pd.read_csv('logs/avazu_ccpm.csv')\n",
    "criteo_history = pd.read_csv('logs/criteo_ccpm.csv')\n",
    "\n",
    "# Plot the training history\n",
    "plt.plot(kdd12_history['binary_crossentropy'])\n",
    "plt.plot(kdd12_history['val_binary_crossentropy'])\n",
    "plt.title('kdd12_ccpm_model loss')\n",
    "plt.ylabel('loss')\n",
    "plt.xlabel('epoch')\n",
    "plt.legend(['train', 'val'], loc='upper left')\n",
    "plt.show()\n",
    "\n",
    "plt.plot(avazu_history['binary_crossentropy'])\n",
    "plt.plot(avazu_history['val_binary_crossentropy'])\n",
    "plt.title('avazu_ccpm_model loss')\n",
    "plt.ylabel('loss')\n",
    "plt.xlabel('epoch')\n",
    "plt.legend(['train', 'val'], loc='upper left')\n",
    "plt.show()\n",
    "\n",
    "plt.plot(criteo_history['binary_crossentropy'])\n",
    "plt.plot(criteo_history['val_binary_crossentropy'])\n",
    "plt.title('criteo_ccpm_model loss')\n",
    "plt.ylabel('loss')\n",
    "plt.xlabel('epoch')\n",
    "plt.legend(['train', 'val'], loc='upper left')\n",
    "plt.show()"
   ]
  },
  {
   "cell_type": "markdown",
   "metadata": {},
   "source": [
    "### Feature Generation by Convolutional Neural Network"
   ]
  },
  {
   "cell_type": "markdown",
   "metadata": {},
   "source": []
  },
  {
   "cell_type": "code",
   "execution_count": null,
   "metadata": {},
   "outputs": [],
   "source": [
    "# Compile the AutoInt Models\n",
    "\n",
    "kdd12_fgcnn_model = FGCNN(\n",
    "    kdd12_linear_feature_columns, \n",
    "    kdd12_dnn_feature_columns, \n",
    "    task='binary',\n",
    "    dnn_hidden_units=[200,200,200],\n",
    "    dnn_dropout=0.6,\n",
    "    l2_reg_dnn=0.005,\n",
    "    l2_reg_linear = 0.005,\n",
    "    l2_reg_embedding=0.005,\n",
    "    pooling_width=[2,2,2,1]\n",
    "    )\n",
    "kdd12_fgcnn_model.compile(\n",
    "    \"adam\", \n",
    "    \"binary_crossentropy\", \n",
    "    metrics=['binary_crossentropy','binary_accuracy',precision,recall,auc],\n",
    "    run_eagerly=True,\n",
    ")\n",
    "'''\n",
    "avazu_fgcnn_model = FGCNN(\n",
    "    avazu_linear_feature_columns, \n",
    "    avazu_dnn_feature_columns, \n",
    "    task='binary',\n",
    "    dnn_hidden_units=[200,200,200],\n",
    "    dnn_dropout=0.6,\n",
    "    l2_reg_dnn=0.005,\n",
    "    l2_reg_linear = 0.005,\n",
    "    l2_reg_embedding=0.005,\n",
    "    pooling_width=[2,2,2,1]\n",
    "    )\n",
    "avazu_fgcnn_model.compile(\n",
    "    \"adam\", \n",
    "    \"binary_crossentropy\", \n",
    "    metrics=['binary_crossentropy','binary_accuracy',precision,recall,auc],\n",
    "    run_eagerly=True,\n",
    ")\n",
    "\n",
    "criteo_fgcnn_model = FGCNN(\n",
    "    criteo_linear_feature_columns, \n",
    "    criteo_dnn_feature_columns, \n",
    "    task='binary',\n",
    "    dnn_hidden_units=[200,200,200],\n",
    "    dnn_dropout=0.6,\n",
    "    l2_reg_dnn=0.005,\n",
    "    l2_reg_linear = 0.005,\n",
    "    l2_reg_embedding=0.005,\n",
    "    pooling_width=[2,2,2,1]\n",
    "    )\n",
    "criteo_fgcnn_model.compile(\n",
    "    \"adam\", \n",
    "    \"binary_crossentropy\", \n",
    "    metrics=['binary_crossentropy','binary_accuracy',precision,recall,auc],\n",
    "    run_eagerly=True,\n",
    ")\n",
    "'''"
   ]
  },
  {
   "cell_type": "code",
   "execution_count": null,
   "metadata": {},
   "outputs": [],
   "source": [
    "# Define the AutoInt CSVLogger callbacks\n",
    "kdd12_fgcnn_csvLogger = CSVLogger('logs/kdd12_fgcnn.csv')\n",
    "avazu_fgcnn_csvLogger = CSVLogger('logs/avazu_fgcnn.csv')\n",
    "criteo_fgcnn_csvLogger = CSVLogger('logs/criteo_fgcnn.csv')"
   ]
  },
  {
   "cell_type": "code",
   "execution_count": null,
   "metadata": {},
   "outputs": [],
   "source": [
    "# Define the model saving checkpoints\n",
    "kdd12_fgcnn_modelCheckpoint = ModelCheckpoint(\n",
    "    'models/fgcnn/kdd12/kdd12_fgcnn.ckpt',\n",
    "    save_best_only=True,\n",
    "    save_weights_only=True\n",
    ")\n",
    "avazu_fgcnn_modelCheckpoint = ModelCheckpoint(\n",
    "    'models/fgcnn/avazu/avazu_fgcnn.ckpt',\n",
    "    save_best_only=True,\n",
    "    save_weights_only=True\n",
    ")\n",
    "criteo_fgcnn_modelCheckpoint = ModelCheckpoint(\n",
    "    'models/fgcnn/criteo/criteo_fgcnn.ckpt',\n",
    "    save_best_only=True,\n",
    "    save_weights_only=True\n",
    ")"
   ]
  },
  {
   "cell_type": "code",
   "execution_count": null,
   "metadata": {},
   "outputs": [],
   "source": [
    "# Fit the FGCNN models\n",
    "\n",
    "kdd12_fgcnn_model.fit(\n",
    "    kdd12_train_model_input, \n",
    "    validation_data= kdd12_val_model_input, \n",
    "    batch_size=256, \n",
    "    epochs=15, \n",
    "    callbacks=[kdd12_fgcnn_csvLogger, kdd12_fgcnn_modelCheckpoint,earlystopping]\n",
    ")\n",
    "'''\n",
    "avazu_fgcnn_model.fit(\n",
    "    avazu_train_model_input,\n",
    "    validation_data=avazu_val_model_input,\n",
    "    batch_size=256, \n",
    "    epochs=15, \n",
    "    callbacks=[avazu_fgcnn_csvLogger, avazu_fgcnn_modelCheckpoint,earlystopping]\n",
    ")\n",
    "criteo_fgcnn_model.fit(\n",
    "    criteo_train_model_input, \n",
    "    validation_data=criteo_val_model_input, \n",
    "    batch_size=256, \n",
    "    epochs=15,\n",
    "    callbacks=[criteo_fgcnn_csvLogger,criteo_fgcnn_modelCheckpoint,earlystopping]\n",
    ")\n",
    "'''"
   ]
  },
  {
   "cell_type": "code",
   "execution_count": null,
   "metadata": {
    "scrolled": true
   },
   "outputs": [],
   "source": [
    "# Read in the history logs\n",
    "kdd12_history = pd.read_csv('logs/kdd12_fgcnn.csv')\n",
    "avazu_history = pd.read_csv('logs/avazu_fgcnn.csv')\n",
    "criteo_history = pd.read_csv('logs/criteo_fgcnn.csv')\n",
    "\n",
    "# Plot the training history\n",
    "plt.plot(kdd12_history['binary_crossentropy'])\n",
    "plt.plot(kdd12_history['val_binary_crossentropy'])\n",
    "plt.title('kdd12_fgcnn_model loss')\n",
    "plt.ylabel('loss')\n",
    "plt.xlabel('epoch')\n",
    "plt.legend(['train', 'val'], loc='upper left')\n",
    "plt.show()\n",
    "\n",
    "plt.plot(avazu_history['binary_crossentropy'])\n",
    "plt.plot(avazu_history['val_binary_crossentropy'])\n",
    "plt.title('avazu_fgcnn_model loss')\n",
    "plt.ylabel('loss')\n",
    "plt.xlabel('epoch')\n",
    "plt.legend(['train', 'val'], loc='upper left')\n",
    "plt.show()\n",
    "\n",
    "plt.plot(criteo_history['binary_crossentropy'])\n",
    "plt.plot(criteo_history['val_binary_crossentropy'])\n",
    "plt.title('criteo_fgcnn_model loss')\n",
    "plt.ylabel('loss')\n",
    "plt.xlabel('epoch')\n",
    "plt.legend(['train', 'val'], loc='upper left')\n",
    "plt.show()"
   ]
  },
  {
   "cell_type": "markdown",
   "metadata": {},
   "source": [
    "## Analysis of Results and Discussion\n",
    "\n",
    "Below I construct and display a pandas dataframe of the best results in each of the logs in terms of validation loss. The accompanying validation metrics are also shown"
   ]
  },
  {
   "cell_type": "code",
   "execution_count": 65,
   "metadata": {},
   "outputs": [],
   "source": [
    "# Construct pandas dataframe of the model scores for the kdd12 dataset\n",
    "models = ['lr','fm','fnn','pnn','wdl','dfm','autoint','fgcnn','nfm','dcn','ccpm']\n",
    "datasets = ['kdd12','avazu','criteo']\n",
    "\n",
    "for dataset in datasets:\n",
    "    df = pd.DataFrame()\n",
    "    for model in models:\n",
    "        log_file = f'logs/{dataset}_{model}.csv'\n",
    "        history = pd.read_csv(log_file)\n",
    "        min_loss = history[history['val_loss']==history['val_loss'].min()]\n",
    "        min_loss_val = min_loss.loc[:,['epoch','val_binary_crossentropy','val_binary_accuracy','val_precision','val_recall','val_auc']]\n",
    "        min_loss_val['model'] = model\n",
    "        df = pd.concat([df,min_loss_val],axis=0)\n",
    "    df = df.set_index('model')\n",
    "    df.to_csv(f'logs/{dataset}_model_scores.csv')"
   ]
  },
  {
   "cell_type": "code",
   "execution_count": 66,
   "metadata": {},
   "outputs": [
    {
     "data": {
      "image/png": "[encoded data removed]",
      "text/plain": [
       "<Figure size 1500x500 with 3 Axes>"
      ]
     },
     "metadata": {},
     "output_type": "display_data"
    },
    {
     "data": {
      "image/png": "[encoded data removed]",
      "text/plain": [
       "<Figure size 1500x500 with 3 Axes>"
      ]
     },
     "metadata": {},
     "output_type": "display_data"
    },
    {
     "data": {
      "image/png": "[encoded data removed]",
      "text/plain": [
       "<Figure size 1500x500 with 3 Axes>"
      ]
     },
     "metadata": {},
     "output_type": "display_data"
    }
   ],
   "source": [
    "# Plot the the model scores by data set\n",
    "\n",
    "for dataset in datasets:\n",
    "    df = pd.read_csv(f'logs/{dataset}_model_scores.csv')\n",
    "    \n",
    "    fig, axs = plt.subplots(1, 3, figsize=(15, 5))\n",
    "    fig.suptitle(f'{dataset.capitalize()} Model Scores')\n",
    "    \n",
    "    # Plot a scatter plot of binary crossentropy loss vs binary accuracy\n",
    "    sns.scatterplot(ax=axs[0], data=df, x='val_binary_crossentropy', y='val_auc', hue='model', palette='tab10')\n",
    "    axs[0].set_title('Binary Crossentropy vs AUC')\n",
    "    axs[0].set_xlabel('Binary Crossentropy')\n",
    "    axs[0].set_ylabel('AUC')\n",
    "\n",
    "    # Plot a scatter plot of Precision vs Recall\n",
    "    sns.scatterplot(ax=axs[1], data=df, x='val_precision', y='val_recall', hue='model', palette='tab10')\n",
    "    axs[1].set_title('Precision vs Recall')\n",
    "    axs[1].set_xlabel('Precision')\n",
    "    axs[1].set_ylabel('Recall')\n",
    "\n",
    "    # Plot a bar chart of epoch number by model\n",
    "    sns.barplot(ax=axs[2], data=df, x='model', y='epoch', palette='tab10')\n",
    "    axs[2].set_title('Epochs to Convergence')\n",
    "    axs[2].set_xlabel('Model')\n",
    "    axs[2].set_ylabel('Epochs')\n",
    "\n",
    "    # Arrange the subplots so that the axis labels do not overlap\n",
    "    plt.tight_layout(rect=[0, 0.03, 1, 0.95])\n",
    "\n",
    "    # Save the figure in the figures folder and show the plot\n",
    "    plt.savefig(f'figures/{dataset}_model_scores.png')\n",
    "    plt.show()"
   ]
  },
  {
   "cell_type": "markdown",
   "metadata": {},
   "source": [
    "## Hyperparameter Experimentation"
   ]
  },
  {
   "cell_type": "markdown",
   "metadata": {},
   "source": [
    "In this section, I experiment with different hyperparameter settings for the DeepFM model, using the Avazu Dataset. Below I will experiment with:\n",
    "- Neuron per layer count: 100, 200, 300, 400, 500\n",
    "- Layer count: 2, 3, 4, 5, 6\n",
    "- Architecture shape:\n",
    "    - Flat: 200, 200, 200\n",
    "    - Increasing: 100, 200, 300\n",
    "    - Decreasing: 300, 200, 100\n",
    "    - Diamond: 150, 300, 150"
   ]
  },
  {
   "cell_type": "code",
   "execution_count": null,
   "metadata": {},
   "outputs": [],
   "source": [
    "# Create the model directory if it does not exist\n",
    "if not os.path.exists('models/hyperparameters'):\n",
    "    os.mkdir('models/hyperparameters')"
   ]
  },
  {
   "cell_type": "markdown",
   "metadata": {},
   "source": [
    "### Neuron per Layer"
   ]
  },
  {
   "cell_type": "code",
   "execution_count": null,
   "metadata": {},
   "outputs": [],
   "source": [
    "# Create the model directory if it does not exist\n",
    "if not os.path.exists('models/hyperparameters/neuron_count'):\n",
    "    os.mkdir('models/hyperparameters/neuron_count')"
   ]
  },
  {
   "cell_type": "code",
   "execution_count": null,
   "metadata": {},
   "outputs": [],
   "source": [
    "def neuron_experiment(dnn_hidden_layers):\n",
    "    precision = tf.keras.metrics.Precision(thresholds=0.5,name='precision')\n",
    "    recall = tf.keras.metrics.Recall(thresholds=0.5,name='recall')\n",
    "    auc = tf.keras.metrics.AUC(name='auc')\n",
    "    \n",
    "    model = DCN(\n",
    "    kdd12_linear_feature_columns, \n",
    "    kdd12_dnn_feature_columns, \n",
    "    task='binary',\n",
    "    dnn_hidden_units=dnn_hidden_layers,\n",
    "    dnn_dropout=0.6,\n",
    "    l2_reg_dnn=0.005,\n",
    "    l2_reg_linear = 0.005,\n",
    "    l2_reg_embedding=0.005,\n",
    "    dnn_use_bn=True\n",
    "    )\n",
    "    model.compile(\"adam\", \"binary_crossentropy\", metrics=['binary_crossentropy','binary_accuracy',precision,recall,auc], )\n",
    "\n",
    "    return model"
   ]
  },
  {
   "cell_type": "code",
   "execution_count": null,
   "metadata": {},
   "outputs": [],
   "source": [
    "for neurons in [100,200,300,400,500]:\n",
    "    if not os.path.exists(f'models/hyperparameters/neuron_count/{str(neurons)}'):\n",
    "        os.mkdir(f'models/hyperparameters/neuron_count/{str(neurons)}')\n",
    "\n",
    "    dnn_layers = 3*[neurons]\n",
    "    model = neuron_experiment(dnn_layers)\n",
    "\n",
    "    csvLogger = CSVLogger(f'logs/neuron_count_{str(neurons)}.csv')\n",
    "    modelCheckpoint = ModelCheckpoint(\n",
    "    f'models/hyperparameters/neuron_count/{str(neurons)}/neuron_count_{str(neurons)}.ckpt',\n",
    "    save_best_only=True,\n",
    "    save_weights_only=True\n",
    "    )\n",
    "\n",
    "    print(f\"{str(neurons)} neurons:\")\n",
    "    model.fit(\n",
    "        kdd12_train_model_input,\n",
    "        validation_data = kdd12_val_model_input,\n",
    "        batch_size=256,\n",
    "        epochs=15,\n",
    "        callbacks=[csvLogger,modelCheckpoint,earlystopping]\n",
    "    )"
   ]
  },
  {
   "cell_type": "code",
   "execution_count": null,
   "metadata": {},
   "outputs": [],
   "source": [
    "# Plot the minimum validation loss\n",
    "summary_df = pd.DataFrame(index=np.arange(100,600,100),data={\n",
    "    \"binary_crossentropy\":np.zeros(5,dtype=float),\n",
    "    \"auc\":np.zeros(5,dtype=float)\n",
    "})\n",
    "\n",
    "for neurons in [100,200,300,400,500]:\n",
    "    df = pd.read_csv(f'logs/neuron_count_{str(neurons)}.csv')\n",
    "    binary_crossentropy = df[df.val_loss == df.val_loss.min()].val_binary_crossentropy.values[0]\n",
    "    auc = df[df.val_loss == df.val_loss.min()].auc.values[0]\n",
    "    summary_df.loc[neurons,['binary_crossentropy']] = binary_crossentropy\n",
    "    summary_df.loc[neurons,['auc']] = auc\n",
    "\n",
    "# Plot the result\n",
    "fig, ax = plt.subplots(ncols=2,figsize=(10,5))\n",
    "fig.suptitle(\"Neurons per layer\")\n",
    "ax[0].set_title('Binary Crossentropy')\n",
    "ax[0].set_xlabel('Neurons per layer')\n",
    "ax[0].plot(summary_df.index,summary_df.binary_crossentropy)\n",
    "\n",
    "ax[1].set_title('AUC')\n",
    "ax[1].set_xlabel('Neurons per layer')\n",
    "ax[1].plot(summary_df.index,summary_df.auc)\n",
    "\n",
    "plt.show()"
   ]
  },
  {
   "cell_type": "code",
   "execution_count": null,
   "metadata": {},
   "outputs": [],
   "source": [
    "df[df.val_loss == df.val_loss.min()].val_binary_crossentropy.values[0]"
   ]
  },
  {
   "cell_type": "markdown",
   "metadata": {},
   "source": [
    "### Number of layers"
   ]
  },
  {
   "cell_type": "code",
   "execution_count": null,
   "metadata": {},
   "outputs": [],
   "source": [
    "# Create the model directory if it does not exist\n",
    "if not os.path.exists('models/hyperparameters/layers'):\n",
    "    os.mkdir('models/hyperparameters/layers')"
   ]
  },
  {
   "cell_type": "code",
   "execution_count": null,
   "metadata": {},
   "outputs": [],
   "source": [
    "for layers in [2,3,4,5,6]:\n",
    "    if not os.path.exists(f'models/hyperparameters/layers/{str(layers)}'):\n",
    "        os.mkdir(f'models/hyperparameters/layers/{str(layers)}')\n",
    "\n",
    "    dnn_layers = layers*[200]\n",
    "    model = neuron_experiment(dnn_layers)\n",
    "\n",
    "    csvLogger = CSVLogger(f'logs/layers_{layers}.csv')\n",
    "    modelCheckpoint = ModelCheckpoint(\n",
    "    f'models/hyperparameters/layers/{str(layers)}/layers_{str(layers)}.ckpt',\n",
    "    save_best_only=True,\n",
    "    save_weights_only=True\n",
    "    )\n",
    "\n",
    "    print(f\"{str(layers)} layers:\")\n",
    "    model.fit(\n",
    "        kdd12_train_model_input,\n",
    "        validation_data = kdd12_val_model_input,\n",
    "        batch_size=256,\n",
    "        epochs=15,\n",
    "        callbacks=[csvLogger,modelCheckpoint,earlystopping]\n",
    "    )"
   ]
  },
  {
   "cell_type": "code",
   "execution_count": null,
   "metadata": {},
   "outputs": [],
   "source": [
    "# Plot the minimum validation loss\n",
    "summary_df = pd.DataFrame(index=np.arange(2,7),data={\n",
    "    \"binary_crossentropy\":np.zeros(5,dtype=float),\n",
    "    \"auc\":np.zeros(5,dtype=float)\n",
    "})\n",
    "\n",
    "for neurons in [2,3,4,5,6]:\n",
    "    df = pd.read_csv(f'logs/layers_{str(neurons)}.csv')\n",
    "    binary_crossentropy = df[df.val_loss == df.val_loss.min()].val_binary_crossentropy.values[0]\n",
    "    auc = df[df.val_loss == df.val_loss.min()].auc.values[0]\n",
    "    summary_df.loc[neurons,['binary_crossentropy']] = binary_crossentropy\n",
    "    summary_df.loc[neurons,['auc']] = auc\n",
    "\n",
    "\n",
    "# Plot the result\n",
    "fig, ax = plt.subplots(ncols=2,figsize=(10,5))\n",
    "fig.suptitle(\"Layers\")\n",
    "ax[0].set_title('Binary Crossentropy')\n",
    "ax[0].set_xlabel('Number of Layers')\n",
    "ax[0].plot(summary_df.index,summary_df.binary_crossentropy)\n",
    "\n",
    "ax[1].set_title('AUC')\n",
    "ax[1].set_xlabel('Number of Layers')\n",
    "ax[1].plot(summary_df.index,summary_df.auc)\n",
    "\n",
    "plt.show()"
   ]
  },
  {
   "cell_type": "markdown",
   "metadata": {},
   "source": [
    "### DNN Shape"
   ]
  },
  {
   "cell_type": "code",
   "execution_count": null,
   "metadata": {},
   "outputs": [],
   "source": [
    "# Create the model directory if it does not exist\n",
    "if not os.path.exists('models/hyperparameters/shape'):\n",
    "    os.mkdir('models/hyperparameters/shape')"
   ]
  },
  {
   "cell_type": "code",
   "execution_count": null,
   "metadata": {},
   "outputs": [],
   "source": [
    "shapes = {\n",
    "    'constant':[200,200,200],\n",
    "    'increasing':[100,200,300],\n",
    "    'decreasing':[300,200,100],\n",
    "    'diamond':[150,300,150]\n",
    "}"
   ]
  },
  {
   "cell_type": "code",
   "execution_count": null,
   "metadata": {},
   "outputs": [],
   "source": [
    "for shape in list(shapes.keys()):\n",
    "    if not os.path.exists(f'models/hyperparameters/shape/{shape}'):\n",
    "        os.mkdir(f'models/hyperparameters/shape/{shape}')\n",
    "\n",
    "    dnn_layers = shapes[shape]\n",
    "    model = neuron_experiment(dnn_layers)\n",
    "\n",
    "    csvLogger = CSVLogger(f'logs/shape_{shape}.csv')\n",
    "    modelCheckpoint = ModelCheckpoint(\n",
    "    f'models/hyperparameters/shape/{shape}/shape_{shape}.ckpt',\n",
    "    save_best_only=True,\n",
    "    save_weights_only=True\n",
    "    )\n",
    "\n",
    "    print(f\"{shape.capitalize()}:\")\n",
    "    model.fit(\n",
    "        kdd12_train_model_input,\n",
    "        validation_data = kdd12_val_model_input,\n",
    "        batch_size=256,\n",
    "        epochs=15,\n",
    "        callbacks=[csvLogger,modelCheckpoint,earlystopping]\n",
    "    )"
   ]
  },
  {
   "cell_type": "code",
   "execution_count": null,
   "metadata": {},
   "outputs": [],
   "source": [
    "# Plot the minimum validation loss\n",
    "summary_df = pd.DataFrame(index=np.arange(4),data={\n",
    "    \"binary_crossentropy\":np.zeros(4,dtype=float),\n",
    "    \"auc\":np.zeros(4,dtype=float)\n",
    "})\n",
    "\n",
    "shape_names = list(shapes.keys())\n",
    "\n",
    "for neurons in range(4):\n",
    "    df = pd.read_csv(f'logs/shape_{shape_names[neurons]}.csv')\n",
    "    binary_crossentropy = df[df.val_loss == df.val_loss.min()].val_binary_crossentropy.values[0]\n",
    "    auc = df[df.val_loss == df.val_loss.min()].auc.values[0]\n",
    "    summary_df.loc[neurons,['binary_crossentropy']] = binary_crossentropy\n",
    "    summary_df.loc[neurons,['auc']] = auc\n",
    "\n",
    "\n",
    "# Plot the result\n",
    "fig, ax = plt.subplots(ncols=2,figsize=(10,5))\n",
    "fig.suptitle(\"Shape\")\n",
    "ax[0].set_title('Binary Crossentropy')\n",
    "ax[0].set_xlabel('Shape')\n",
    "ax[0].plot(summary_df.index,summary_df.binary_crossentropy)\n",
    "ax[0].set_xticks(summary_df.index,shape_names)\n",
    "\n",
    "ax[1].set_title('AUC')\n",
    "ax[1].set_xlabel('Shape')\n",
    "ax[1].plot(summary_df.index,summary_df.auc)\n",
    "ax[1].set_xticks(summary_df.index,shape_names)\n",
    "\n",
    "plt.show()"
   ]
  },
  {
   "cell_type": "markdown",
   "metadata": {},
   "source": [
    "### Number of Cross layers"
   ]
  },
  {
   "cell_type": "code",
   "execution_count": null,
   "metadata": {},
   "outputs": [],
   "source": [
    "# Create the model directory if it does not exist\n",
    "if not os.path.exists('models/hyperparameters/cross_layers'):\n",
    "    os.mkdir('models/hyperparameters/cross_layers')"
   ]
  },
  {
   "cell_type": "code",
   "execution_count": null,
   "metadata": {},
   "outputs": [],
   "source": [
    "def neuron_experiment(dnn_hidden_layers,cross_num=2):\n",
    "    precision = tf.keras.metrics.Precision(thresholds=0.5,name='precision')\n",
    "    recall = tf.keras.metrics.Recall(thresholds=0.5,name='recall')\n",
    "    auc = tf.keras.metrics.AUC(name='auc')\n",
    "    \n",
    "    model = DCN(\n",
    "    kdd12_linear_feature_columns, \n",
    "    kdd12_dnn_feature_columns, \n",
    "    task='binary',\n",
    "    dnn_hidden_units=dnn_hidden_layers,\n",
    "    dnn_dropout=0.6,\n",
    "    l2_reg_dnn=0.005,\n",
    "    l2_reg_linear = 0.005,\n",
    "    l2_reg_embedding=0.005,\n",
    "    dnn_use_bn=True,\n",
    "    cross_num=cross_num,\n",
    "    )\n",
    "    model.compile(\"adam\", \"binary_crossentropy\", metrics=['binary_crossentropy','binary_accuracy',precision,recall,auc], )\n",
    "\n",
    "    return model"
   ]
  },
  {
   "cell_type": "code",
   "execution_count": null,
   "metadata": {},
   "outputs": [],
   "source": [
    "for layers in [2,3,4,5,6]:\n",
    "    if not os.path.exists(f'models/hyperparameters/cross_layers/{str(layers)}'):\n",
    "        os.mkdir(f'models/hyperparameters/cross_layers/{str(layers)}')\n",
    "\n",
    "    dnn_layers = 3*[200]\n",
    "    model = neuron_experiment(dnn_layers,cross_num=layers)\n",
    "\n",
    "    csvLogger = CSVLogger(f'logs/cross_layers_{layers}.csv')\n",
    "    modelCheckpoint = ModelCheckpoint(\n",
    "    f'models/hyperparameters/cross_layers/{str(layers)}/cross_layers_{str(layers)}.ckpt',\n",
    "    save_best_only=True,\n",
    "    save_weights_only=True\n",
    "    )\n",
    "\n",
    "    print(f\"{str(layers)} cross layers:\")\n",
    "    model.fit(\n",
    "        kdd12_train_model_input,\n",
    "        validation_data = kdd12_val_model_input,\n",
    "        batch_size=256,\n",
    "        epochs=15,\n",
    "        callbacks=[csvLogger,modelCheckpoint,earlystopping]\n",
    "    )"
   ]
  },
  {
   "cell_type": "code",
   "execution_count": null,
   "metadata": {},
   "outputs": [],
   "source": [
    "# Plot the minimum validation loss\n",
    "summary_df = pd.DataFrame(index=np.arange(2,7),data={\n",
    "    \"binary_crossentropy\":np.zeros(5,dtype=float),\n",
    "    \"auc\":np.zeros(5,dtype=float)\n",
    "})\n",
    "\n",
    "for neurons in [2,3,4,5,6]:\n",
    "    df = pd.read_csv(f'logs/cross_layers_{str(neurons)}.csv')\n",
    "    binary_crossentropy = df[df.val_loss == df.val_loss.min()].val_binary_crossentropy.values[0]\n",
    "    auc = df[df.val_loss == df.val_loss.min()].auc.values[0]\n",
    "    summary_df.loc[neurons,['binary_crossentropy']] = binary_crossentropy\n",
    "    summary_df.loc[neurons,['auc']] = auc\n",
    "\n",
    "\n",
    "# Plot the result\n",
    "fig, ax = plt.subplots(ncols=2,figsize=(10,5))\n",
    "fig.suptitle(\"Layers\")\n",
    "ax[0].set_title('Binary Crossentropy')\n",
    "ax[0].set_xlabel('Number of Cross Layers')\n",
    "ax[0].plot(summary_df.index,summary_df.binary_crossentropy)\n",
    "\n",
    "ax[1].set_title('AUC')\n",
    "ax[1].set_xlabel('Number of Cross Layers')\n",
    "ax[1].plot(summary_df.index,summary_df.auc)\n",
    "\n",
    "plt.show()"
   ]
  }
 ],
 "metadata": {
  "kernelspec": {
   "display_name": "Python (mlds_gpu)",
   "language": "python",
   "name": "mlds_gpu"
  },
  "language_info": {
   "codemirror_mode": {
    "name": "ipython",
    "version": 3
   },
   "file_extension": ".py",
   "mimetype": "text/x-python",
   "name": "python",
   "nbconvert_exporter": "python",
   "pygments_lexer": "ipython3",
   "version": "3.10.14"
  }
 },
 "nbformat": 4,
 "nbformat_minor": 4
}
