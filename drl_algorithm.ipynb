{
 "cells": [
  {
   "cell_type": "markdown",
   "id": "a9a7b750-f92d-4fbd-bd2b-26de63322724",
   "metadata": {},
   "source": [
    "# Preamble"
   ]
  },
  {
   "cell_type": "code",
   "execution_count": 1,
   "id": "156b5355-fa78-41dc-ad54-b3cc11f50caa",
   "metadata": {},
   "outputs": [
    {
     "name": "stderr",
     "output_type": "stream",
     "text": [
      "2024-08-10 17:47:30.197230: I tensorflow/core/util/port.cc:111] oneDNN custom operations are on. You may see slightly different numerical results due to floating-point round-off errors from different computation orders. To turn them off, set the environment variable `TF_ENABLE_ONEDNN_OPTS=0`.\n",
      "2024-08-10 17:47:30.549174: E tensorflow/compiler/xla/stream_executor/cuda/cuda_dnn.cc:9342] Unable to register cuDNN factory: Attempting to register factory for plugin cuDNN when one has already been registered\n",
      "2024-08-10 17:47:30.549218: E tensorflow/compiler/xla/stream_executor/cuda/cuda_fft.cc:609] Unable to register cuFFT factory: Attempting to register factory for plugin cuFFT when one has already been registered\n",
      "2024-08-10 17:47:30.549224: E tensorflow/compiler/xla/stream_executor/cuda/cuda_blas.cc:1518] Unable to register cuBLAS factory: Attempting to register factory for plugin cuBLAS when one has already been registered\n",
      "2024-08-10 17:47:30.705186: I tensorflow/core/platform/cpu_feature_guard.cc:182] This TensorFlow binary is optimized to use available CPU instructions in performance-critical operations.\n",
      "To enable the following instructions: SSE4.1 SSE4.2 AVX AVX2 AVX512F AVX512_VNNI AVX512_BF16 AVX_VNNI AMX_TILE AMX_INT8 AMX_BF16 FMA, in other operations, rebuild TensorFlow with the appropriate compiler flags.\n"
     ]
    }
   ],
   "source": [
    "# Imports\n",
    "## General\n",
    "import numpy as np\n",
    "import os\n",
    "import sys\n",
    "import warnings\n",
    "warnings.filterwarnings('ignore')\n",
    "\n",
    "## In order to run calculations on AWS GPU, need to explicitly specify CUDA lib directory in the environment variables\n",
    "os.environ[\"XLA_FLAGS\"]=\"--xla_gpu_cuda_data_dir=/home/sagemaker-user/.conda/envs/mlds_gpu\"\n",
    "\n",
    "## Data manipulation and preprocessing\n",
    "import pandas as pd\n",
    "import boto3\n",
    "from tensorflow.keras.layers import StringLookup, Normalization\n",
    "\n",
    "## Visualization\n",
    "import matplotlib.pyplot as plt\n",
    "import seaborn as sns\n",
    "from IPython.display import display, Image\n",
    "\n",
    "## Modelling\n",
    "from tensorflow.keras.callbacks import CSVLogger, ModelCheckpoint, EarlyStopping\n",
    "import tensorflow as tf\n",
    "\n",
    "## Import DeepCTR code\n",
    "## This is done by cloning the github repository instead of installing with pip. This is because of an incompatibility issue\n",
    "## with TF 2.14 that I had to manually fix in the DeepCTR code\n",
    "deepctr_path = '/home/sagemaker-user/drl-ad-personalization/DeepCTR'\n",
    "if deepctr_path not in sys.path:\n",
    "    sys.path.append(deepctr_path)\n",
    "\n",
    "from deepctr.feature_column import SparseFeat, DenseFeat, get_feature_names\n",
    "from deepctr.models.deepfm import DeepFM\n",
    "\n",
    "## We want to be able to query the list of available adverts from athena, so we need a PyAthena connection\n",
    "from pyathena import connect\n",
    "conn = connect(s3_staging_dir='s3://mlds-final-project-bucket/athena_output/',\n",
    "               region_name='eu-west-2')"
   ]
  },
  {
   "cell_type": "markdown",
   "id": "da5a4dc1-c6dd-4daa-bdc4-0f7ad1b60b23",
   "metadata": {},
   "source": [
    "# Preprocessing"
   ]
  },
  {
   "cell_type": "code",
   "execution_count": 2,
   "id": "b4331cf3-c32b-4fe3-96e7-a390f55d84f8",
   "metadata": {},
   "outputs": [],
   "source": [
    "# Create lists of categorical colums for each dataset\n",
    "categorical_columns = [\n",
    "    'DisplayURL',\n",
    "    'AdID',\n",
    "    'AdvertiserID',\n",
    "    'QueryID',\n",
    "    'KeywordID',\n",
    "    'TitleID',\n",
    "    'DescriptionID',\n",
    "    'UserID'\n",
    "]\n",
    "\n",
    "# Import categorical feature mappings and define stringloohup objects for each dataset\n",
    "stringlookups = {}\n",
    "vocab_lengths = {}\n",
    "for field in categorical_columns:\n",
    "    df = pd.read_csv(f'./data/kdd12/categorical_value_counts/{field}.csv')\n",
    "    vocab = [elem.encode() for elem in df['field'].astype(str).to_list()]\n",
    "    lookup = StringLookup(vocabulary=vocab, mask_token=None)\n",
    "    stringlookups.update({field:lookup})\n",
    "    vocab_lengths.update({field:len(vocab)+1})\n",
    "\n",
    "# Define numerical feature columns\n",
    "numerical_columns = [\n",
    "    'Depth',\n",
    "    'Position'\n",
    "]\n",
    "# Extract scaler dicts for all datasets\n",
    "dist_stats = pd.read_csv('./data/kdd12/means_variances.csv')\n",
    "scalers = {}\n",
    "for i in range(len(dist_stats)):\n",
    "    field = dist_stats['field'][i]\n",
    "    mean = dist_stats['mean'][i]\n",
    "    variance = dist_stats['variance'][i]\n",
    "    scaler = Normalization(mean=mean, variance=variance)\n",
    "    scaler.build((1,))\n",
    "    scalers.update({field:scaler})"
   ]
  },
  {
   "cell_type": "code",
   "execution_count": 3,
   "id": "f7b97f76-bcaf-41f6-b9e3-474ead6e4f6e",
   "metadata": {},
   "outputs": [],
   "source": [
    "## Define feature mappings\n",
    "kdd12_fixlen_feature_columns = [SparseFeat(feat.lower(), vocabulary_size=vocab_lengths[feat], embedding_dim=4) for feat in categorical_columns]\\\n",
    "+ [DenseFeat(feat.lower(),1) for feat in numerical_columns]\n",
    "\n",
    "## Generate the dnn and linear feature columns\n",
    "kdd12_dnn_feature_columns = kdd12_fixlen_feature_columns\n",
    "kdd12_linear_feature_columns = kdd12_fixlen_feature_columns"
   ]
  },
  {
   "cell_type": "markdown",
   "id": "4f193b18-57cf-42af-ac03-28dada1a4f50",
   "metadata": {},
   "source": [
    "# Load Model"
   ]
  },
  {
   "cell_type": "code",
   "execution_count": 4,
   "id": "6c726443-dc54-4fc4-91be-3eedf3c1d0a2",
   "metadata": {},
   "outputs": [],
   "source": [
    "# Define the early stopping callback\n",
    "earlystopping = EarlyStopping(\n",
    "    monitor='val_loss',\n",
    "    patience=5,\n",
    "    restore_best_weights=True,\n",
    "    start_from_epoch=5\n",
    ")\n",
    "# Define the precision, recall and auc metrics\n",
    "precision = tf.keras.metrics.Precision(thresholds=0.5,name='precision')\n",
    "recall = tf.keras.metrics.Recall(thresholds=0.5,name='recall')\n",
    "auc = tf.keras.metrics.AUC(name='auc')"
   ]
  },
  {
   "cell_type": "code",
   "execution_count": 5,
   "id": "c4309484-3e8f-4dfb-b904-62c79823f5e0",
   "metadata": {},
   "outputs": [],
   "source": [
    "# Define function that returns compiled model\n",
    "def get_model(\n",
    "    dnn_hidden_units=[400,300,200],\n",
    "    dnn_dropout=0.6,\n",
    "    l2_reg_dnn=0.005,\n",
    "    l2_reg_linear = 0.005,\n",
    "    l2_reg_embedding=0.005,\n",
    "    dnn_use_bn=True\n",
    "):\n",
    "    model = DeepFM(\n",
    "        kdd12_linear_feature_columns,\n",
    "        kdd12_dnn_feature_columns,\n",
    "        dnn_hidden_units=dnn_hidden_units,\n",
    "        dnn_dropout=dnn_dropout,\n",
    "        l2_reg_dnn=l2_reg_dnn,\n",
    "        l2_reg_linear=l2_reg_linear,\n",
    "        l2_reg_embedding=l2_reg_embedding,\n",
    "        dnn_use_bn=dnn_use_bn\n",
    "    )\n",
    "    \n",
    "    # Compile the model\n",
    "    model.compile(\n",
    "        \"adam\", \n",
    "        \"binary_crossentropy\", \n",
    "        metrics=[\n",
    "            'binary_crossentropy',\n",
    "            'binary_accuracy',\n",
    "            precision,\n",
    "            recall,\n",
    "            auc\n",
    "        ],\n",
    "    )\n",
    "\n",
    "    return model"
   ]
  },
  {
   "cell_type": "code",
   "execution_count": 58,
   "id": "60484444-4373-4df6-ac33-635327681f84",
   "metadata": {},
   "outputs": [],
   "source": [
    "# Get the model\n",
    "model = get_model()"
   ]
  },
  {
   "cell_type": "code",
   "execution_count": 59,
   "id": "751d18d7-50bc-4aed-ae59-b8209c123424",
   "metadata": {},
   "outputs": [
    {
     "data": {
      "text/plain": [
       "<tensorflow.python.checkpoint.checkpoint.CheckpointLoadStatus at 0x7f05a34e2d40>"
      ]
     },
     "execution_count": 59,
     "metadata": {},
     "output_type": "execute_result"
    }
   ],
   "source": [
    "# Load the weights\n",
    "model.load_weights('models/final_rl_model/rl_model.ckpt')"
   ]
  },
  {
   "cell_type": "code",
   "execution_count": 60,
   "id": "85ec024f-d270-431a-887e-43583bb85611",
   "metadata": {},
   "outputs": [],
   "source": [
    "target_model = get_model()\n",
    "target_model.set_weights(model.get_weights())"
   ]
  },
  {
   "cell_type": "markdown",
   "id": "0654c92a-d581-47f7-a6e6-d32086e57f5a",
   "metadata": {},
   "source": [
    "# Define Reinfocement Learning environment"
   ]
  },
  {
   "cell_type": "code",
   "execution_count": 9,
   "id": "02db99e4-e6a9-48fc-9572-740e7ea2353a",
   "metadata": {},
   "outputs": [],
   "source": [
    "# Define RL env object that simpulates the Ad search platform\n",
    "class RLenv:\n",
    "    \"\"\"\n",
    "    Base class for Reinforcement Learning environment that simulates the search session\n",
    "    \"\"\"\n",
    "\n",
    "    def __init__(self,):\n",
    "        self.session_no = -1\n",
    "        self.userid = \"\"\n",
    "        self.queryid = \"\"\n",
    "        self.adlist = pd.DataFrame()\n",
    "        self.max_clicks = 0\n",
    "\n",
    "    def newSession(self,):\n",
    "        self.session_no += 1\n",
    "        query_input = pd.read_sql(f\"select userid, queryid from kdd12.offline_rl_queries where rn={str(self.session_no +1)}\",conn)\n",
    "        self.userid = query_input[\"userid\"].values[0]\n",
    "        self.queryid = query_input[\"queryid\"].values[0]\n",
    "        ad_list_df = pd.read_sql(f\"select * from kdd12.offline_rl_testing where userid='{self.userid}' and queryid='{self.queryid}'\",conn)\n",
    "        ad_list_df['clicks'] = ad_list_df.clicks/ad_list_df.impression\n",
    "        self.max_clicks = np.where(ad_list_df.clicks>=0.5,1.0,0.0).sum()\n",
    "        self.adlist = ad_list_df.drop(columns=['impression']).sort_values(by=['clicks'],ascending=[False]).reset_index(drop=True)\n",
    "        return self.adlist.copy().drop(columns=['clicks']), self.max_clicks\n",
    "\n",
    "    def showAd(self, ad_index):\n",
    "        ctr = self.adlist.loc[ad_index].clicks\n",
    "        if ctr>=0.5:\n",
    "            ctr_reward = 1.\n",
    "        else:\n",
    "            ctr_reward = 0.\n",
    "\n",
    "        # return the CTR\n",
    "        return ctr_reward"
   ]
  },
  {
   "cell_type": "markdown",
   "id": "57d28eb9-042b-41a4-8266-97397a32b133",
   "metadata": {},
   "source": [
    "# Define preprocessing function"
   ]
  },
  {
   "cell_type": "code",
   "execution_count": 40,
   "id": "61605b09-33a3-4640-9793-1611bc8ec599",
   "metadata": {},
   "outputs": [],
   "source": [
    "# Encode and Scale the datasets\n",
    "def encode_scale(element):\n",
    "    out = element.copy()\n",
    "    for field in categorical_columns:\n",
    "        out[field.lower()] = stringlookups[field](element[field.lower()])\n",
    "    for field in numerical_columns:\n",
    "        out[field.lower()] = tf.squeeze(scalers[field](element[field.lower()]),axis=-1)\n",
    "    return out"
   ]
  },
  {
   "cell_type": "code",
   "execution_count": 42,
   "id": "0d87af05-4094-4295-b972-d6c27b41bffa",
   "metadata": {},
   "outputs": [],
   "source": [
    "# Define function for preprocessing the ad list\n",
    "def preprocess(ad_list,batch_size=1):\n",
    "    out_df = ad_list.copy()\n",
    "    # Convert position and depth to floats\n",
    "    out_df['position'] = out_df.position.astype('float32')\n",
    "    out_df['depth'] = out_df.depth.astype('float32')\n",
    "    # Convert to tf dataset\n",
    "    tf_dataset = tf.data.Dataset.from_tensor_slices(dict(out_df))\n",
    "    # Apply categorical encoding and numerical scaling\n",
    "    tf_dataset = tf_dataset.map(encode_scale)\n",
    "    # Add batch dim\n",
    "    tf_dataset = tf_dataset.batch(batch_size)\n",
    "    # Clean up\n",
    "    del out_df\n",
    "    return tf_dataset"
   ]
  },
  {
   "cell_type": "code",
   "execution_count": 43,
   "id": "10a3e120-ca7c-4935-933a-7e4c72ff6dfa",
   "metadata": {},
   "outputs": [],
   "source": [
    "# Encode and Scale the datasets\n",
    "def encode_scale_2(element,labels):\n",
    "    out = element.copy()\n",
    "    for field in categorical_columns:\n",
    "        out[field.lower()] = stringlookups[field](element[field.lower()])\n",
    "    for field in numerical_columns:\n",
    "        out[field.lower()] = tf.squeeze(scalers[field](element[field.lower()]),axis=-1)\n",
    "    return out, labels"
   ]
  },
  {
   "cell_type": "code",
   "execution_count": 44,
   "id": "bfe419cd-0719-4639-8094-8ea927073aea",
   "metadata": {},
   "outputs": [],
   "source": [
    "# Define function for preprocessing the ad list\n",
    "def preprocess_2(ad_list,labels,batch_size=1):\n",
    "    out_df = ad_list.copy()\n",
    "    # Convert position and depth to floats\n",
    "    out_df['position'] = out_df.position.astype('float32')\n",
    "    out_df['depth'] = out_df.depth.astype('float32')\n",
    "    # Convert to tf dataset\n",
    "    tf_dataset = tf.data.Dataset.from_tensor_slices((dict(out_df),labels))\n",
    "    # Apply categorical encoding and numerical scaling\n",
    "    tf_dataset = tf_dataset.map(encode_scale_2)\n",
    "    # Add batch dim\n",
    "    tf_dataset = tf_dataset.batch(batch_size)\n",
    "    # Clean up\n",
    "    del out_df\n",
    "    return tf_dataset"
   ]
  },
  {
   "cell_type": "markdown",
   "id": "6c9b9b21-d779-4386-a552-af4a8c8c696c",
   "metadata": {},
   "source": [
    "# Minor Update Algorithm"
   ]
  },
  {
   "cell_type": "code",
   "execution_count": 19,
   "id": "e5d0ce5f-8a02-4698-a912-5027dedbb92a",
   "metadata": {},
   "outputs": [],
   "source": [
    "# Set hyperparameters\n",
    "H = 1200 # Episode Time horizon\n",
    "alpha = 1.0 # Explore network noise variable\n",
    "gamma = 0.1 # Future value discount\n",
    "L = 6 # List Length\n",
    "current_episode = 0\n",
    "N = 1000 # Max dataset length\n",
    "memory = pd.DataFrame()\n",
    "C = 12 # Target model update\n",
    "current_session = 0\n",
    "\n",
    "# Initialize the RL env\n",
    "rl_env = RLenv()"
   ]
  },
  {
   "cell_type": "code",
   "execution_count": 20,
   "id": "80ebff9e-dfd9-4460-a330-73e1045fc274",
   "metadata": {},
   "outputs": [],
   "source": [
    "if H%L>0:\n",
    "    total_sessions = H//L +1\n",
    "else:\n",
    "    total_sessions = H//L"
   ]
  },
  {
   "cell_type": "code",
   "execution_count": 22,
   "id": "95144838-0f61-4fa6-a291-2581857933da",
   "metadata": {},
   "outputs": [
    {
     "name": "stdout",
     "output_type": "stream",
     "text": [
      "Session 1 of 200\n",
      "Current list length:  6\n",
      "Session 2 of 200\n",
      "Current list length:  6\n",
      "Session 3 of 200\n",
      "Current list length:  6\n",
      "Session 4 of 200\n",
      "Current list length:  6\n",
      "Session 5 of 200\n",
      "Current list length:  6\n",
      "Session 6 of 200\n",
      "Current list length:  6\n",
      "Session 7 of 200\n",
      "Current list length:  6\n",
      "Session 8 of 200\n",
      "Current list length:  6\n",
      "Session 9 of 200\n",
      "Current list length:  6\n",
      "Session 10 of 200\n",
      "Current list length:  6\n",
      "Session 11 of 200\n",
      "Current list length:  6\n",
      "Session 12 of 200\n",
      "Current list length:  6\n",
      "Session 13 of 200\n",
      "Current list length:  6\n",
      "Session 14 of 200\n",
      "Current list length:  6\n",
      "Session 15 of 200\n",
      "Current list length:  6\n",
      "Session 16 of 200\n",
      "Current list length:  6\n",
      "Session 17 of 200\n",
      "Current list length:  6\n",
      "Session 18 of 200\n",
      "Current list length:  6\n",
      "Session 19 of 200\n",
      "Current list length:  6\n",
      "Session 20 of 200\n",
      "Current list length:  6\n",
      "Session 21 of 200\n",
      "Current list length:  6\n",
      "Session 22 of 200\n",
      "Current list length:  6\n",
      "Session 23 of 200\n",
      "Current list length:  6\n",
      "Session 24 of 200\n",
      "Current list length:  6\n",
      "Session 25 of 200\n",
      "Current list length:  6\n",
      "Session 26 of 200\n",
      "Current list length:  6\n",
      "Session 27 of 200\n",
      "Current list length:  6\n",
      "Session 28 of 200\n",
      "Current list length:  6\n",
      "Session 29 of 200\n",
      "Current list length:  6\n",
      "Session 30 of 200\n",
      "Current list length:  6\n",
      "Session 31 of 200\n",
      "Current list length:  6\n",
      "Session 32 of 200\n",
      "Current list length:  6\n"
     ]
    },
    {
     "ename": "KeyboardInterrupt",
     "evalue": "",
     "output_type": "error",
     "traceback": [
      "\u001b[0;31m---------------------------------------------------------------------------\u001b[0m",
      "\u001b[0;31mKeyboardInterrupt\u001b[0m                         Traceback (most recent call last)",
      "Cell \u001b[0;32mIn[22], line 17\u001b[0m\n\u001b[1;32m     15\u001b[0m explore_model\u001b[38;5;241m.\u001b[39mset_weights(model\u001b[38;5;241m.\u001b[39mget_weights())\n\u001b[1;32m     16\u001b[0m \u001b[38;5;28;01mfor\u001b[39;00m layer \u001b[38;5;129;01min\u001b[39;00m explore_model\u001b[38;5;241m.\u001b[39mtrainable_weights:\n\u001b[0;32m---> 17\u001b[0m     noise \u001b[38;5;241m=\u001b[39m tf\u001b[38;5;241m.\u001b[39mmultiply(tf\u001b[38;5;241m.\u001b[39mmultiply(alpha,\u001b[43mtf\u001b[49m\u001b[38;5;241;43m.\u001b[39;49m\u001b[43mrandom\u001b[49m\u001b[38;5;241;43m.\u001b[39;49m\u001b[43muniform\u001b[49m\u001b[43m(\u001b[49m\u001b[43mshape\u001b[49m\u001b[38;5;241;43m=\u001b[39;49m\u001b[43mlayer\u001b[49m\u001b[38;5;241;43m.\u001b[39;49m\u001b[43mshape\u001b[49m\u001b[43m,\u001b[49m\u001b[43mminval\u001b[49m\u001b[38;5;241;43m=\u001b[39;49m\u001b[38;5;241;43m-\u001b[39;49m\u001b[38;5;241;43m1.\u001b[39;49m\u001b[43m,\u001b[49m\u001b[43m \u001b[49m\u001b[43mmaxval\u001b[49m\u001b[38;5;241;43m=\u001b[39;49m\u001b[38;5;241;43m1.\u001b[39;49m\u001b[43m)\u001b[49m),layer)\n\u001b[1;32m     18\u001b[0m     layer\u001b[38;5;241m.\u001b[39massign_add(noise)\n\u001b[1;32m     20\u001b[0m \u001b[38;5;66;03m# Add base, target and explore model scoring to the session ad list\u001b[39;00m\n",
      "File \u001b[0;32m~/.conda/envs/mlds_gpu/lib/python3.10/site-packages/tensorflow/python/util/traceback_utils.py:150\u001b[0m, in \u001b[0;36mfilter_traceback.<locals>.error_handler\u001b[0;34m(*args, **kwargs)\u001b[0m\n\u001b[1;32m    148\u001b[0m filtered_tb \u001b[38;5;241m=\u001b[39m \u001b[38;5;28;01mNone\u001b[39;00m\n\u001b[1;32m    149\u001b[0m \u001b[38;5;28;01mtry\u001b[39;00m:\n\u001b[0;32m--> 150\u001b[0m   \u001b[38;5;28;01mreturn\u001b[39;00m \u001b[43mfn\u001b[49m\u001b[43m(\u001b[49m\u001b[38;5;241;43m*\u001b[39;49m\u001b[43margs\u001b[49m\u001b[43m,\u001b[49m\u001b[43m \u001b[49m\u001b[38;5;241;43m*\u001b[39;49m\u001b[38;5;241;43m*\u001b[39;49m\u001b[43mkwargs\u001b[49m\u001b[43m)\u001b[49m\n\u001b[1;32m    151\u001b[0m \u001b[38;5;28;01mexcept\u001b[39;00m \u001b[38;5;167;01mException\u001b[39;00m \u001b[38;5;28;01mas\u001b[39;00m e:\n\u001b[1;32m    152\u001b[0m   filtered_tb \u001b[38;5;241m=\u001b[39m _process_traceback_frames(e\u001b[38;5;241m.\u001b[39m__traceback__)\n",
      "File \u001b[0;32m~/.conda/envs/mlds_gpu/lib/python3.10/site-packages/tensorflow/python/util/dispatch.py:1260\u001b[0m, in \u001b[0;36madd_dispatch_support.<locals>.decorator.<locals>.op_dispatch_handler\u001b[0;34m(*args, **kwargs)\u001b[0m\n\u001b[1;32m   1258\u001b[0m \u001b[38;5;66;03m# Fallback dispatch system (dispatch v1):\u001b[39;00m\n\u001b[1;32m   1259\u001b[0m \u001b[38;5;28;01mtry\u001b[39;00m:\n\u001b[0;32m-> 1260\u001b[0m   \u001b[38;5;28;01mreturn\u001b[39;00m \u001b[43mdispatch_target\u001b[49m\u001b[43m(\u001b[49m\u001b[38;5;241;43m*\u001b[39;49m\u001b[43margs\u001b[49m\u001b[43m,\u001b[49m\u001b[43m \u001b[49m\u001b[38;5;241;43m*\u001b[39;49m\u001b[38;5;241;43m*\u001b[39;49m\u001b[43mkwargs\u001b[49m\u001b[43m)\u001b[49m\n\u001b[1;32m   1261\u001b[0m \u001b[38;5;28;01mexcept\u001b[39;00m (\u001b[38;5;167;01mTypeError\u001b[39;00m, \u001b[38;5;167;01mValueError\u001b[39;00m):\n\u001b[1;32m   1262\u001b[0m   \u001b[38;5;66;03m# Note: convert_to_eager_tensor currently raises a ValueError, not a\u001b[39;00m\n\u001b[1;32m   1263\u001b[0m   \u001b[38;5;66;03m# TypeError, when given unexpected types.  So we need to catch both.\u001b[39;00m\n\u001b[1;32m   1264\u001b[0m   result \u001b[38;5;241m=\u001b[39m dispatch(op_dispatch_handler, args, kwargs)\n",
      "File \u001b[0;32m~/.conda/envs/mlds_gpu/lib/python3.10/site-packages/tensorflow/python/ops/random_ops.py:308\u001b[0m, in \u001b[0;36mrandom_uniform\u001b[0;34m(shape, minval, maxval, dtype, seed, name)\u001b[0m\n\u001b[1;32m    305\u001b[0m   result \u001b[38;5;241m=\u001b[39m gen_random_ops\u001b[38;5;241m.\u001b[39mrandom_uniform_int(\n\u001b[1;32m    306\u001b[0m       shape, minval, maxval, seed\u001b[38;5;241m=\u001b[39mseed1, seed2\u001b[38;5;241m=\u001b[39mseed2, name\u001b[38;5;241m=\u001b[39mname)\n\u001b[1;32m    307\u001b[0m \u001b[38;5;28;01melse\u001b[39;00m:\n\u001b[0;32m--> 308\u001b[0m   result \u001b[38;5;241m=\u001b[39m \u001b[43mgen_random_ops\u001b[49m\u001b[38;5;241;43m.\u001b[39;49m\u001b[43mrandom_uniform\u001b[49m\u001b[43m(\u001b[49m\n\u001b[1;32m    309\u001b[0m \u001b[43m      \u001b[49m\u001b[43mshape\u001b[49m\u001b[43m,\u001b[49m\u001b[43m \u001b[49m\u001b[43mdtype\u001b[49m\u001b[43m,\u001b[49m\u001b[43m \u001b[49m\u001b[43mseed\u001b[49m\u001b[38;5;241;43m=\u001b[39;49m\u001b[43mseed1\u001b[49m\u001b[43m,\u001b[49m\u001b[43m \u001b[49m\u001b[43mseed2\u001b[49m\u001b[38;5;241;43m=\u001b[39;49m\u001b[43mseed2\u001b[49m\u001b[43m)\u001b[49m\n\u001b[1;32m    310\u001b[0m   \u001b[38;5;28;01mif\u001b[39;00m minval_is_zero:\n\u001b[1;32m    311\u001b[0m     \u001b[38;5;28;01mif\u001b[39;00m \u001b[38;5;129;01mnot\u001b[39;00m maxval_is_one:\n",
      "File \u001b[0;32m~/.conda/envs/mlds_gpu/lib/python3.10/site-packages/tensorflow/python/ops/gen_random_ops.py:742\u001b[0m, in \u001b[0;36mrandom_uniform\u001b[0;34m(shape, dtype, seed, seed2, name)\u001b[0m\n\u001b[1;32m    740\u001b[0m \u001b[38;5;28;01mif\u001b[39;00m tld\u001b[38;5;241m.\u001b[39mis_eager:\n\u001b[1;32m    741\u001b[0m   \u001b[38;5;28;01mtry\u001b[39;00m:\n\u001b[0;32m--> 742\u001b[0m     _result \u001b[38;5;241m=\u001b[39m \u001b[43mpywrap_tfe\u001b[49m\u001b[38;5;241;43m.\u001b[39;49m\u001b[43mTFE_Py_FastPathExecute\u001b[49m\u001b[43m(\u001b[49m\n\u001b[1;32m    743\u001b[0m \u001b[43m      \u001b[49m\u001b[43m_ctx\u001b[49m\u001b[43m,\u001b[49m\u001b[43m \u001b[49m\u001b[38;5;124;43m\"\u001b[39;49m\u001b[38;5;124;43mRandomUniform\u001b[39;49m\u001b[38;5;124;43m\"\u001b[39;49m\u001b[43m,\u001b[49m\u001b[43m \u001b[49m\u001b[43mname\u001b[49m\u001b[43m,\u001b[49m\u001b[43m \u001b[49m\u001b[43mshape\u001b[49m\u001b[43m,\u001b[49m\u001b[43m \u001b[49m\u001b[38;5;124;43m\"\u001b[39;49m\u001b[38;5;124;43mseed\u001b[39;49m\u001b[38;5;124;43m\"\u001b[39;49m\u001b[43m,\u001b[49m\u001b[43m \u001b[49m\u001b[43mseed\u001b[49m\u001b[43m,\u001b[49m\u001b[43m \u001b[49m\u001b[38;5;124;43m\"\u001b[39;49m\u001b[38;5;124;43mseed2\u001b[39;49m\u001b[38;5;124;43m\"\u001b[39;49m\u001b[43m,\u001b[49m\u001b[43m \u001b[49m\u001b[43mseed2\u001b[49m\u001b[43m,\u001b[49m\n\u001b[1;32m    744\u001b[0m \u001b[43m      \u001b[49m\u001b[38;5;124;43m\"\u001b[39;49m\u001b[38;5;124;43mdtype\u001b[39;49m\u001b[38;5;124;43m\"\u001b[39;49m\u001b[43m,\u001b[49m\u001b[43m \u001b[49m\u001b[43mdtype\u001b[49m\u001b[43m)\u001b[49m\n\u001b[1;32m    745\u001b[0m     \u001b[38;5;28;01mreturn\u001b[39;00m _result\n\u001b[1;32m    746\u001b[0m   \u001b[38;5;28;01mexcept\u001b[39;00m _core\u001b[38;5;241m.\u001b[39m_NotOkStatusException \u001b[38;5;28;01mas\u001b[39;00m e:\n",
      "\u001b[0;31mKeyboardInterrupt\u001b[0m: "
     ]
    }
   ],
   "source": [
    "while current_episode<H:\n",
    "    current_session += 1\n",
    "    if current_episode > (H - L - 1):\n",
    "        current_list = H%current_episode\n",
    "    else:\n",
    "        current_list = L\n",
    "    print(f\"Session {current_session} of {total_sessions}\")    \n",
    "    print(\"Current list length: \",current_list)\n",
    "    \n",
    "    # Initialize new session\n",
    "    session_ad_list, session_max_clicks = rl_env.newSession()\n",
    "    \n",
    "    # Create the explore model\n",
    "    explore_model = get_model()\n",
    "    explore_model.set_weights(model.get_weights())\n",
    "    for layer in explore_model.trainable_weights:\n",
    "        noise = tf.multiply(tf.multiply(alpha,tf.random.uniform(shape=layer.shape,minval=-1., maxval=1.)),layer)\n",
    "        layer.assign_add(noise)\n",
    "    \n",
    "    # Add base, target and explore model scoring to the session ad list\n",
    "    features = [\n",
    "        'displayurl',\n",
    "        'adid',\n",
    "        'advertiserid',\n",
    "        'position',\n",
    "        'depth',\n",
    "        'keywordid',\n",
    "        'titleid',\n",
    "        'descriptionid',\n",
    "        'queryid',\n",
    "        'userid'\n",
    "    ]\n",
    "    session_ad_ds = preprocess(session_ad_list)\n",
    "    session_ad_list['base_score'] = model.predict(session_ad_ds, verbose=False)\n",
    "    session_ad_list['explore_score'] = explore_model.predict(session_ad_ds, verbose=False)\n",
    "    session_ad_list['target_score'] = target_model.predict(session_ad_ds, verbose=False)\n",
    "    \n",
    "    actions = []\n",
    "    clicks = []\n",
    "    Q_futures = []\n",
    "    selection_models = []\n",
    "    list_data = pd.DataFrame(columns=features)\n",
    "    for pos in range(current_list):\n",
    "        Q_future = session_ad_list[session_ad_list.base_score == session_ad_list.base_score.max()].head(1).target_score.values[0]\n",
    "        Q_futures.append(Q_future)\n",
    "        selection_model = np.random.choice(['base','explore'],size=1)[0]\n",
    "        selection_models.append(selection_model)\n",
    "        if selection_model == 'base':\n",
    "            next_action = session_ad_list[session_ad_list.base_score == session_ad_list.base_score.max()].head(1).index.values[0]\n",
    "        else:\n",
    "            next_action = session_ad_list[session_ad_list.explore_score == session_ad_list.explore_score.max()].head(1).index.values[0]\n",
    "        actions.append(next_action)\n",
    "        list_data.loc[pos] = session_ad_list.loc[next_action]\n",
    "        click = rl_env.showAd(next_action)\n",
    "        clicks.append(click)\n",
    "        session_ad_list = session_ad_list.loc[session_ad_list.index != next_action]\n",
    "        current_episode += 1\n",
    "    \n",
    "    list_data['action']=actions\n",
    "    list_data['click']=clicks\n",
    "    list_data['Q_future']=Q_futures\n",
    "    list_data['selection_model']=selection_models\n",
    "    list_data = list_data.reset_index(names='list_pos')\n",
    "    if list_data[list_data.selection_model == \"explore\"].click.mean() > list_data[list_data.selection_model == \"base\"].click.mean():\n",
    "        model.set_weights(explore_model.get_weights())\n",
    "    \n",
    "    memory = pd.concat([memory,list_data],ignore_index=True)"
   ]
  },
  {
   "cell_type": "code",
   "execution_count": 27,
   "id": "37b3ffc6-fdcc-4318-befc-73d07a9e4659",
   "metadata": {},
   "outputs": [],
   "source": [
    "memory['reward'] = (1. - gamma)*memory.click + gamma*memory.click.shift(-1).fillna(0.0)"
   ]
  },
  {
   "cell_type": "code",
   "execution_count": 45,
   "id": "fda20115-951d-4fde-be0b-b07fc9e99a62",
   "metadata": {},
   "outputs": [],
   "source": [
    "memory_sample = memory.sample(100)"
   ]
  },
  {
   "cell_type": "code",
   "execution_count": 56,
   "id": "8087b8c1-8ccd-4ea6-b9a1-3724dc5c70b4",
   "metadata": {},
   "outputs": [],
   "source": [
    "pred_features = [\n",
    "    'displayurl',\n",
    "    'adid',\n",
    "    'advertiserid',\n",
    "    'position',\n",
    "    'depth',\n",
    "    'keywordid',\n",
    "    'titleid',\n",
    "    'descriptionid',\n",
    "    'queryid',\n",
    "    'userid'\n",
    "]"
   ]
  },
  {
   "cell_type": "code",
   "execution_count": 57,
   "id": "79494076-6af3-410d-9314-1edbc3e33974",
   "metadata": {},
   "outputs": [],
   "source": [
    "model_input_ds = preprocess_2(memory_sample[pred_features],memory_sample.reward.to_numpy(),batch_size=100)"
   ]
  },
  {
   "cell_type": "code",
   "execution_count": 51,
   "id": "cf28cf46-c49f-4669-b0d0-eaa29a8b2e0d",
   "metadata": {},
   "outputs": [
    {
     "data": {
      "text/plain": [
       "<tf.Variable 'sparse_emb_displayurl/embeddings:0' shape=(23640, 4) dtype=float32, numpy=\n",
       "array([[-1.85666238e-07, -6.72157885e-11,  8.21891888e-10,\n",
       "         3.20157767e-09],\n",
       "       [ 2.88693584e-04, -2.97798283e-06,  1.69755745e-04,\n",
       "        -1.32294135e-05],\n",
       "       [ 5.84430836e-06, -6.29715942e-07, -2.14173415e-05,\n",
       "         1.04697774e-05],\n",
       "       ...,\n",
       "       [-1.28967672e-08,  7.12399367e-12, -7.74402487e-11,\n",
       "         1.45269094e-15],\n",
       "       [ 1.64311124e-13,  3.25400644e-11,  1.47464560e-12,\n",
       "        -1.60811035e-13],\n",
       "       [ 8.82552191e-12, -2.92302424e-13,  3.29343266e-06,\n",
       "        -2.44636159e-15]], dtype=float32)>"
      ]
     },
     "execution_count": 51,
     "metadata": {},
     "output_type": "execute_result"
    }
   ],
   "source": [
    "model.trainable_weights[0]"
   ]
  },
  {
   "cell_type": "code",
   "execution_count": 61,
   "id": "3b37aee5-1d85-48b2-9d7a-52bd9b4c73b1",
   "metadata": {},
   "outputs": [
    {
     "name": "stdout",
     "output_type": "stream",
     "text": [
      "1/1 [==============================] - 3s 3s/step - loss: 0.2372 - binary_crossentropy: 0.2207 - binary_accuracy: 0.9100 - precision: 0.0000e+00 - recall: 0.0000e+00 - auc: 0.4976\n"
     ]
    },
    {
     "data": {
      "text/plain": [
       "<keras.src.callbacks.History at 0x7f05a34e30a0>"
      ]
     },
     "execution_count": 61,
     "metadata": {},
     "output_type": "execute_result"
    }
   ],
   "source": [
    "model.fit(model_input_ds)"
   ]
  },
  {
   "cell_type": "code",
   "execution_count": 62,
   "id": "947a3722-6b1b-410b-8dda-ff4e7dfd199e",
   "metadata": {},
   "outputs": [
    {
     "data": {
      "text/plain": [
       "<tf.Variable 'sparse_emb_displayurl/embeddings:0' shape=(23640, 4) dtype=float32, numpy=\n",
       "array([[ 3.3015866e-08,  4.8710739e-08,  2.9408472e-08, -7.6759132e-09],\n",
       "       [ 1.3179771e-04, -1.8346390e-04, -4.5647437e-05, -6.3166684e-05],\n",
       "       [ 6.4008855e-05, -1.3873050e-05,  5.0293769e-05,  9.1004491e-05],\n",
       "       ...,\n",
       "       [ 1.3352013e-07, -1.6821988e-11,  3.1733621e-10, -8.5256590e-14],\n",
       "       [-1.4564137e-13, -5.1319088e-12, -1.5141150e-11, -9.5001162e-10],\n",
       "       [ 1.4453264e-10,  9.2324694e-14, -2.5518762e-05,  8.1510948e-13]],\n",
       "      dtype=float32)>"
      ]
     },
     "execution_count": 62,
     "metadata": {},
     "output_type": "execute_result"
    }
   ],
   "source": [
    "model.trainable_weights[0]"
   ]
  },
  {
   "cell_type": "code",
   "execution_count": 173,
   "id": "c8e84a41-a789-40b8-af24-b4a40e901c49",
   "metadata": {},
   "outputs": [
    {
     "data": {
      "text/html": [
       "<div>\n",
       "<style scoped>\n",
       "    .dataframe tbody tr th:only-of-type {\n",
       "        vertical-align: middle;\n",
       "    }\n",
       "\n",
       "    .dataframe tbody tr th {\n",
       "        vertical-align: top;\n",
       "    }\n",
       "\n",
       "    .dataframe thead th {\n",
       "        text-align: right;\n",
       "    }\n",
       "</style>\n",
       "<table border=\"1\" class=\"dataframe\">\n",
       "  <thead>\n",
       "    <tr style=\"text-align: right;\">\n",
       "      <th></th>\n",
       "      <th>displayurl</th>\n",
       "      <th>adid</th>\n",
       "      <th>advertiserid</th>\n",
       "      <th>position</th>\n",
       "      <th>depth</th>\n",
       "      <th>keywordid</th>\n",
       "      <th>titleid</th>\n",
       "      <th>descriptionid</th>\n",
       "      <th>queryid</th>\n",
       "      <th>userid</th>\n",
       "      <th>base_score</th>\n",
       "      <th>explore_score</th>\n",
       "      <th>target_score</th>\n",
       "    </tr>\n",
       "  </thead>\n",
       "  <tbody>\n",
       "    <tr>\n",
       "      <th>4</th>\n",
       "      <td>14340390157469404125</td>\n",
       "      <td>3126839</td>\n",
       "      <td>23777</td>\n",
       "      <td>1</td>\n",
       "      <td>1</td>\n",
       "      <td>19254486</td>\n",
       "      <td>13232</td>\n",
       "      <td>20347</td>\n",
       "      <td>19562</td>\n",
       "      <td>42487</td>\n",
       "      <td>0.048997</td>\n",
       "      <td>0.011077</td>\n",
       "      <td>0.048997</td>\n",
       "    </tr>\n",
       "    <tr>\n",
       "      <th>6</th>\n",
       "      <td>14340390157469404125</td>\n",
       "      <td>3126839</td>\n",
       "      <td>23777</td>\n",
       "      <td>1</td>\n",
       "      <td>1</td>\n",
       "      <td>11140198</td>\n",
       "      <td>13232</td>\n",
       "      <td>20347</td>\n",
       "      <td>19562</td>\n",
       "      <td>42487</td>\n",
       "      <td>0.048997</td>\n",
       "      <td>0.011077</td>\n",
       "      <td>0.048997</td>\n",
       "    </tr>\n",
       "    <tr>\n",
       "      <th>8</th>\n",
       "      <td>14340390157469404125</td>\n",
       "      <td>3126839</td>\n",
       "      <td>23777</td>\n",
       "      <td>1</td>\n",
       "      <td>1</td>\n",
       "      <td>19504124</td>\n",
       "      <td>13232</td>\n",
       "      <td>20347</td>\n",
       "      <td>19562</td>\n",
       "      <td>42487</td>\n",
       "      <td>0.048997</td>\n",
       "      <td>0.011077</td>\n",
       "      <td>0.048997</td>\n",
       "    </tr>\n",
       "    <tr>\n",
       "      <th>9</th>\n",
       "      <td>14340390157469404125</td>\n",
       "      <td>3126839</td>\n",
       "      <td>23777</td>\n",
       "      <td>1</td>\n",
       "      <td>1</td>\n",
       "      <td>19504086</td>\n",
       "      <td>13232</td>\n",
       "      <td>20347</td>\n",
       "      <td>19562</td>\n",
       "      <td>42487</td>\n",
       "      <td>0.048997</td>\n",
       "      <td>0.011077</td>\n",
       "      <td>0.048997</td>\n",
       "    </tr>\n",
       "    <tr>\n",
       "      <th>10</th>\n",
       "      <td>14340390157469404125</td>\n",
       "      <td>3126839</td>\n",
       "      <td>23777</td>\n",
       "      <td>1</td>\n",
       "      <td>1</td>\n",
       "      <td>23321680</td>\n",
       "      <td>13232</td>\n",
       "      <td>20347</td>\n",
       "      <td>19562</td>\n",
       "      <td>42487</td>\n",
       "      <td>0.048997</td>\n",
       "      <td>0.011077</td>\n",
       "      <td>0.048997</td>\n",
       "    </tr>\n",
       "  </tbody>\n",
       "</table>\n",
       "</div>"
      ],
      "text/plain": [
       "              displayurl     adid advertiserid  position  depth keywordid  \\\n",
       "4   14340390157469404125  3126839        23777         1      1  19254486   \n",
       "6   14340390157469404125  3126839        23777         1      1  11140198   \n",
       "8   14340390157469404125  3126839        23777         1      1  19504124   \n",
       "9   14340390157469404125  3126839        23777         1      1  19504086   \n",
       "10  14340390157469404125  3126839        23777         1      1  23321680   \n",
       "\n",
       "   titleid descriptionid queryid userid  base_score  explore_score  \\\n",
       "4    13232         20347   19562  42487    0.048997       0.011077   \n",
       "6    13232         20347   19562  42487    0.048997       0.011077   \n",
       "8    13232         20347   19562  42487    0.048997       0.011077   \n",
       "9    13232         20347   19562  42487    0.048997       0.011077   \n",
       "10   13232         20347   19562  42487    0.048997       0.011077   \n",
       "\n",
       "    target_score  \n",
       "4       0.048997  \n",
       "6       0.048997  \n",
       "8       0.048997  \n",
       "9       0.048997  \n",
       "10      0.048997  "
      ]
     },
     "execution_count": 173,
     "metadata": {},
     "output_type": "execute_result"
    }
   ],
   "source": [
    "next_action = session_ad_list[session_ad_list.base_score == session_ad_list.base_score.max()].head(1).index.values[0].head()"
   ]
  },
  {
   "cell_type": "code",
   "execution_count": 184,
   "id": "88f5a685-c610-4a4e-868f-ceb17981d2d8",
   "metadata": {},
   "outputs": [],
   "source": [
    "df = pd.DataFrame(columns=features)"
   ]
  },
  {
   "cell_type": "code",
   "execution_count": 186,
   "id": "350ea5f6-64cf-4450-9bbd-1c065e8883bc",
   "metadata": {},
   "outputs": [
    {
     "data": {
      "text/html": [
       "<div>\n",
       "<style scoped>\n",
       "    .dataframe tbody tr th:only-of-type {\n",
       "        vertical-align: middle;\n",
       "    }\n",
       "\n",
       "    .dataframe tbody tr th {\n",
       "        vertical-align: top;\n",
       "    }\n",
       "\n",
       "    .dataframe thead th {\n",
       "        text-align: right;\n",
       "    }\n",
       "</style>\n",
       "<table border=\"1\" class=\"dataframe\">\n",
       "  <thead>\n",
       "    <tr style=\"text-align: right;\">\n",
       "      <th></th>\n",
       "      <th>displayurl</th>\n",
       "      <th>adid</th>\n",
       "      <th>advertiserid</th>\n",
       "      <th>position</th>\n",
       "      <th>depth</th>\n",
       "      <th>keywordid</th>\n",
       "      <th>titleid</th>\n",
       "      <th>descriptionid</th>\n",
       "      <th>queryid</th>\n",
       "      <th>userid</th>\n",
       "    </tr>\n",
       "  </thead>\n",
       "  <tbody>\n",
       "  </tbody>\n",
       "</table>\n",
       "</div>"
      ],
      "text/plain": [
       "Empty DataFrame\n",
       "Columns: [displayurl, adid, advertiserid, position, depth, keywordid, titleid, descriptionid, queryid, userid]\n",
       "Index: []"
      ]
     },
     "execution_count": 186,
     "metadata": {},
     "output_type": "execute_result"
    }
   ],
   "source": [
    "df.head()"
   ]
  },
  {
   "cell_type": "code",
   "execution_count": 187,
   "id": "65c2b4af-24c0-43ab-a435-ca302b00f2c7",
   "metadata": {},
   "outputs": [
    {
     "data": {
      "text/html": [
       "<div>\n",
       "<style scoped>\n",
       "    .dataframe tbody tr th:only-of-type {\n",
       "        vertical-align: middle;\n",
       "    }\n",
       "\n",
       "    .dataframe tbody tr th {\n",
       "        vertical-align: top;\n",
       "    }\n",
       "\n",
       "    .dataframe thead th {\n",
       "        text-align: right;\n",
       "    }\n",
       "</style>\n",
       "<table border=\"1\" class=\"dataframe\">\n",
       "  <thead>\n",
       "    <tr style=\"text-align: right;\">\n",
       "      <th></th>\n",
       "      <th>displayurl</th>\n",
       "      <th>adid</th>\n",
       "      <th>advertiserid</th>\n",
       "      <th>position</th>\n",
       "      <th>depth</th>\n",
       "      <th>keywordid</th>\n",
       "      <th>titleid</th>\n",
       "      <th>descriptionid</th>\n",
       "      <th>queryid</th>\n",
       "      <th>userid</th>\n",
       "      <th>base_score</th>\n",
       "      <th>explore_score</th>\n",
       "      <th>target_score</th>\n",
       "    </tr>\n",
       "  </thead>\n",
       "  <tbody>\n",
       "    <tr>\n",
       "      <th>4</th>\n",
       "      <td>14340390157469404125</td>\n",
       "      <td>3126839</td>\n",
       "      <td>23777</td>\n",
       "      <td>1</td>\n",
       "      <td>1</td>\n",
       "      <td>19254486</td>\n",
       "      <td>13232</td>\n",
       "      <td>20347</td>\n",
       "      <td>19562</td>\n",
       "      <td>42487</td>\n",
       "      <td>0.048997</td>\n",
       "      <td>0.011077</td>\n",
       "      <td>0.048997</td>\n",
       "    </tr>\n",
       "    <tr>\n",
       "      <th>6</th>\n",
       "      <td>14340390157469404125</td>\n",
       "      <td>3126839</td>\n",
       "      <td>23777</td>\n",
       "      <td>1</td>\n",
       "      <td>1</td>\n",
       "      <td>11140198</td>\n",
       "      <td>13232</td>\n",
       "      <td>20347</td>\n",
       "      <td>19562</td>\n",
       "      <td>42487</td>\n",
       "      <td>0.048997</td>\n",
       "      <td>0.011077</td>\n",
       "      <td>0.048997</td>\n",
       "    </tr>\n",
       "    <tr>\n",
       "      <th>8</th>\n",
       "      <td>14340390157469404125</td>\n",
       "      <td>3126839</td>\n",
       "      <td>23777</td>\n",
       "      <td>1</td>\n",
       "      <td>1</td>\n",
       "      <td>19504124</td>\n",
       "      <td>13232</td>\n",
       "      <td>20347</td>\n",
       "      <td>19562</td>\n",
       "      <td>42487</td>\n",
       "      <td>0.048997</td>\n",
       "      <td>0.011077</td>\n",
       "      <td>0.048997</td>\n",
       "    </tr>\n",
       "    <tr>\n",
       "      <th>9</th>\n",
       "      <td>14340390157469404125</td>\n",
       "      <td>3126839</td>\n",
       "      <td>23777</td>\n",
       "      <td>1</td>\n",
       "      <td>1</td>\n",
       "      <td>19504086</td>\n",
       "      <td>13232</td>\n",
       "      <td>20347</td>\n",
       "      <td>19562</td>\n",
       "      <td>42487</td>\n",
       "      <td>0.048997</td>\n",
       "      <td>0.011077</td>\n",
       "      <td>0.048997</td>\n",
       "    </tr>\n",
       "    <tr>\n",
       "      <th>10</th>\n",
       "      <td>14340390157469404125</td>\n",
       "      <td>3126839</td>\n",
       "      <td>23777</td>\n",
       "      <td>1</td>\n",
       "      <td>1</td>\n",
       "      <td>23321680</td>\n",
       "      <td>13232</td>\n",
       "      <td>20347</td>\n",
       "      <td>19562</td>\n",
       "      <td>42487</td>\n",
       "      <td>0.048997</td>\n",
       "      <td>0.011077</td>\n",
       "      <td>0.048997</td>\n",
       "    </tr>\n",
       "  </tbody>\n",
       "</table>\n",
       "</div>"
      ],
      "text/plain": [
       "              displayurl     adid advertiserid  position  depth keywordid  \\\n",
       "4   14340390157469404125  3126839        23777         1      1  19254486   \n",
       "6   14340390157469404125  3126839        23777         1      1  11140198   \n",
       "8   14340390157469404125  3126839        23777         1      1  19504124   \n",
       "9   14340390157469404125  3126839        23777         1      1  19504086   \n",
       "10  14340390157469404125  3126839        23777         1      1  23321680   \n",
       "\n",
       "   titleid descriptionid queryid userid  base_score  explore_score  \\\n",
       "4    13232         20347   19562  42487    0.048997       0.011077   \n",
       "6    13232         20347   19562  42487    0.048997       0.011077   \n",
       "8    13232         20347   19562  42487    0.048997       0.011077   \n",
       "9    13232         20347   19562  42487    0.048997       0.011077   \n",
       "10   13232         20347   19562  42487    0.048997       0.011077   \n",
       "\n",
       "    target_score  \n",
       "4       0.048997  \n",
       "6       0.048997  \n",
       "8       0.048997  \n",
       "9       0.048997  \n",
       "10      0.048997  "
      ]
     },
     "execution_count": 187,
     "metadata": {},
     "output_type": "execute_result"
    }
   ],
   "source": [
    "session_ad_list"
   ]
  },
  {
   "cell_type": "code",
   "execution_count": 188,
   "id": "1e46caf6-c771-45cd-9256-46fcc4e9c437",
   "metadata": {},
   "outputs": [],
   "source": [
    "new_row =session_ad_list.loc[10]"
   ]
  },
  {
   "cell_type": "code",
   "execution_count": 189,
   "id": "ce31209d-361b-48b2-8485-71a35dbaace4",
   "metadata": {},
   "outputs": [
    {
     "data": {
      "text/plain": [
       "displayurl       14340390157469404125\n",
       "adid                          3126839\n",
       "advertiserid                    23777\n",
       "position                            1\n",
       "depth                               1\n",
       "keywordid                    23321680\n",
       "titleid                         13232\n",
       "descriptionid                   20347\n",
       "queryid                         19562\n",
       "userid                          42487\n",
       "base_score                   0.048997\n",
       "explore_score                0.011077\n",
       "target_score                 0.048997\n",
       "Name: 10, dtype: object"
      ]
     },
     "execution_count": 189,
     "metadata": {},
     "output_type": "execute_result"
    }
   ],
   "source": [
    "new_row"
   ]
  },
  {
   "cell_type": "code",
   "execution_count": 190,
   "id": "94239274-944e-4a6e-9bba-edda36b6c93a",
   "metadata": {},
   "outputs": [],
   "source": [
    "df.loc[0] = new_row"
   ]
  },
  {
   "cell_type": "code",
   "execution_count": 215,
   "id": "0112752f-9ecb-4161-9bf9-03a6299602cc",
   "metadata": {},
   "outputs": [
    {
     "data": {
      "text/plain": [
       "True"
      ]
     },
     "execution_count": 215,
     "metadata": {},
     "output_type": "execute_result"
    }
   ],
   "source": [
    "('userid' == df.columns.to_numpy()).any()"
   ]
  },
  {
   "cell_type": "code",
   "execution_count": null,
   "id": "e00946b9-d2b6-464c-a578-d54f623ad8f4",
   "metadata": {},
   "outputs": [],
   "source": []
  }
 ],
 "metadata": {
  "kernelspec": {
   "display_name": "Python (mlds_gpu)",
   "language": "python",
   "name": "mlds_gpu"
  },
  "language_info": {
   "codemirror_mode": {
    "name": "ipython",
    "version": 3
   },
   "file_extension": ".py",
   "mimetype": "text/x-python",
   "name": "python",
   "nbconvert_exporter": "python",
   "pygments_lexer": "ipython3",
   "version": "3.10.14"
  }
 },
 "nbformat": 4,
 "nbformat_minor": 5
}
