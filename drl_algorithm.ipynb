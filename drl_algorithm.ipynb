{
 "cells": [
  {
   "cell_type": "markdown",
   "id": "a9a7b750-f92d-4fbd-bd2b-26de63322724",
   "metadata": {},
   "source": [
    "# Preamble"
   ]
  },
  {
   "cell_type": "code",
   "execution_count": 1,
   "id": "156b5355-fa78-41dc-ad54-b3cc11f50caa",
   "metadata": {},
   "outputs": [
    {
     "name": "stderr",
     "output_type": "stream",
     "text": [
      "2024-08-10 10:17:15.175110: E tensorflow/compiler/xla/stream_executor/cuda/cuda_dnn.cc:9342] Unable to register cuDNN factory: Attempting to register factory for plugin cuDNN when one has already been registered\n",
      "2024-08-10 10:17:15.175511: E tensorflow/compiler/xla/stream_executor/cuda/cuda_fft.cc:609] Unable to register cuFFT factory: Attempting to register factory for plugin cuFFT when one has already been registered\n",
      "2024-08-10 10:17:15.175528: E tensorflow/compiler/xla/stream_executor/cuda/cuda_blas.cc:1518] Unable to register cuBLAS factory: Attempting to register factory for plugin cuBLAS when one has already been registered\n",
      "2024-08-10 10:17:15.347387: I tensorflow/core/platform/cpu_feature_guard.cc:182] This TensorFlow binary is optimized to use available CPU instructions in performance-critical operations.\n",
      "To enable the following instructions: SSE4.1 SSE4.2 AVX AVX2 AVX512F FMA, in other operations, rebuild TensorFlow with the appropriate compiler flags.\n"
     ]
    }
   ],
   "source": [
    "# Imports\n",
    "## General\n",
    "import numpy as np\n",
    "import os\n",
    "import sys\n",
    "import warnings\n",
    "warnings.filterwarnings('ignore')\n",
    "\n",
    "## In order to run calculations on AWS GPU, need to explicitly specify CUDA lib directory in the environment variables\n",
    "os.environ[\"XLA_FLAGS\"]=\"--xla_gpu_cuda_data_dir=/home/sagemaker-user/.conda/envs/mlds_gpu\"\n",
    "\n",
    "## Data manipulation and preprocessing\n",
    "import pandas as pd\n",
    "import boto3\n",
    "from tensorflow.keras.layers import StringLookup, Normalization\n",
    "\n",
    "## Visualization\n",
    "import matplotlib.pyplot as plt\n",
    "import seaborn as sns\n",
    "from IPython.display import display, Image\n",
    "\n",
    "## Modelling\n",
    "from tensorflow.keras.callbacks import CSVLogger, ModelCheckpoint, EarlyStopping\n",
    "import tensorflow as tf\n",
    "\n",
    "## Import DeepCTR code\n",
    "## This is done by cloning the github repository instead of installing with pip. This is because of an incompatibility issue\n",
    "## with TF 2.14 that I had to manually fix in the DeepCTR code\n",
    "deepctr_path = '/home/sagemaker-user/drl-ad-personalization/DeepCTR'\n",
    "if deepctr_path not in sys.path:\n",
    "    sys.path.append(deepctr_path)\n",
    "\n",
    "from deepctr.feature_column import SparseFeat, DenseFeat, get_feature_names\n",
    "from deepctr.models.deepfm import DeepFM\n",
    "\n",
    "## We want to be able to query the list of available adverts from athena, so we need a PyAthena connection\n",
    "from pyathena import connect\n",
    "conn = connect(s3_staging_dir='s3://mlds-final-project-bucket/athena_output/',\n",
    "               region_name='eu-west-2')"
   ]
  },
  {
   "cell_type": "markdown",
   "id": "da5a4dc1-c6dd-4daa-bdc4-0f7ad1b60b23",
   "metadata": {},
   "source": [
    "# Preprocessing"
   ]
  },
  {
   "cell_type": "code",
   "execution_count": 2,
   "id": "b4331cf3-c32b-4fe3-96e7-a390f55d84f8",
   "metadata": {},
   "outputs": [
    {
     "name": "stderr",
     "output_type": "stream",
     "text": [
      "2024-08-10 10:17:49.827781: W tensorflow/tsl/framework/cpu_allocator_impl.cc:83] Allocation of 21556640 exceeds 10% of free system memory.\n",
      "2024-08-10 10:18:33.362265: W tensorflow/tsl/framework/cpu_allocator_impl.cc:83] Allocation of 35729960 exceeds 10% of free system memory.\n"
     ]
    }
   ],
   "source": [
    "# Create lists of categorical colums for each dataset\n",
    "categorical_columns = [\n",
    "    'DisplayURL',\n",
    "    'AdID',\n",
    "    'AdvertiserID',\n",
    "    'QueryID',\n",
    "    'KeywordID',\n",
    "    'TitleID',\n",
    "    'DescriptionID',\n",
    "    'UserID'\n",
    "]\n",
    "\n",
    "# Import categorical feature mappings and define stringloohup objects for each dataset\n",
    "stringlookups = {}\n",
    "vocab_lengths = {}\n",
    "for field in categorical_columns:\n",
    "    df = pd.read_csv(f'./data/kdd12/categorical_value_counts/{field}.csv')\n",
    "    vocab = [elem.encode() for elem in df['field'].astype(str).to_list()]\n",
    "    lookup = StringLookup(vocabulary=vocab, mask_token=None)\n",
    "    stringlookups.update({field:lookup})\n",
    "    vocab_lengths.update({field:len(vocab)+1})\n",
    "\n",
    "# Define numerical feature columns\n",
    "numerical_columns = [\n",
    "    'Depth',\n",
    "    'Position'\n",
    "]\n",
    "# Extract scaler dicts for all datasets\n",
    "dist_stats = pd.read_csv('./data/kdd12/means_variances.csv')\n",
    "scalers = {}\n",
    "for i in range(len(dist_stats)):\n",
    "    field = dist_stats['field'][i]\n",
    "    mean = dist_stats['mean'][i]\n",
    "    variance = dist_stats['variance'][i]\n",
    "    scaler = Normalization(mean=mean, variance=variance)\n",
    "    scaler.build((1,))\n",
    "    scalers.update({field:scaler})"
   ]
  },
  {
   "cell_type": "code",
   "execution_count": 3,
   "id": "f7b97f76-bcaf-41f6-b9e3-474ead6e4f6e",
   "metadata": {},
   "outputs": [],
   "source": [
    "## Define feature mappings\n",
    "kdd12_fixlen_feature_columns = [SparseFeat(feat.lower(), vocabulary_size=vocab_lengths[feat], embedding_dim=4) for feat in categorical_columns]\\\n",
    "+ [DenseFeat(feat.lower(),1) for feat in numerical_columns]\n",
    "\n",
    "## Generate the dnn and linear feature columns\n",
    "kdd12_dnn_feature_columns = kdd12_fixlen_feature_columns\n",
    "kdd12_linear_feature_columns = kdd12_fixlen_feature_columns"
   ]
  },
  {
   "cell_type": "markdown",
   "id": "4f193b18-57cf-42af-ac03-28dada1a4f50",
   "metadata": {},
   "source": [
    "# Load Model"
   ]
  },
  {
   "cell_type": "code",
   "execution_count": 4,
   "id": "6c726443-dc54-4fc4-91be-3eedf3c1d0a2",
   "metadata": {},
   "outputs": [],
   "source": [
    "# Define the early stopping callback\n",
    "earlystopping = EarlyStopping(\n",
    "    monitor='val_loss',\n",
    "    patience=5,\n",
    "    restore_best_weights=True,\n",
    "    start_from_epoch=5\n",
    ")\n",
    "# Define the precision, recall and auc metrics\n",
    "precision = tf.keras.metrics.Precision(thresholds=0.5,name='precision')\n",
    "recall = tf.keras.metrics.Recall(thresholds=0.5,name='recall')\n",
    "auc = tf.keras.metrics.AUC(name='auc')"
   ]
  },
  {
   "cell_type": "code",
   "execution_count": 5,
   "id": "c4309484-3e8f-4dfb-b904-62c79823f5e0",
   "metadata": {},
   "outputs": [],
   "source": [
    "# Define function that returns compiled model\n",
    "def get_model(\n",
    "    dnn_hidden_units=[400,300,200],\n",
    "    dnn_dropout=0.6,\n",
    "    l2_reg_dnn=0.005,\n",
    "    l2_reg_linear = 0.005,\n",
    "    l2_reg_embedding=0.005,\n",
    "    dnn_use_bn=True\n",
    "):\n",
    "    model = DeepFM(\n",
    "        kdd12_linear_feature_columns,\n",
    "        kdd12_dnn_feature_columns,\n",
    "        dnn_hidden_units=dnn_hidden_units,\n",
    "        dnn_dropout=dnn_dropout,\n",
    "        l2_reg_dnn=l2_reg_dnn,\n",
    "        l2_reg_linear=l2_reg_linear,\n",
    "        l2_reg_embedding=l2_reg_embedding,\n",
    "        dnn_use_bn=dnn_use_bn\n",
    "    )\n",
    "    \n",
    "    # Compile the model\n",
    "    model.compile(\n",
    "        \"adam\", \n",
    "        \"binary_crossentropy\", \n",
    "        metrics=[\n",
    "            'binary_crossentropy',\n",
    "            'binary_accuracy',\n",
    "            precision,\n",
    "            recall,\n",
    "            auc\n",
    "        ],\n",
    "    )\n",
    "\n",
    "    return model"
   ]
  },
  {
   "cell_type": "code",
   "execution_count": 6,
   "id": "60484444-4373-4df6-ac33-635327681f84",
   "metadata": {},
   "outputs": [
    {
     "name": "stderr",
     "output_type": "stream",
     "text": [
      "2024-08-10 10:18:35.199852: W tensorflow/tsl/framework/cpu_allocator_impl.cc:83] Allocation of 17864984 exceeds 10% of free system memory.\n",
      "2024-08-10 10:18:35.240214: W tensorflow/tsl/framework/cpu_allocator_impl.cc:83] Allocation of 17864984 exceeds 10% of free system memory.\n",
      "2024-08-10 10:18:35.535687: W tensorflow/tsl/framework/cpu_allocator_impl.cc:83] Allocation of 15946336 exceeds 10% of free system memory.\n"
     ]
    }
   ],
   "source": [
    "# Get the model\n",
    "model = get_model()"
   ]
  },
  {
   "cell_type": "code",
   "execution_count": 7,
   "id": "751d18d7-50bc-4aed-ae59-b8209c123424",
   "metadata": {},
   "outputs": [
    {
     "data": {
      "text/plain": [
       "<tensorflow.python.checkpoint.checkpoint.CheckpointLoadStatus at 0x7ff3feb0e6b0>"
      ]
     },
     "execution_count": 7,
     "metadata": {},
     "output_type": "execute_result"
    }
   ],
   "source": [
    "# Load the weights\n",
    "model.load_weights('models/final_rl_model/rl_model.ckpt')"
   ]
  },
  {
   "cell_type": "code",
   "execution_count": 8,
   "id": "85ec024f-d270-431a-887e-43583bb85611",
   "metadata": {},
   "outputs": [],
   "source": [
    "target_model = get_model()\n",
    "target_model.set_weights(model.get_weights())"
   ]
  },
  {
   "cell_type": "markdown",
   "id": "0654c92a-d581-47f7-a6e6-d32086e57f5a",
   "metadata": {},
   "source": [
    "# Define Reinfocement Learning environment"
   ]
  },
  {
   "cell_type": "code",
   "execution_count": 47,
   "id": "02db99e4-e6a9-48fc-9572-740e7ea2353a",
   "metadata": {},
   "outputs": [],
   "source": [
    "# Define RL env object that simpulates the Ad search platform\n",
    "class RLenv:\n",
    "    \"\"\"\n",
    "    Base class for Reinforcement Learning environment that simulates the search session\n",
    "    \"\"\"\n",
    "\n",
    "    def __init__(self,):\n",
    "        self.session_no = 0\n",
    "        self.userid = \"\"\n",
    "        self.queryid = \"\"\n",
    "        self.adlist = pd.DataFrame()\n",
    "        self.position = 1\n",
    "\n",
    "    def newSession(self,):\n",
    "        self.session_no +=1\n",
    "        query_input = pd.read_sql(f\"select userid, queryid from kdd12.offline_rl_queries where rn={str(self.session_no)}\",conn)\n",
    "        self.userid = query_input[\"userid\"].values[0]\n",
    "        self.queryid = query_input[\"queryid\"].values[0]\n",
    "        self.adlist = pd.read_sql(f\"select * from kdd12.offline_rl_testing where userid='{self.userid}' and queryid='{self.queryid}'\",conn)\n",
    "        self.position = 1\n",
    "        return self.adlist.copy()\n",
    "\n",
    "    def getCurrentAdlist(self,):\n",
    "        return self.adlist.drop(columns=['clicks','impression'])\n",
    "\n",
    "    def showAd(self, ad):\n",
    "        self.position += 1\n",
    "        \n",
    "        # Get the ctr reward\n",
    "        ad_index = (self.adlist.drop(columns=['clicks','impression']) == ad).all(axis=1)\n",
    "        ctr = (self.adlist.loc[ad_index].clicks/self.adlist.loc[ad_index].impression).values[0]\n",
    "        if ctr>=0.5:\n",
    "            ctr_reward = 1.\n",
    "        else:\n",
    "            ctr_reward = 0.\n",
    "\n",
    "        # Remove the ad from the ad list\n",
    "        self.adlist = self.adlist.loc[~ad_index]\n",
    "\n",
    "        # return the CTR\n",
    "        return ctr_reward"
   ]
  },
  {
   "cell_type": "code",
   "execution_count": 48,
   "id": "4d8f1988-5ce9-492a-adee-d03f83cd4d9b",
   "metadata": {},
   "outputs": [],
   "source": [
    "rlenv = RLenv()\n",
    "session_ad_list = rlenv.newSession()"
   ]
  },
  {
   "cell_type": "code",
   "execution_count": 49,
   "id": "cfc83090-046f-4c1a-90e6-de64d4016d36",
   "metadata": {},
   "outputs": [
    {
     "data": {
      "text/html": [
       "<div>\n",
       "<style scoped>\n",
       "    .dataframe tbody tr th:only-of-type {\n",
       "        vertical-align: middle;\n",
       "    }\n",
       "\n",
       "    .dataframe tbody tr th {\n",
       "        vertical-align: top;\n",
       "    }\n",
       "\n",
       "    .dataframe thead th {\n",
       "        text-align: right;\n",
       "    }\n",
       "</style>\n",
       "<table border=\"1\" class=\"dataframe\">\n",
       "  <thead>\n",
       "    <tr style=\"text-align: right;\">\n",
       "      <th></th>\n",
       "      <th>clicks</th>\n",
       "      <th>impression</th>\n",
       "      <th>displayurl</th>\n",
       "      <th>adid</th>\n",
       "      <th>advertiserid</th>\n",
       "      <th>position</th>\n",
       "      <th>depth</th>\n",
       "      <th>keywordid</th>\n",
       "      <th>titleid</th>\n",
       "      <th>descriptionid</th>\n",
       "      <th>queryid</th>\n",
       "      <th>userid</th>\n",
       "    </tr>\n",
       "  </thead>\n",
       "  <tbody>\n",
       "    <tr>\n",
       "      <th>0</th>\n",
       "      <td>0</td>\n",
       "      <td>1</td>\n",
       "      <td>14340390157469404125</td>\n",
       "      <td>3126839</td>\n",
       "      <td>23777</td>\n",
       "      <td>1</td>\n",
       "      <td>1</td>\n",
       "      <td>19254486</td>\n",
       "      <td>13232</td>\n",
       "      <td>20347</td>\n",
       "      <td>19562</td>\n",
       "      <td>42487</td>\n",
       "    </tr>\n",
       "    <tr>\n",
       "      <th>1</th>\n",
       "      <td>0</td>\n",
       "      <td>1</td>\n",
       "      <td>14340390157469404125</td>\n",
       "      <td>3126839</td>\n",
       "      <td>23777</td>\n",
       "      <td>1</td>\n",
       "      <td>1</td>\n",
       "      <td>11140198</td>\n",
       "      <td>13232</td>\n",
       "      <td>20347</td>\n",
       "      <td>19562</td>\n",
       "      <td>42487</td>\n",
       "    </tr>\n",
       "    <tr>\n",
       "      <th>2</th>\n",
       "      <td>0</td>\n",
       "      <td>2</td>\n",
       "      <td>14340390157469404125</td>\n",
       "      <td>3126839</td>\n",
       "      <td>23777</td>\n",
       "      <td>1</td>\n",
       "      <td>1</td>\n",
       "      <td>1027972</td>\n",
       "      <td>13232</td>\n",
       "      <td>20347</td>\n",
       "      <td>19562</td>\n",
       "      <td>42487</td>\n",
       "    </tr>\n",
       "    <tr>\n",
       "      <th>3</th>\n",
       "      <td>0</td>\n",
       "      <td>1</td>\n",
       "      <td>14340390157469404125</td>\n",
       "      <td>3126839</td>\n",
       "      <td>23777</td>\n",
       "      <td>1</td>\n",
       "      <td>1</td>\n",
       "      <td>2625210</td>\n",
       "      <td>13232</td>\n",
       "      <td>20347</td>\n",
       "      <td>19562</td>\n",
       "      <td>42487</td>\n",
       "    </tr>\n",
       "    <tr>\n",
       "      <th>4</th>\n",
       "      <td>1</td>\n",
       "      <td>1</td>\n",
       "      <td>14340390157469404125</td>\n",
       "      <td>3126839</td>\n",
       "      <td>23777</td>\n",
       "      <td>1</td>\n",
       "      <td>1</td>\n",
       "      <td>19504146</td>\n",
       "      <td>13232</td>\n",
       "      <td>20347</td>\n",
       "      <td>19562</td>\n",
       "      <td>42487</td>\n",
       "    </tr>\n",
       "  </tbody>\n",
       "</table>\n",
       "</div>"
      ],
      "text/plain": [
       "   clicks  impression            displayurl     adid advertiserid  position  \\\n",
       "0       0           1  14340390157469404125  3126839        23777         1   \n",
       "1       0           1  14340390157469404125  3126839        23777         1   \n",
       "2       0           2  14340390157469404125  3126839        23777         1   \n",
       "3       0           1  14340390157469404125  3126839        23777         1   \n",
       "4       1           1  14340390157469404125  3126839        23777         1   \n",
       "\n",
       "   depth keywordid titleid descriptionid queryid userid  \n",
       "0      1  19254486   13232         20347   19562  42487  \n",
       "1      1  11140198   13232         20347   19562  42487  \n",
       "2      1   1027972   13232         20347   19562  42487  \n",
       "3      1   2625210   13232         20347   19562  42487  \n",
       "4      1  19504146   13232         20347   19562  42487  "
      ]
     },
     "execution_count": 49,
     "metadata": {},
     "output_type": "execute_result"
    }
   ],
   "source": [
    "session_ad_list.head()"
   ]
  },
  {
   "cell_type": "code",
   "execution_count": 50,
   "id": "2ef75b1e-ad0c-4e23-94fc-150f35f56e1e",
   "metadata": {},
   "outputs": [],
   "source": [
    "current_ad_list = rlenv.getCurrentAdlist()"
   ]
  },
  {
   "cell_type": "code",
   "execution_count": 51,
   "id": "eb4019a6-eddb-4bec-9a14-a47b9c972844",
   "metadata": {},
   "outputs": [
    {
     "data": {
      "text/html": [
       "<div>\n",
       "<style scoped>\n",
       "    .dataframe tbody tr th:only-of-type {\n",
       "        vertical-align: middle;\n",
       "    }\n",
       "\n",
       "    .dataframe tbody tr th {\n",
       "        vertical-align: top;\n",
       "    }\n",
       "\n",
       "    .dataframe thead th {\n",
       "        text-align: right;\n",
       "    }\n",
       "</style>\n",
       "<table border=\"1\" class=\"dataframe\">\n",
       "  <thead>\n",
       "    <tr style=\"text-align: right;\">\n",
       "      <th></th>\n",
       "      <th>displayurl</th>\n",
       "      <th>adid</th>\n",
       "      <th>advertiserid</th>\n",
       "      <th>position</th>\n",
       "      <th>depth</th>\n",
       "      <th>keywordid</th>\n",
       "      <th>titleid</th>\n",
       "      <th>descriptionid</th>\n",
       "      <th>queryid</th>\n",
       "      <th>userid</th>\n",
       "    </tr>\n",
       "  </thead>\n",
       "  <tbody>\n",
       "    <tr>\n",
       "      <th>0</th>\n",
       "      <td>14340390157469404125</td>\n",
       "      <td>3126839</td>\n",
       "      <td>23777</td>\n",
       "      <td>1</td>\n",
       "      <td>1</td>\n",
       "      <td>19254486</td>\n",
       "      <td>13232</td>\n",
       "      <td>20347</td>\n",
       "      <td>19562</td>\n",
       "      <td>42487</td>\n",
       "    </tr>\n",
       "    <tr>\n",
       "      <th>1</th>\n",
       "      <td>14340390157469404125</td>\n",
       "      <td>3126839</td>\n",
       "      <td>23777</td>\n",
       "      <td>1</td>\n",
       "      <td>1</td>\n",
       "      <td>11140198</td>\n",
       "      <td>13232</td>\n",
       "      <td>20347</td>\n",
       "      <td>19562</td>\n",
       "      <td>42487</td>\n",
       "    </tr>\n",
       "    <tr>\n",
       "      <th>2</th>\n",
       "      <td>14340390157469404125</td>\n",
       "      <td>3126839</td>\n",
       "      <td>23777</td>\n",
       "      <td>1</td>\n",
       "      <td>1</td>\n",
       "      <td>1027972</td>\n",
       "      <td>13232</td>\n",
       "      <td>20347</td>\n",
       "      <td>19562</td>\n",
       "      <td>42487</td>\n",
       "    </tr>\n",
       "    <tr>\n",
       "      <th>3</th>\n",
       "      <td>14340390157469404125</td>\n",
       "      <td>3126839</td>\n",
       "      <td>23777</td>\n",
       "      <td>1</td>\n",
       "      <td>1</td>\n",
       "      <td>2625210</td>\n",
       "      <td>13232</td>\n",
       "      <td>20347</td>\n",
       "      <td>19562</td>\n",
       "      <td>42487</td>\n",
       "    </tr>\n",
       "    <tr>\n",
       "      <th>4</th>\n",
       "      <td>14340390157469404125</td>\n",
       "      <td>3126839</td>\n",
       "      <td>23777</td>\n",
       "      <td>1</td>\n",
       "      <td>1</td>\n",
       "      <td>19504146</td>\n",
       "      <td>13232</td>\n",
       "      <td>20347</td>\n",
       "      <td>19562</td>\n",
       "      <td>42487</td>\n",
       "    </tr>\n",
       "  </tbody>\n",
       "</table>\n",
       "</div>"
      ],
      "text/plain": [
       "             displayurl     adid advertiserid  position  depth keywordid  \\\n",
       "0  14340390157469404125  3126839        23777         1      1  19254486   \n",
       "1  14340390157469404125  3126839        23777         1      1  11140198   \n",
       "2  14340390157469404125  3126839        23777         1      1   1027972   \n",
       "3  14340390157469404125  3126839        23777         1      1   2625210   \n",
       "4  14340390157469404125  3126839        23777         1      1  19504146   \n",
       "\n",
       "  titleid descriptionid queryid userid  \n",
       "0   13232         20347   19562  42487  \n",
       "1   13232         20347   19562  42487  \n",
       "2   13232         20347   19562  42487  \n",
       "3   13232         20347   19562  42487  \n",
       "4   13232         20347   19562  42487  "
      ]
     },
     "execution_count": 51,
     "metadata": {},
     "output_type": "execute_result"
    }
   ],
   "source": [
    "current_ad_list.head()"
   ]
  },
  {
   "cell_type": "code",
   "execution_count": 52,
   "id": "d8eda663-1bd8-4eb8-a3a1-7cb52075c97b",
   "metadata": {},
   "outputs": [],
   "source": [
    "row = current_ad_list.loc[5]"
   ]
  },
  {
   "cell_type": "code",
   "execution_count": 53,
   "id": "9566593a-b098-48ef-a27d-02101593c692",
   "metadata": {},
   "outputs": [],
   "source": [
    "ctr_reward = rlenv.showAd(row)"
   ]
  },
  {
   "cell_type": "code",
   "execution_count": 54,
   "id": "48c8c39c-66dd-43fd-91b4-4c9a76fc03fe",
   "metadata": {},
   "outputs": [
    {
     "data": {
      "text/plain": [
       "1.0"
      ]
     },
     "execution_count": 54,
     "metadata": {},
     "output_type": "execute_result"
    }
   ],
   "source": [
    "ctr_reward"
   ]
  },
  {
   "cell_type": "code",
   "execution_count": 43,
   "id": "cc96ac32-5bf2-4b76-af55-2bd7ead04ceb",
   "metadata": {},
   "outputs": [],
   "source": [
    "ad_list = pd.read_sql(f\"select * from kdd12.offline_rl_testing where userid='42487' and queryid='19562'\",conn)"
   ]
  },
  {
   "cell_type": "code",
   "execution_count": 44,
   "id": "8a2bf70d-d3ea-4d0a-a21d-55a7660f6724",
   "metadata": {},
   "outputs": [
    {
     "data": {
      "text/html": [
       "<div>\n",
       "<style scoped>\n",
       "    .dataframe tbody tr th:only-of-type {\n",
       "        vertical-align: middle;\n",
       "    }\n",
       "\n",
       "    .dataframe tbody tr th {\n",
       "        vertical-align: top;\n",
       "    }\n",
       "\n",
       "    .dataframe thead th {\n",
       "        text-align: right;\n",
       "    }\n",
       "</style>\n",
       "<table border=\"1\" class=\"dataframe\">\n",
       "  <thead>\n",
       "    <tr style=\"text-align: right;\">\n",
       "      <th></th>\n",
       "      <th>clicks</th>\n",
       "      <th>impression</th>\n",
       "      <th>displayurl</th>\n",
       "      <th>adid</th>\n",
       "      <th>advertiserid</th>\n",
       "      <th>position</th>\n",
       "      <th>depth</th>\n",
       "      <th>keywordid</th>\n",
       "      <th>titleid</th>\n",
       "      <th>descriptionid</th>\n",
       "      <th>queryid</th>\n",
       "      <th>userid</th>\n",
       "    </tr>\n",
       "  </thead>\n",
       "  <tbody>\n",
       "    <tr>\n",
       "      <th>0</th>\n",
       "      <td>1</td>\n",
       "      <td>2</td>\n",
       "      <td>14340390157469404125</td>\n",
       "      <td>3126839</td>\n",
       "      <td>23777</td>\n",
       "      <td>1</td>\n",
       "      <td>1</td>\n",
       "      <td>19504042</td>\n",
       "      <td>13232</td>\n",
       "      <td>20347</td>\n",
       "      <td>19562</td>\n",
       "      <td>42487</td>\n",
       "    </tr>\n",
       "    <tr>\n",
       "      <th>1</th>\n",
       "      <td>0</td>\n",
       "      <td>1</td>\n",
       "      <td>14340390157469404125</td>\n",
       "      <td>3126839</td>\n",
       "      <td>23777</td>\n",
       "      <td>1</td>\n",
       "      <td>1</td>\n",
       "      <td>11140219</td>\n",
       "      <td>13232</td>\n",
       "      <td>20347</td>\n",
       "      <td>19562</td>\n",
       "      <td>42487</td>\n",
       "    </tr>\n",
       "    <tr>\n",
       "      <th>2</th>\n",
       "      <td>0</td>\n",
       "      <td>1</td>\n",
       "      <td>14340390157469404125</td>\n",
       "      <td>3126839</td>\n",
       "      <td>23777</td>\n",
       "      <td>1</td>\n",
       "      <td>1</td>\n",
       "      <td>19504073</td>\n",
       "      <td>13232</td>\n",
       "      <td>20347</td>\n",
       "      <td>19562</td>\n",
       "      <td>42487</td>\n",
       "    </tr>\n",
       "    <tr>\n",
       "      <th>3</th>\n",
       "      <td>0</td>\n",
       "      <td>1</td>\n",
       "      <td>14340390157469404125</td>\n",
       "      <td>3126839</td>\n",
       "      <td>23777</td>\n",
       "      <td>1</td>\n",
       "      <td>1</td>\n",
       "      <td>19254486</td>\n",
       "      <td>13232</td>\n",
       "      <td>20347</td>\n",
       "      <td>19562</td>\n",
       "      <td>42487</td>\n",
       "    </tr>\n",
       "    <tr>\n",
       "      <th>4</th>\n",
       "      <td>0</td>\n",
       "      <td>1</td>\n",
       "      <td>14340390157469404125</td>\n",
       "      <td>3126839</td>\n",
       "      <td>23777</td>\n",
       "      <td>1</td>\n",
       "      <td>1</td>\n",
       "      <td>11140198</td>\n",
       "      <td>13232</td>\n",
       "      <td>20347</td>\n",
       "      <td>19562</td>\n",
       "      <td>42487</td>\n",
       "    </tr>\n",
       "  </tbody>\n",
       "</table>\n",
       "</div>"
      ],
      "text/plain": [
       "   clicks  impression            displayurl     adid advertiserid  position  \\\n",
       "0       1           2  14340390157469404125  3126839        23777         1   \n",
       "1       0           1  14340390157469404125  3126839        23777         1   \n",
       "2       0           1  14340390157469404125  3126839        23777         1   \n",
       "3       0           1  14340390157469404125  3126839        23777         1   \n",
       "4       0           1  14340390157469404125  3126839        23777         1   \n",
       "\n",
       "   depth keywordid titleid descriptionid queryid userid  \n",
       "0      1  19504042   13232         20347   19562  42487  \n",
       "1      1  11140219   13232         20347   19562  42487  \n",
       "2      1  19504073   13232         20347   19562  42487  \n",
       "3      1  19254486   13232         20347   19562  42487  \n",
       "4      1  11140198   13232         20347   19562  42487  "
      ]
     },
     "execution_count": 44,
     "metadata": {},
     "output_type": "execute_result"
    }
   ],
   "source": [
    "ad_list.head()"
   ]
  },
  {
   "cell_type": "code",
   "execution_count": 45,
   "id": "1b4bcff4-35c7-486e-8c73-baedd736d328",
   "metadata": {},
   "outputs": [
    {
     "data": {
      "text/plain": [
       "2.0"
      ]
     },
     "execution_count": 45,
     "metadata": {},
     "output_type": "execute_result"
    }
   ],
   "source": [
    "np.where(ad_list.clicks/ad_list.impression >=0.5,1.,0.0).sum()"
   ]
  },
  {
   "cell_type": "code",
   "execution_count": null,
   "id": "6f49e75b-c8f3-4d91-b8ef-d9ff5bcc0948",
   "metadata": {},
   "outputs": [],
   "source": []
  }
 ],
 "metadata": {
  "kernelspec": {
   "display_name": "Python (mlds_gpu)",
   "language": "python",
   "name": "mlds_gpu"
  },
  "language_info": {
   "codemirror_mode": {
    "name": "ipython",
    "version": 3
   },
   "file_extension": ".py",
   "mimetype": "text/x-python",
   "name": "python",
   "nbconvert_exporter": "python",
   "pygments_lexer": "ipython3",
   "version": "3.10.14"
  }
 },
 "nbformat": 4,
 "nbformat_minor": 5
}
